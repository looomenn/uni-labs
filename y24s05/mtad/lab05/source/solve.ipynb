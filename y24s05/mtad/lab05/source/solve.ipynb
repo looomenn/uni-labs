{
 "cells": [
  {
   "cell_type": "code",
   "outputs": [
    {
     "name": "stdout",
     "output_type": "stream",
     "text": [
      "[+] Налаштування завершено\n"
     ]
    }
   ],
   "source": [
    "import pandas as pd\n",
    "import numpy as np\n",
    "from sklearn.preprocessing import StandardScaler\n",
    "from sklearn.model_selection import train_test_split\n",
    "from sklearn.neighbors import KNeighborsClassifier\n",
    "from sklearn.metrics import accuracy_score, classification_report\n",
    "from sklearn.model_selection import cross_val_score\n",
    "\n",
    "print('[+] Налаштування завершено')"
   ],
   "metadata": {
    "collapsed": false,
    "ExecuteTime": {
     "end_time": "2024-12-27T19:50:16.930548Z",
     "start_time": "2024-12-27T19:50:16.927151Z"
    }
   },
   "id": "initial_id",
   "execution_count": 115
  },
  {
   "cell_type": "code",
   "outputs": [],
   "source": [
    "def load_data(file_path: str) -> pd.DataFrame:\n",
    "    \"\"\"\n",
    "    Завантажує очищений датасет з вказаного шляху.\n",
    "\n",
    "    :param file_path: Шлях до CSV файлу очищеного датасету.\n",
    "    :return: DataFrame з завантаженими даними.\n",
    "    \"\"\"\n",
    "    try:\n",
    "        df = pd.read_csv(file_path)\n",
    "        print(\"[+] Дані успішно завантажені.\")\n",
    "        return df\n",
    "    except FileNotFoundError:\n",
    "        print(f\"[!] Файл за шляхом {file_path} не знайдено.\")\n",
    "        raise"
   ],
   "metadata": {
    "collapsed": false,
    "ExecuteTime": {
     "end_time": "2024-12-27T19:50:16.949721Z",
     "start_time": "2024-12-27T19:50:16.946215Z"
    }
   },
   "id": "9fdc3dedd41c12e0",
   "execution_count": 116
  },
  {
   "cell_type": "code",
   "outputs": [
    {
     "name": "stdout",
     "output_type": "stream",
     "text": [
      "[+] Дані успішно завантажені.\n"
     ]
    }
   ],
   "source": [
    "DATA_FILE: str = '../../lab03/source/sample.csv'\n",
    "DATAFRAME: pd.DataFrame = load_data(DATA_FILE)"
   ],
   "metadata": {
    "collapsed": false,
    "ExecuteTime": {
     "end_time": "2024-12-27T19:50:16.985957Z",
     "start_time": "2024-12-27T19:50:16.971758Z"
    }
   },
   "id": "a69f733e4894d37b",
   "execution_count": 117
  },
  {
   "cell_type": "code",
   "outputs": [],
   "source": [
    "def select_clusters(df: pd.DataFrame, cluster_column: str, top_n: int = 2) -> pd.DataFrame:\n",
    "    \"\"\"\n",
    "    Вибирає топ-N кластерів з найбільшою кількістю елементів.\n",
    "\n",
    "    :param df: Вхідний DataFrame з кластерними мітками.\n",
    "    :param cluster_column: Назва стовпця з кластерними мітками.\n",
    "    :param top_n: Кількість найбільших кластерів для вибору.\n",
    "    :return: DataFrame, що містить лише топ-N кластерів.\n",
    "    \"\"\"\n",
    "    top_clusters = df[cluster_column].value_counts().nlargest(top_n).index.tolist()\n",
    "    df_top = df[df[cluster_column].isin(top_clusters)].copy()\n",
    "    print(f\"Вибрано топ-{top_n} кластерів: {top_clusters}\")\n",
    "    return df_top"
   ],
   "metadata": {
    "collapsed": false,
    "ExecuteTime": {
     "end_time": "2024-12-27T19:50:16.990299Z",
     "start_time": "2024-12-27T19:50:16.986963Z"
    }
   },
   "id": "4b65e94a667c00b5",
   "execution_count": 118
  },
  {
   "cell_type": "code",
   "outputs": [
    {
     "name": "stdout",
     "output_type": "stream",
     "text": [
      "Вибрано топ-2 кластерів: [0, 1]\n"
     ]
    }
   ],
   "source": [
    "TOP_CLUSTERS = select_clusters(DATAFRAME, 'KMeans_Cluster')"
   ],
   "metadata": {
    "collapsed": false,
    "ExecuteTime": {
     "end_time": "2024-12-27T19:50:16.999325Z",
     "start_time": "2024-12-27T19:50:16.990299Z"
    }
   },
   "id": "fb5e9aace2b4f851",
   "execution_count": 119
  },
  {
   "cell_type": "code",
   "outputs": [],
   "source": [
    "def encode_clusters(df: pd.DataFrame, cluster_column: str) -> pd.DataFrame:\n",
    "    \"\"\"\n",
    "    Кодує кластерні мітки у бінарні класи.\n",
    "\n",
    "    :param df: Вхідний DataFrame з кластерними мітками.\n",
    "    :param cluster_column: Назва стовпця з кластерними мітками.\n",
    "    :return: DataFrame з доданим стовпцем 'Class'.\n",
    "    \"\"\"\n",
    "    clusters = df[cluster_column].unique()\n",
    "    if len(clusters) != 2:\n",
    "        raise ValueError(\"[!] Кількість кластерів для бінарної класифікації має бути рівною 2.\")\n",
    "\n",
    "    df['Class'] = df[cluster_column].apply(lambda x: 1 if x == clusters[0] else 0)\n",
    "    print(\"[+] Кластерні мітки успішно закодовані у бінарні класи.\")\n",
    "    return df"
   ],
   "metadata": {
    "collapsed": false,
    "ExecuteTime": {
     "end_time": "2024-12-27T19:50:17.004907Z",
     "start_time": "2024-12-27T19:50:17.000332Z"
    }
   },
   "id": "f9ea9489b078329e",
   "execution_count": 120
  },
  {
   "cell_type": "code",
   "outputs": [
    {
     "name": "stdout",
     "output_type": "stream",
     "text": [
      "[+] Кластерні мітки успішно закодовані у бінарні класи.\n"
     ]
    }
   ],
   "source": [
    "TOP_CLUSTERS = encode_clusters(TOP_CLUSTERS, 'KMeans_Cluster')"
   ],
   "metadata": {
    "collapsed": false,
    "ExecuteTime": {
     "end_time": "2024-12-27T19:50:17.013786Z",
     "start_time": "2024-12-27T19:50:17.004907Z"
    }
   },
   "id": "8355df68bfa3313d",
   "execution_count": 121
  },
  {
   "cell_type": "code",
   "outputs": [],
   "source": [
    "def scale_data(df: pd.DataFrame, feature_columns: list[str]) -> tuple[np.ndarray, StandardScaler]:\n",
    "    \"\"\"\n",
    "    Масштабує дані за допомогою стандартизації.\n",
    "\n",
    "    :param df: Вхідний DataFrame.\n",
    "    :param feature_columns: Список стовпців, що використовуються як ознаки.\n",
    "    :return: Кортеж (масштабовані дані, об'єкт скейлера).\n",
    "    \"\"\"\n",
    "    scaler = StandardScaler()\n",
    "    X_scaled = scaler.fit_transform(df[feature_columns])\n",
    "    print(\"Дані успішно масштабується.\")\n",
    "    return X_scaled, scaler"
   ],
   "metadata": {
    "collapsed": false,
    "ExecuteTime": {
     "end_time": "2024-12-27T19:50:17.019298Z",
     "start_time": "2024-12-27T19:50:17.013786Z"
    }
   },
   "id": "79eda1b3cb8c0996",
   "execution_count": 122
  },
  {
   "cell_type": "code",
   "outputs": [
    {
     "name": "stdout",
     "output_type": "stream",
     "text": [
      "Дані успішно масштабується.\n"
     ]
    }
   ],
   "source": [
    "feature_columns: list[str] = ['Value', 'Port Code']\n",
    "X_scaled, scaler = scale_data(TOP_CLUSTERS, feature_columns)"
   ],
   "metadata": {
    "collapsed": false,
    "ExecuteTime": {
     "end_time": "2024-12-27T19:50:17.028583Z",
     "start_time": "2024-12-27T19:50:17.019298Z"
    }
   },
   "id": "6d19491129841e15",
   "execution_count": 123
  },
  {
   "cell_type": "code",
   "outputs": [],
   "source": [
    "def split_data(X: np.ndarray, y: np.ndarray, test_size: float = 0.3, random_state: int = 42) -> tuple[\n",
    "    np.ndarray, np.ndarray, np.ndarray, np.ndarray]:\n",
    "    \"\"\"\n",
    "    Розділяє дані на навчальну та тестову вибірки.\n",
    "\n",
    "    :param X: Матриця ознак.\n",
    "    :param y: Вектор цільових значень.\n",
    "    :param test_size: Частка даних для тестової вибірки.\n",
    "    :param random_state: Випадковий стан для відтворюваності.\n",
    "    :return: Кортеж (X_train, X_test, y_train, y_test).\n",
    "    \"\"\"\n",
    "    return train_test_split(X, y, test_size=test_size, random_state=random_state)\n"
   ],
   "metadata": {
    "collapsed": false,
    "ExecuteTime": {
     "end_time": "2024-12-27T19:50:17.033174Z",
     "start_time": "2024-12-27T19:50:17.029092Z"
    }
   },
   "id": "595071915c410e9e",
   "execution_count": 124
  },
  {
   "cell_type": "code",
   "outputs": [
    {
     "name": "stdout",
     "output_type": "stream",
     "text": [
      "Розмір навчальної вибірки: (3544, 2)\n",
      "Розмір тестової вибірки: (1519, 2)\n"
     ]
    }
   ],
   "source": [
    "y: np.ndarray = TOP_CLUSTERS['Class'].values\n",
    "\n",
    "X_train: np.ndarray\n",
    "X_test: np.ndarray\n",
    "y_train: np.ndarray\n",
    "y_test: np.ndarray\n",
    "X_train, X_test, y_train, y_test = split_data(X_scaled, y)\n",
    "print(f\"Розмір навчальної вибірки: {X_train.shape}\")\n",
    "print(f\"Розмір тестової вибірки: {X_test.shape}\")"
   ],
   "metadata": {
    "collapsed": false,
    "ExecuteTime": {
     "end_time": "2024-12-27T19:50:17.041056Z",
     "start_time": "2024-12-27T19:50:17.033174Z"
    }
   },
   "id": "4bac2c721febe34d",
   "execution_count": 125
  },
  {
   "cell_type": "code",
   "outputs": [],
   "source": [
    "def find_optimal_k(X_train: np.ndarray, y_train: np.ndarray, X_test: np.ndarray, y_test: np.ndarray, min_k: int = 1,\n",
    "                   max_k: int = 20, target_accuracy: float = 0.85) -> int:\n",
    "    \"\"\"\n",
    "    Визначає оптимальну кількість сусідів (k), щоб досягти заданої точності.\n",
    "\n",
    "    :param X_train: Навчальна матриця ознак.\n",
    "    :param y_train: Навчальний вектор цільових значень.\n",
    "    :param X_test: Тестова матриця ознак.\n",
    "    :param y_test: Тестовий вектор цільових значень.\n",
    "    :param min_k: Мінімальне значення k.\n",
    "    :param max_k: Максимальне значення k.\n",
    "    :param target_accuracy: Цільова точність.\n",
    "    :return: Оптимальне значення k.\n",
    "    \"\"\"\n",
    "    for k in range(min_k, max_k + 1):\n",
    "        knn = KNeighborsClassifier(n_neighbors=k)\n",
    "        knn.fit(X_train, y_train)\n",
    "        y_pred = knn.predict(X_test)\n",
    "        acc = accuracy_score(y_test, y_pred)\n",
    "        print(f\"k={k}: Точність = {acc:.2f}\")\n",
    "        if acc >= target_accuracy:\n",
    "            print(f\"Оптимальне k = {k} з точністю {acc:.2f}\")\n",
    "            return k\n",
    "    print(\"Не вдалося досягти цільової точності з заданим діапазоном k.\")\n",
    "    return max_k"
   ],
   "metadata": {
    "collapsed": false,
    "ExecuteTime": {
     "end_time": "2024-12-27T19:50:17.047517Z",
     "start_time": "2024-12-27T19:50:17.041056Z"
    }
   },
   "id": "19074332c03a91d3",
   "execution_count": 126
  },
  {
   "cell_type": "code",
   "outputs": [
    {
     "name": "stdout",
     "output_type": "stream",
     "text": [
      "k=1: Точність = 1.00\n",
      "Оптимальне k = 1 з точністю 1.00\n"
     ]
    }
   ],
   "source": [
    "optimal_k: int = find_optimal_k(X_train, y_train, X_test, y_test)"
   ],
   "metadata": {
    "collapsed": false,
    "ExecuteTime": {
     "end_time": "2024-12-27T19:50:17.091830Z",
     "start_time": "2024-12-27T19:50:17.047517Z"
    }
   },
   "id": "fd1d1cea1332df8b",
   "execution_count": 127
  },
  {
   "cell_type": "code",
   "outputs": [],
   "source": [
    "def train_knn(X_train: np.ndarray, y_train: np.ndarray, k: int) -> KNeighborsClassifier:\n",
    "    \"\"\"\n",
    "    Тренує модель K-Найближчих Сусідів.\n",
    "\n",
    "    :param X_train: Навчальна матриця ознак.\n",
    "    :param y_train: Навчальний вектор цільових значень.\n",
    "    :param k: Кількість сусідів.\n",
    "    :return: Навчена модель KNN.\n",
    "    \"\"\"\n",
    "    knn = KNeighborsClassifier(n_neighbors=k)\n",
    "    knn.fit(X_train, y_train)\n",
    "    print(f\"KNN модель з k={k} успішно натренована.\")\n",
    "    return knn"
   ],
   "metadata": {
    "collapsed": false,
    "ExecuteTime": {
     "end_time": "2024-12-27T19:50:17.096146Z",
     "start_time": "2024-12-27T19:50:17.092836Z"
    }
   },
   "id": "b090af9088554d4c",
   "execution_count": 128
  },
  {
   "cell_type": "code",
   "outputs": [
    {
     "name": "stdout",
     "output_type": "stream",
     "text": [
      "KNN модель з k=1 успішно натренована.\n"
     ]
    }
   ],
   "source": [
    "knn_model: KNeighborsClassifier = train_knn(X_train, y_train, optimal_k)"
   ],
   "metadata": {
    "collapsed": false,
    "ExecuteTime": {
     "end_time": "2024-12-27T19:50:17.104898Z",
     "start_time": "2024-12-27T19:50:17.096146Z"
    }
   },
   "id": "c290deb044160a00",
   "execution_count": 129
  },
  {
   "cell_type": "code",
   "outputs": [],
   "source": [
    "def evaluate(model: KNeighborsClassifier, X_test: np.ndarray, y_test: np.ndarray) -> None:\n",
    "    \"\"\"\n",
    "    Оцінює модель KNN на тестових даних та виводить точність та звіт класифікації.\n",
    "\n",
    "    :param model: Навчена модель KNN.\n",
    "    :param X_test: Тестова матриця ознак.\n",
    "    :param y_test: Тестовий вектор цільових значень.\n",
    "    \"\"\"\n",
    "    y_pred = model.predict(X_test)\n",
    "    accuracy = accuracy_score(y_test, y_pred)\n",
    "    print(f\"Точність класифікації на тестовій вибірці: {accuracy:.2f}\")\n",
    "    print(\"Звіт класифікації:\")\n",
    "    print(classification_report(y_test, y_pred))"
   ],
   "metadata": {
    "collapsed": false,
    "ExecuteTime": {
     "end_time": "2024-12-27T19:50:17.110721Z",
     "start_time": "2024-12-27T19:50:17.104898Z"
    }
   },
   "id": "57c1a1eadd3e895b",
   "execution_count": 130
  },
  {
   "cell_type": "code",
   "outputs": [
    {
     "name": "stdout",
     "output_type": "stream",
     "text": [
      "Точність класифікації на тестовій вибірці: 1.00\n",
      "Звіт класифікації:\n",
      "              precision    recall  f1-score   support\n",
      "\n",
      "           0       1.00      1.00      1.00       331\n",
      "           1       1.00      1.00      1.00      1188\n",
      "\n",
      "    accuracy                           1.00      1519\n",
      "   macro avg       1.00      1.00      1.00      1519\n",
      "weighted avg       1.00      1.00      1.00      1519\n"
     ]
    }
   ],
   "source": [
    "evaluate(knn_model, X_test, y_test)"
   ],
   "metadata": {
    "collapsed": false,
    "ExecuteTime": {
     "end_time": "2024-12-27T19:50:17.161407Z",
     "start_time": "2024-12-27T19:50:17.110721Z"
    }
   },
   "id": "71017322c843b4dc",
   "execution_count": 131
  },
  {
   "cell_type": "code",
   "outputs": [],
   "source": [
    "def cross_validation(model: KNeighborsClassifier, X: np.ndarray, y: np.ndarray, cv: int = 3) -> None:\n",
    "    \"\"\"\n",
    "    Виконує крос-валідацію моделі KNN.\n",
    "\n",
    "    :param model: Модель KNN.\n",
    "    :param X: Матриця ознак.\n",
    "    :param y: Вектор цільових значень.\n",
    "    :param cv: Кількість блоків для крос-валідації.\n",
    "    \"\"\"\n",
    "    scores = cross_val_score(model, X, y, cv=cv, scoring='accuracy')\n",
    "    print(f\"Крос-валідація з {cv} блоками:\")\n",
    "    for fold, score in enumerate(scores, 1):\n",
    "        print(f\"Блок {fold}: Точність = {score:.2f}\")\n",
    "    print(f\"Середня точність: {scores.mean():.2f}\")\n",
    "    print(f\"Стандартне відхилення точності: {scores.std():.2f}\")"
   ],
   "metadata": {
    "collapsed": false,
    "ExecuteTime": {
     "end_time": "2024-12-27T19:50:17.166041Z",
     "start_time": "2024-12-27T19:50:17.162415Z"
    }
   },
   "id": "67e51594ba78996d",
   "execution_count": 132
  },
  {
   "cell_type": "code",
   "outputs": [
    {
     "name": "stdout",
     "output_type": "stream",
     "text": [
      "Крос-валідація з 3 блоками:\n",
      "Блок 1: Точність = 1.00\n",
      "Блок 2: Точність = 1.00\n",
      "Блок 3: Точність = 1.00\n",
      "Середня точність: 1.00\n",
      "Стандартне відхилення точності: 0.00\n"
     ]
    }
   ],
   "source": [
    "cross_validation(knn_model, X_scaled, y, cv=3)"
   ],
   "metadata": {
    "collapsed": false,
    "ExecuteTime": {
     "end_time": "2024-12-27T19:50:17.299622Z",
     "start_time": "2024-12-27T19:50:17.166041Z"
    }
   },
   "id": "ae7217dd866240c8",
   "execution_count": 133
  }
 ],
 "metadata": {
  "kernelspec": {
   "display_name": "Python 3",
   "language": "python",
   "name": "python3"
  },
  "language_info": {
   "codemirror_mode": {
    "name": "ipython",
    "version": 2
   },
   "file_extension": ".py",
   "mimetype": "text/x-python",
   "name": "python",
   "nbconvert_exporter": "python",
   "pygments_lexer": "ipython2",
   "version": "2.7.6"
  }
 },
 "nbformat": 4,
 "nbformat_minor": 5
}
