{
 "cells": [
  {
   "cell_type": "markdown",
   "source": [
    "Import necessary libs"
   ],
   "metadata": {
    "collapsed": false
   },
   "id": "3771d3fa19f09489"
  },
  {
   "cell_type": "code",
   "outputs": [],
   "source": [
    "import os\n",
    "import re\n",
    "import json\n",
    "import requests\n",
    "import pandas as pd\n",
    "import province_mapper\n",
    "\n",
    "from datetime import datetime\n",
    "from bs4 import BeautifulSoup\n",
    "\n",
    "print('[+] Successful setup...')"
   ],
   "metadata": {
    "collapsed": false
   },
   "id": "f90da9b3135e0d43",
   "execution_count": null
  },
  {
   "cell_type": "markdown",
   "source": [
    "Defining global variables"
   ],
   "metadata": {
    "collapsed": false
   },
   "id": "e68dc5d4e408c8a6"
  },
  {
   "cell_type": "code",
   "outputs": [],
   "source": [
    "PROVINCES_COUNT: int = 27\n",
    "DUMP_FOLDER: str = 'vhi_dump'\n",
    "PROVINCES_MAP: dict = province_mapper.get_mapped_provinces()\n",
    "\n",
    "print(json.dumps(PROVINCES_MAP, indent=4))"
   ],
   "metadata": {
    "collapsed": false
   },
   "id": "863a8677c6d4af3",
   "execution_count": null
  },
  {
   "cell_type": "markdown",
   "source": [
    "Init destination folder"
   ],
   "metadata": {
    "collapsed": false
   },
   "id": "36deea7d571683a5"
  },
  {
   "cell_type": "code",
   "outputs": [],
   "source": [
    "def folder_init(folder_path: str, is_silent = False) -> None:\n",
    "    \"\"\"\n",
    "    Creates folder if it doesn't exist \n",
    "    :param folder_path: Path to the folder\n",
    "    :param is_silent: If true, will hide print about existing folder!\n",
    "    :return: None\n",
    "    \"\"\"\n",
    "    \n",
    "    if not os.path.exists(folder_path):\n",
    "        os.makedirs(folder_path)\n",
    "        print(f'[+] Created folder: {folder_path}')\n",
    "    else:\n",
    "        if not is_silent: \n",
    "            print(f'[x] Folder {folder_path} already exists!')\n",
    "    "
   ],
   "metadata": {
    "collapsed": false
   },
   "id": "71ae32ed8fc38b20",
   "execution_count": null
  },
  {
   "cell_type": "markdown",
   "source": [
    "File downloader (download handler)"
   ],
   "metadata": {
    "collapsed": false
   },
   "id": "e7bb52950f855e92"
  },
  {
   "cell_type": "code",
   "outputs": [],
   "source": [
    "def fetch(province_id: int, start_year: int, end_year: int) -> None:\n",
    "    \"\"\"\n",
    "    Fetches mean data from NOAA \n",
    "    :param province_id: Province ID based on the NOAA mapping\n",
    "    :param start_year: The starting year for the requested time series data Format: (YYYY)\n",
    "    :param end_year: The ending year for the requested time series data. Format: (YYYY)\n",
    "    :return: None\n",
    "    \"\"\"\n",
    "    \n",
    "    if not validate_id(province_id):\n",
    "        print('[!] Invalid province ID')\n",
    "        return\n",
    "    \n",
    "    mapped_province_id = PROVINCES_MAP[province_id][\"id\"]\n",
    "    mapped_province_name = PROVINCES_MAP[province_id][\"name\"]\n",
    "    \n",
    "    start_year, end_year = validate_years(start_year, end_year)\n",
    "    \n",
    "    if start_year is None or end_year is None: \n",
    "        return\n",
    "\n",
    "    print(f'[*] Fetching data:\\n\\t'\n",
    "          f'Province ID: {province_id} | {mapped_province_name}\\n\\t'\n",
    "          f'Start year: {start_year}\\n\\t'\n",
    "          f'End year: {end_year}')\n",
    "\n",
    "    url: str = f'https://www.star.nesdis.noaa.gov/smcd/emb/vci/VH/get_TS_admin.php?country=UKR&provinceID={province_id}&year1={start_year}&year2={end_year}&type=Mean'\n",
    "    \n",
    "    try:\n",
    "        req = requests.get(url)\n",
    "        \n",
    "        if req.status_code != 200:\n",
    "            print('[!] Request failed!')\n",
    "            return\n",
    "        \n",
    "        # clearing response from html tags\n",
    "        soup = BeautifulSoup(req.text, \"html.parser\")\n",
    "        clear_data = soup.get_text()\n",
    "        \n",
    "        # assembling the file name\n",
    "        timestamp = datetime.now().strftime('%Y-%m-%dT%H-%M')\n",
    "        filename = f'vhi_{mapped_province_id}_{timestamp}.csv'\n",
    "        \n",
    "        # Deleting last comma in the data series that makes useless shift\n",
    "        clear_data = re.sub(r',\\s*$', '', clear_data, flags=re.MULTILINE)\n",
    "        \n",
    "        # changing province id based on the real mapping\n",
    "        clear_data = re.sub(r\"Province= \\d+:\", f\"Province= {mapped_province_id}:\", clear_data)\n",
    "        print(f'[!] Province ID was changed to the real mapping: {province_id} (NOAA) -> {mapped_province_id} (UKR oblast centers mapping)')\n",
    "        \n",
    "        save(directory=DUMP_FOLDER, filename=filename, data=clear_data)\n",
    "        #print(clear_data)\n",
    "    \n",
    "    except Exception as err:\n",
    "        print(f'[!] Error happened: {err}')\n"
   ],
   "metadata": {
    "collapsed": false
   },
   "id": "5ef47bd93492adb3",
   "execution_count": null
  },
  {
   "cell_type": "markdown",
   "source": [
    "Function for years validation "
   ],
   "metadata": {
    "collapsed": false
   },
   "id": "4262a77a191f2c62"
  },
  {
   "cell_type": "code",
   "outputs": [],
   "source": [
    "def validate_years(start_year: int, end_year: int) -> (int, int):\n",
    "    \"\"\"\n",
    "    Checks if start_year and end_year are within the correct range\n",
    "    :param start_year: The starting year for the requested time series data Format: (YYYY)\n",
    "    :param end_year: The ending year for the requested time series data. Format: (YYYY). Set end_year to 9999 to validate only start_year for the format.\n",
    "    :return: A tuple of two integers if start_year and end_year passed all checks. \n",
    "    \"\"\"\n",
    "    current_year:int = datetime.today().year\n",
    "    year_pattern = r'^\\d{4}$'\n",
    "    \n",
    "    if not re.match(year_pattern, str(start_year)) or not re.match(year_pattern, str(end_year)):\n",
    "        print(f'[!] Invalid year format. Only allowed one is: YYYY (4 integers)')\n",
    "        return None, None\n",
    "    \n",
    "    if end_year == 9999 and start_year:\n",
    "        print(start_year)\n",
    "        return start_year\n",
    "    \n",
    "    if start_year < 2013:\n",
    "        print(f'[!] Start year should be greater or equal to 2013!')\n",
    "        return None, None\n",
    "    \n",
    "    if end_year >= current_year:\n",
    "        print(f'[!] For full data coverage, end_year({end_year}) should be less than current_year({current_year})!')\n",
    "        return None, None\n",
    "    \n",
    "    if start_year > end_year:\n",
    "        print(f'[!] start_year({start_year}) cannot be greater than end_year({end_year})')\n",
    "        return None, None\n",
    "    \n",
    "    print(f'[+] Successful years range validation!')\n",
    "    return start_year, end_year\n",
    "    "
   ],
   "metadata": {
    "collapsed": false
   },
   "id": "3e63fd2dd5271ab5",
   "execution_count": null
  },
  {
   "cell_type": "markdown",
   "source": [
    "Function for ID validation"
   ],
   "metadata": {
    "collapsed": false
   },
   "id": "d602f4001e6abf4a"
  },
  {
   "cell_type": "code",
   "outputs": [],
   "source": [
    "def validate_id(province_id: int) -> bool:\n",
    "    \"\"\"\n",
    "    Checks if given province_id is in the mapped dictionary\n",
    "    :param province_id: Province ID based on the NOAA mapping\n",
    "    :return: Bool \n",
    "    \"\"\"\n",
    "    \n",
    "    if province_id not in PROVINCES_MAP.keys():\n",
    "        return False\n",
    "    \n",
    "    print(f'[+] Successful ID validation!')\n",
    "    return True\n",
    "    "
   ],
   "metadata": {
    "collapsed": false
   },
   "id": "a50cecfba28b48f3",
   "execution_count": null
  },
  {
   "cell_type": "markdown",
   "source": [
    "File saver"
   ],
   "metadata": {
    "collapsed": false
   },
   "id": "4ede59083eba20c"
  },
  {
   "cell_type": "code",
   "outputs": [],
   "source": [
    "def save(directory: str, filename: str, data: str) -> None:\n",
    "    \"\"\"\n",
    "    Saves given data to the file in the specific dir\n",
    "    :param directory: Directory where the data is saved.\n",
    "    :param filename: Name of the file to save the data to.\n",
    "    :param data: Data to save.\n",
    "    :return: \n",
    "    \"\"\"\n",
    "    \n",
    "    folder_init(directory, is_silent=True)\n",
    "    \n",
    "    with open(f'{directory}/{filename}', 'w') as file:\n",
    "        file.write(data)\n",
    "        print(f'[+] Saved {filename} to {directory}/')\n",
    "        \n",
    "        file.close()\n",
    "    "
   ],
   "metadata": {
    "collapsed": false
   },
   "id": "cef53cc1ced34792",
   "execution_count": null
  },
  {
   "cell_type": "markdown",
   "source": [
    "Bulk file downloader"
   ],
   "metadata": {
    "collapsed": false
   },
   "id": "11dcf582fbef973c"
  },
  {
   "cell_type": "code",
   "outputs": [],
   "source": [
    "def fetch_bulk(start_id: int, end_id: int, start_year: int, end_year: int) -> None:\n",
    "    \"\"\"\n",
    "    Using fetch() to bulk-download VHI data for the specific range of regions\n",
    "    :param start_id: The starting province(region) ID (NOAA list) to download\n",
    "    :param end_id: The ending province(region) ID (NOAA list) to download\n",
    "    :param start_year: The starting year for the requested time series data Format: (YYYY)\n",
    "    :param end_year: The ending year for the requested time series data. Format: (YYYY)\n",
    "    :return: None\n",
    "    \"\"\"\n",
    "    \n",
    "    for i in range(start_id, end_id + 1):\n",
    "        print(f'[*] Fetch order: {i}')\n",
    "        try: \n",
    "            fetch(i, start_year, end_year)\n",
    "        except Exception as err:\n",
    "            print(f'[!] Error fetching: {err}')\n"
   ],
   "metadata": {
    "collapsed": false
   },
   "id": "701ac269a873d954",
   "execution_count": null
  },
  {
   "cell_type": "markdown",
   "source": [
    "Essentially, clears given directory (dump_folder, most of the time)"
   ],
   "metadata": {
    "collapsed": false
   },
   "id": "73b43804941c5d71"
  },
  {
   "cell_type": "code",
   "outputs": [],
   "source": [
    "def clear_dump_folder(directory: str) -> None:\n",
    "    \"\"\"\n",
    "    Cleans dump folder\n",
    "    :param directory: Path to the folder\n",
    "    :return: None\n",
    "    \"\"\"\n",
    "    \n",
    "    if not os.path.exists(directory):\n",
    "        print(f'[!] Directory does not exist!')\n",
    "        return\n",
    "    \n",
    "    for file in os.listdir(directory):\n",
    "        file_path = os.path.join(directory, file)\n",
    "        try:\n",
    "            if os.path.isfile(file_path) or os.path.islink(file_path):\n",
    "                os.unlink(file_path)\n",
    "                print(f'[*] Deleted file: {file_path}')\n",
    "        except Exception as err:\n",
    "             print(f\"[!] Failed to delete {file_path}. Reason: {err}\")\n"
   ],
   "metadata": {
    "collapsed": false
   },
   "id": "519e99afd71ab03f",
   "execution_count": null
  },
  {
   "cell_type": "markdown",
   "source": [
    "Function that creates dataframe from the `.csv` files in the given directory"
   ],
   "metadata": {
    "collapsed": false
   },
   "id": "27d793bfc850be9b"
  },
  {
   "cell_type": "code",
   "outputs": [],
   "source": [
    "def get_dataframe(directory: str) -> pd.DataFrame | None:\n",
    "    \"\"\"\n",
    "    Creates dataframe from the files in the directory\n",
    "    :param directory: Path to the directory\n",
    "    :return: Pandas dataframe\n",
    "    \"\"\"\n",
    "    \n",
    "    headers: list = ['Year', 'Week', 'SMN', 'SMT', 'VCI', 'TCI', 'VHI']\n",
    "    dataframes: list = []\n",
    "    \n",
    "    if not os.path.exists(directory):\n",
    "        print(f'[!] Directory does not exist!')\n",
    "        return\n",
    "    \n",
    "    for file in os.listdir(directory):\n",
    "        if not file.endswith('.csv'):\n",
    "            print(f'[!] File ({file}) is not a .csv. Skipping it!')\n",
    "            continue\n",
    "        file_path = os.path.join(directory, file)\n",
    "        \n",
    "        try:\n",
    "            df = pd.read_csv(file_path, header=1, names=headers, skiprows=1)\n",
    "            province_id = int(file.split('_')[1])\n",
    "            df.insert(0, 'PID', province_id, True)\n",
    "            dataframes.append(df)\n",
    "        except Exception as err:\n",
    "            print(f'[!] Failed to read {err}')\n",
    "    \n",
    "    if not dataframes:\n",
    "        raise Exception('No files found!')\n",
    "        \n",
    "    return pd.concat(dataframes, ignore_index=True) \n",
    "    "
   ],
   "metadata": {
    "collapsed": false
   },
   "id": "30d06b5285ecc22b",
   "execution_count": null
  },
  {
   "cell_type": "markdown",
   "source": [
    "Main entry point for the script. I love main(), even in the py notebook.... yes"
   ],
   "metadata": {
    "collapsed": false
   },
   "id": "f4ac111cdc3112a6"
  },
  {
   "cell_type": "code",
   "outputs": [],
   "source": [
    "# clearing dump folder\n",
    "clear_dump_folder(DUMP_FOLDER)\n",
    "    \n",
    "# bulk fetch for provinces from 1 to 4 (NOAA id list)\n",
    "fetch_bulk(1, 10, 2013, 2022)\n",
    "    \n",
    "# collecting files into the pandas dataframe\n",
    "df = get_dataframe(DUMP_FOLDER)"
   ],
   "metadata": {
    "collapsed": false
   },
   "id": "3d43860a68528796",
   "execution_count": null
  },
  {
   "cell_type": "markdown",
   "source": [],
   "metadata": {
    "collapsed": false
   },
   "id": "a2a19d707660a5ec"
  },
  {
   "cell_type": "code",
   "outputs": [],
   "source": [
    "df"
   ],
   "metadata": {
    "collapsed": false
   },
   "id": "2b5d317fa206ddd3",
   "execution_count": null
  },
  {
   "cell_type": "markdown",
   "source": [
    "    Function that returns VHI series for sepecific region within specific year "
   ],
   "metadata": {
    "collapsed": false
   },
   "id": "75fdbc33493223f0"
  },
  {
   "cell_type": "code",
   "outputs": [],
   "source": [
    "def get_vhi(dataframe: pd.DataFrame, province_id: int, year: int) -> pd.DataFrame | None:\n",
    "    \"\"\"\n",
    "    Returns VHI series for the specified region and year.\n",
    "    \n",
    "    :param dataframe: Pandas DataFrame containing the data.\n",
    "    :param province_id: Region ID as per 'PID' column in the DataFrame.\n",
    "    :param year: Year as integer to filter the VHI series.\n",
    "    :return: Pandas Series containing VHI values for the specified PID and year.\n",
    "    \"\"\"\n",
    "    \n",
    "    if province_id not in dataframe['PID'].unique():\n",
    "        print(f\"[!] PID {province_id} not found in the DataFrame.\")\n",
    "        return None\n",
    "\n",
    "    if year not in df['Year'].unique():\n",
    "        print(f\"[!] Year {year} not found in the DataFrame.\")\n",
    "        return None\n",
    "    \n",
    "    print(f' VHI data series for {province_id=} and {year=}')\n",
    "    \n",
    "    temp = dataframe[(dataframe['PID'] == province_id) & (dataframe['Year'] == year)]\n",
    "    \n",
    "    return temp['VHI'].reset_index(drop=True)\n",
    "    "
   ],
   "metadata": {
    "collapsed": false
   },
   "id": "4ad25699b1ec8af",
   "execution_count": null
  },
  {
   "cell_type": "code",
   "outputs": [],
   "source": [
    "get_vhi(df, 1, 2022)"
   ],
   "metadata": {
    "collapsed": false
   },
   "id": "5f6bd1b99fbbc4dc",
   "execution_count": null
  },
  {
   "cell_type": "code",
   "outputs": [],
   "source": [
    "def get_max_min_vhi(dataframe: pd.DataFrame, provinces: list, years: list) -> pd.DataFrame | None:\n",
    "    \"\"\"\n",
    "    Returns Min VHI and Max VHI series for the specified provinces and years\n",
    "    :param dataframe: Pandas DataFrame containing the data.\n",
    "    :param provinces: List of provinces id (real regional mapping)\n",
    "    :param years: List of years to retrieve\n",
    "    :return: Pandas DataFrame or Nothing if error occurs\n",
    "    \"\"\"\n",
    "    \n",
    "    if not set(provinces).issubset(dataframe['PID'].unique()):\n",
    "        print(\"[!] One or more specified provinces are not in the DataFrame.\")\n",
    "        print(f'[?] Possible PID in the given DateFrame: {suggest_values(dataframe)[0]}')\n",
    "        return None\n",
    "\n",
    "    if not set(years).issubset(dataframe['Year'].unique()):\n",
    "        print(\"[!] One or more specified years are not in the DataFrame.\")\n",
    "        print(f'[?] Possible years in the given DateFrame: {suggest_values(dataframe)[1]}')\n",
    "        return None\n",
    "    \n",
    "    result:list = []\n",
    "    \n",
    "    for pid in provinces: \n",
    "        for year in sorted(years):\n",
    "            \n",
    "            temp = dataframe[(dataframe['PID'] == pid) & (dataframe['Year'] == year)]\n",
    "            \n",
    "            if temp.empty:\n",
    "                continue\n",
    "            \n",
    "            min_vhi = temp['VHI'].min()\n",
    "            max_vhi = temp['VHI'].max()\n",
    "            \n",
    "            result.append({'Province ID': pid, \n",
    "                                    'Year': year, \n",
    "                                    'Min VHI': min_vhi, \n",
    "                                    'Max VHI': max_vhi})\n",
    "    \n",
    "    result = pd.DataFrame(result)\n",
    "    \n",
    "    return result if not result.empty else None\n",
    "    \n",
    "    "
   ],
   "metadata": {
    "collapsed": false
   },
   "id": "bae88e018df4f934",
   "execution_count": null
  },
  {
   "cell_type": "code",
   "outputs": [],
   "source": [
    "get_max_min_vhi(df, [1, 22, 24], [2019, 2022, 2014, 2017])"
   ],
   "metadata": {
    "collapsed": false
   },
   "id": "12d14967229533f7",
   "execution_count": null
  },
  {
   "cell_type": "markdown",
   "source": [
    "Some util function that suggests years and province ids based on the provided dataframe "
   ],
   "metadata": {
    "collapsed": false
   },
   "id": "161ce48f807df9df"
  },
  {
   "cell_type": "code",
   "outputs": [],
   "source": [
    "def suggest_values(dataframe: pd.DataFrame) -> (list, list):\n",
    "    \"\"\"\n",
    "    Returns the unique years and province IDs from the DataFrame\n",
    "    :param dataframe: Pandas DataFrame\n",
    "    :return: A tuple containing two lists of years and province ids\n",
    "    \"\"\"\n",
    "    \n",
    "    if dataframe.empty:\n",
    "        print(f'[!] DataFrame is empty :/')\n",
    "        return \n",
    "    \n",
    "    years = dataframe['Year'].unique().tolist()\n",
    "    ids = dataframe['PID'].unique().tolist()\n",
    "    \n",
    "    years.sort()\n",
    "    ids.sort()\n",
    "    \n",
    "    return ids, years"
   ],
   "metadata": {
    "collapsed": false
   },
   "id": "3be582599672eb2b",
   "execution_count": null
  },
  {
   "cell_type": "markdown",
   "source": [
    "Returns VHI series for the specified provinces and years"
   ],
   "metadata": {
    "collapsed": false
   },
   "id": "9168209f52649071"
  },
  {
   "cell_type": "code",
   "outputs": [],
   "source": [
    "def get_vhi_range(dataframe: pd.DataFrame, provinces: list, years: list) -> pd.DataFrame | None:\n",
    "    \"\"\"\n",
    "    Returns VHI series for the specified provinces and years\n",
    "    :param dataframe: Pandas DataFrame containing the data.\n",
    "    :param provinces: List of provinces id (real regional mapping)\n",
    "    :param years: List of years to retrieve\n",
    "    :return: Pandas DataFrame or Nothing if error occurs\n",
    "    \"\"\"\n",
    "    \n",
    "    if not set(provinces).issubset(dataframe['PID'].unique()):\n",
    "        print(\"[!] One or more specified provinces are not in the DataFrame.\")\n",
    "        print(f'[?] Possible PID in the given DateFrame: {suggest_values(dataframe)[0]}')\n",
    "        return None\n",
    "\n",
    "    if not set(years).issubset(dataframe['Year'].unique()):\n",
    "        print(\"[!] One or more specified years are not in the DataFrame.\")\n",
    "        print(f'[?] Possible years in the given DateFrame: {suggest_values(dataframe)[1]}')\n",
    "        return None\n",
    "    \n",
    "    result: pd.DataFrame = dataframe[dataframe['PID'].isin(provinces) & dataframe['Year'].isin(years)]\n",
    "    \n",
    "    if result.empty:\n",
    "        print(\"[!] Some error happened, so no data is returned.\")\n",
    "        return\n",
    "    \n",
    "    result = result[['PID', 'Year', 'Week', 'VHI']]\n",
    "    \n",
    "    return result\n",
    "    "
   ],
   "metadata": {
    "collapsed": false
   },
   "id": "d7428fdf1acd1fb7",
   "execution_count": null
  },
  {
   "cell_type": "code",
   "outputs": [],
   "source": [
    "get_vhi_range(df, [1, 22, 24], [2022, 2019])"
   ],
   "metadata": {
    "collapsed": false
   },
   "id": "3c74eded421e5e1e",
   "execution_count": null
  }
 ],
 "metadata": {
  "kernelspec": {
   "display_name": "Python 3",
   "language": "python",
   "name": "python3"
  },
  "language_info": {
   "codemirror_mode": {
    "name": "ipython",
    "version": 2
   },
   "file_extension": ".py",
   "mimetype": "text/x-python",
   "name": "python",
   "nbconvert_exporter": "python",
   "pygments_lexer": "ipython2",
   "version": "2.7.6"
  }
 },
 "nbformat": 4,
 "nbformat_minor": 5
}
