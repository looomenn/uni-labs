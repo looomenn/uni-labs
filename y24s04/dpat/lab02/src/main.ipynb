{
 "cells": [
  {
   "cell_type": "markdown",
   "source": [
    "Import necessary libs"
   ],
   "metadata": {
    "collapsed": false
   },
   "id": "3771d3fa19f09489"
  },
  {
   "cell_type": "code",
   "outputs": [
    {
     "name": "stdout",
     "output_type": "stream",
     "text": [
      "[+] Successful setup...\n"
     ]
    }
   ],
   "source": [
    "import os\n",
    "import re\n",
    "import json\n",
    "import requests\n",
    "import pandas as pd\n",
    "import province_mapper\n",
    "\n",
    "from datetime import datetime\n",
    "from bs4 import BeautifulSoup\n",
    "\n",
    "print('[+] Successful setup...')"
   ],
   "metadata": {
    "collapsed": false,
    "ExecuteTime": {
     "end_time": "2024-04-17T09:41:54.280712Z",
     "start_time": "2024-04-17T09:41:53.359286Z"
    }
   },
   "id": "f90da9b3135e0d43",
   "execution_count": 1
  },
  {
   "cell_type": "markdown",
   "source": [
    "Defining global variables"
   ],
   "metadata": {
    "collapsed": false
   },
   "id": "e68dc5d4e408c8a6"
  },
  {
   "cell_type": "code",
   "outputs": [
    {
     "name": "stdout",
     "output_type": "stream",
     "text": [
      "{\n",
      "    \"1\": {\n",
      "        \"name\": \"Cherkasy Region\",\n",
      "        \"id\": 24\n",
      "    },\n",
      "    \"2\": {\n",
      "        \"name\": \"Chernihiv Region\",\n",
      "        \"id\": 25\n",
      "    },\n",
      "    \"3\": {\n",
      "        \"name\": \"Chernivtsi Region\",\n",
      "        \"id\": 26\n",
      "    },\n",
      "    \"4\": {\n",
      "        \"name\": \"Republic of Crimea Region\",\n",
      "        \"id\": 1\n",
      "    },\n",
      "    \"5\": {\n",
      "        \"name\": \"Dnipropetrovsk Region\",\n",
      "        \"id\": 4\n",
      "    },\n",
      "    \"6\": {\n",
      "        \"name\": \"Donetsk Region\",\n",
      "        \"id\": 5\n",
      "    },\n",
      "    \"7\": {\n",
      "        \"name\": \"Ivano-Frankivsk Region\",\n",
      "        \"id\": 9\n",
      "    },\n",
      "    \"8\": {\n",
      "        \"name\": \"Kharkiv Region\",\n",
      "        \"id\": 21\n",
      "    },\n",
      "    \"9\": {\n",
      "        \"name\": \"Kherson Region\",\n",
      "        \"id\": 22\n",
      "    },\n",
      "    \"10\": {\n",
      "        \"name\": \"Khmelnytskyi Region\",\n",
      "        \"id\": 23\n",
      "    },\n",
      "    \"11\": {\n",
      "        \"name\": \"Kyiv Region\",\n",
      "        \"id\": 10\n",
      "    },\n",
      "    \"12\": {\n",
      "        \"name\": \"Kyiv City\",\n",
      "        \"id\": 11\n",
      "    },\n",
      "    \"13\": {\n",
      "        \"name\": \"Kirovohrad Region\",\n",
      "        \"id\": 12\n",
      "    },\n",
      "    \"14\": {\n",
      "        \"name\": \"Luhansk Region\",\n",
      "        \"id\": 13\n",
      "    },\n",
      "    \"15\": {\n",
      "        \"name\": \"Lviv Region\",\n",
      "        \"id\": 14\n",
      "    },\n",
      "    \"16\": {\n",
      "        \"name\": \"Mykolaiv Region\",\n",
      "        \"id\": 15\n",
      "    },\n",
      "    \"17\": {\n",
      "        \"name\": \"Odesa Region\",\n",
      "        \"id\": 16\n",
      "    },\n",
      "    \"18\": {\n",
      "        \"name\": \"Poltava Region\",\n",
      "        \"id\": 17\n",
      "    },\n",
      "    \"19\": {\n",
      "        \"name\": \"Rivne Region\",\n",
      "        \"id\": 18\n",
      "    },\n",
      "    \"20\": {\n",
      "        \"name\": \"Sevastopol Region\",\n",
      "        \"id\": 27\n",
      "    },\n",
      "    \"21\": {\n",
      "        \"name\": \"Sumy Region\",\n",
      "        \"id\": 19\n",
      "    },\n",
      "    \"23\": {\n",
      "        \"name\": \"Zakarpattia Region\",\n",
      "        \"id\": 7\n",
      "    },\n",
      "    \"24\": {\n",
      "        \"name\": \"Vinnytsia Region\",\n",
      "        \"id\": 2\n",
      "    },\n",
      "    \"25\": {\n",
      "        \"name\": \"Volyn Region\",\n",
      "        \"id\": 3\n",
      "    },\n",
      "    \"26\": {\n",
      "        \"name\": \"Zaporizhia Region\",\n",
      "        \"id\": 8\n",
      "    },\n",
      "    \"27\": {\n",
      "        \"name\": \"Zhytomyr Region\",\n",
      "        \"id\": 6\n",
      "    }\n",
      "}\n"
     ]
    }
   ],
   "source": [
    "PROVINCES_COUNT: int = 27\n",
    "DUMP_FOLDER: str = 'vhi_dump'\n",
    "PROVINCES_MAP: dict = province_mapper.get_mapped_provinces()\n",
    "\n",
    "print(json.dumps(PROVINCES_MAP, indent=4))"
   ],
   "metadata": {
    "collapsed": false,
    "ExecuteTime": {
     "end_time": "2024-04-17T09:41:54.284208Z",
     "start_time": "2024-04-17T09:41:54.281985Z"
    }
   },
   "id": "863a8677c6d4af3",
   "execution_count": 2
  },
  {
   "cell_type": "markdown",
   "source": [
    "Init destination folder"
   ],
   "metadata": {
    "collapsed": false
   },
   "id": "36deea7d571683a5"
  },
  {
   "cell_type": "code",
   "outputs": [],
   "source": [
    "def folder_init(folder_path: str, is_silent = False) -> None:\n",
    "    \"\"\"\n",
    "    Creates folder if it doesn't exist \n",
    "    :param folder_path: Path to the folder\n",
    "    :param is_silent: If true, will hide print about existing folder!\n",
    "    :return: None\n",
    "    \"\"\"\n",
    "    \n",
    "    if not os.path.exists(folder_path):\n",
    "        os.makedirs(folder_path)\n",
    "        print(f'[+] Created folder: {folder_path}')\n",
    "    else:\n",
    "        if not is_silent: \n",
    "            print(f'[x] Folder {folder_path} already exists!')\n",
    "    "
   ],
   "metadata": {
    "collapsed": false,
    "ExecuteTime": {
     "end_time": "2024-04-17T09:41:54.287328Z",
     "start_time": "2024-04-17T09:41:54.285053Z"
    }
   },
   "id": "71ae32ed8fc38b20",
   "execution_count": 3
  },
  {
   "cell_type": "markdown",
   "source": [
    "File downloader (download handler)"
   ],
   "metadata": {
    "collapsed": false
   },
   "id": "e7bb52950f855e92"
  },
  {
   "cell_type": "code",
   "outputs": [],
   "source": [
    "def fetch(province_id: int, start_year: int, end_year: int) -> None:\n",
    "    \"\"\"\n",
    "    Fetches mean data from NOAA \n",
    "    :param province_id: Province ID based on the NOAA mapping\n",
    "    :param start_year: The starting year for the requested time series data Format: (YYYY)\n",
    "    :param end_year: The ending year for the requested time series data. Format: (YYYY)\n",
    "    :return: None\n",
    "    \"\"\"\n",
    "    \n",
    "    if not validate_id(province_id):\n",
    "        print('[!] Invalid province ID')\n",
    "        return\n",
    "    \n",
    "    mapped_province_id = PROVINCES_MAP[province_id][\"id\"]\n",
    "    mapped_province_name = PROVINCES_MAP[province_id][\"name\"]\n",
    "    \n",
    "    start_year, end_year = validate_years(start_year, end_year)\n",
    "    \n",
    "    if start_year is None or end_year is None: \n",
    "        return\n",
    "\n",
    "    print(f'[*] Fetching data:\\n\\t'\n",
    "          f'Province ID: {province_id} | {mapped_province_name}\\n\\t'\n",
    "          f'Start year: {start_year}\\n\\t'\n",
    "          f'End year: {end_year}')\n",
    "\n",
    "    url: str = f'https://www.star.nesdis.noaa.gov/smcd/emb/vci/VH/get_TS_admin.php?country=UKR&provinceID={province_id}&year1={start_year}&year2={end_year}&type=Mean'\n",
    "    \n",
    "    try:\n",
    "        req = requests.get(url)\n",
    "        \n",
    "        if req.status_code != 200:\n",
    "            print('[!] Request failed!')\n",
    "            return\n",
    "        \n",
    "        # clearing response from html tags\n",
    "        soup = BeautifulSoup(req.text, \"html.parser\")\n",
    "        clear_data = soup.get_text()\n",
    "        \n",
    "        # assembling the file name\n",
    "        timestamp = datetime.now().strftime('%Y-%m-%dT%H-%M')\n",
    "        filename = f'vhi_{mapped_province_id}_{timestamp}.csv'\n",
    "        \n",
    "        # Deleting last comma in the data series that makes useless shift\n",
    "        clear_data = re.sub(r',\\s*$', '', clear_data, flags=re.MULTILINE)\n",
    "        \n",
    "        # changing province id based on the real mapping\n",
    "        clear_data = re.sub(r\"Province= \\d+:\", f\"Province= {mapped_province_id}:\", clear_data)\n",
    "        print(f'[!] Province ID was changed to the real mapping: {province_id} (NOAA) -> {mapped_province_id} (UKR oblast centers mapping)')\n",
    "        \n",
    "        save(directory=DUMP_FOLDER, filename=filename, data=clear_data)\n",
    "        #print(clear_data)\n",
    "    \n",
    "    except Exception as err:\n",
    "        raise Exception(f'[!] Error happened: {err}')\n"
   ],
   "metadata": {
    "collapsed": false,
    "ExecuteTime": {
     "end_time": "2024-04-17T09:41:54.292592Z",
     "start_time": "2024-04-17T09:41:54.288188Z"
    }
   },
   "id": "5ef47bd93492adb3",
   "execution_count": 4
  },
  {
   "cell_type": "markdown",
   "source": [
    "Function for years validation "
   ],
   "metadata": {
    "collapsed": false
   },
   "id": "4262a77a191f2c62"
  },
  {
   "cell_type": "code",
   "outputs": [],
   "source": [
    "def validate_years(start_year: int, end_year: int) -> (int, int):\n",
    "    \"\"\"\n",
    "    Checks if start_year and end_year are within the correct range\n",
    "    :param start_year: The starting year for the requested time series data Format: (YYYY)\n",
    "    :param end_year: The ending year for the requested time series data. Format: (YYYY). Set end_year to 9999 to validate only start_year for the format.\n",
    "    :return: A tuple of two integers if start_year and end_year passed all checks. \n",
    "    \"\"\"\n",
    "    current_year:int = datetime.today().year\n",
    "    year_pattern = r'^\\d{4}$'\n",
    "    \n",
    "    if not re.match(year_pattern, str(start_year)) or not re.match(year_pattern, str(end_year)):\n",
    "        print(f'[!] Invalid year format. Only allowed one is: YYYY (4 integers)')\n",
    "        return None, None\n",
    "    \n",
    "    if end_year == 9999 and start_year:\n",
    "        print(start_year)\n",
    "        return start_year\n",
    "    \n",
    "    if start_year < 2013:\n",
    "        print(f'[!] Start year should be greater or equal to 2013!')\n",
    "        return None, None\n",
    "    \n",
    "    if end_year >= current_year:\n",
    "        print(f'[!] For full data coverage, end_year({end_year}) should be less than current_year({current_year})!')\n",
    "        return None, None\n",
    "    \n",
    "    if start_year > end_year:\n",
    "        print(f'[!] start_year({start_year}) cannot be greater than end_year({end_year})')\n",
    "        return None, None\n",
    "    \n",
    "    print(f'[+] Successful years range validation!')\n",
    "    return start_year, end_year\n",
    "    "
   ],
   "metadata": {
    "collapsed": false,
    "ExecuteTime": {
     "end_time": "2024-04-17T09:41:54.298204Z",
     "start_time": "2024-04-17T09:41:54.294424Z"
    }
   },
   "id": "3e63fd2dd5271ab5",
   "execution_count": 5
  },
  {
   "cell_type": "markdown",
   "source": [
    "Function for ID validation"
   ],
   "metadata": {
    "collapsed": false
   },
   "id": "d602f4001e6abf4a"
  },
  {
   "cell_type": "code",
   "outputs": [],
   "source": [
    "def validate_id(province_id: int) -> bool:\n",
    "    \"\"\"\n",
    "    Checks if given province_id is in the mapped dictionary\n",
    "    :param province_id: Province ID based on the NOAA mapping\n",
    "    :return: Bool \n",
    "    \"\"\"\n",
    "    \n",
    "    if province_id not in PROVINCES_MAP.keys():\n",
    "        return False\n",
    "    \n",
    "    print(f'[+] Successful ID validation!')\n",
    "    return True\n",
    "    "
   ],
   "metadata": {
    "collapsed": false,
    "ExecuteTime": {
     "end_time": "2024-04-17T09:41:54.300733Z",
     "start_time": "2024-04-17T09:41:54.298896Z"
    }
   },
   "id": "a50cecfba28b48f3",
   "execution_count": 6
  },
  {
   "cell_type": "markdown",
   "source": [
    "File saver"
   ],
   "metadata": {
    "collapsed": false
   },
   "id": "4ede59083eba20c"
  },
  {
   "cell_type": "code",
   "outputs": [],
   "source": [
    "def save(directory: str, filename: str, data: str) -> None:\n",
    "    \"\"\"\n",
    "    Saves given data to the file in the specific dir\n",
    "    :param directory: Directory where the data is saved.\n",
    "    :param filename: Name of the file to save the data to.\n",
    "    :param data: Data to save.\n",
    "    :return: \n",
    "    \"\"\"\n",
    "    \n",
    "    folder_init(directory, is_silent=True)\n",
    "    \n",
    "    with open(f'{directory}/{filename}', 'w') as file:\n",
    "        file.write(data)\n",
    "        print(f'[+] Saved {filename} to {directory}/')\n",
    "        \n",
    "        file.close()\n",
    "    "
   ],
   "metadata": {
    "collapsed": false,
    "ExecuteTime": {
     "end_time": "2024-04-17T09:41:54.303850Z",
     "start_time": "2024-04-17T09:41:54.301366Z"
    }
   },
   "id": "cef53cc1ced34792",
   "execution_count": 7
  },
  {
   "cell_type": "markdown",
   "source": [
    "Bulk file downloader"
   ],
   "metadata": {
    "collapsed": false
   },
   "id": "11dcf582fbef973c"
  },
  {
   "cell_type": "code",
   "outputs": [],
   "source": [
    "def fetch_bulk(start_id: int, end_id: int, start_year: int, end_year: int) -> None:\n",
    "    \"\"\"\n",
    "    Using fetch() to bulk-download VHI data for the specific range of regions\n",
    "    :param start_id: The starting province(region) ID (NOAA list) to download\n",
    "    :param end_id: The ending province(region) ID (NOAA list) to download\n",
    "    :param start_year: The starting year for the requested time series data Format: (YYYY)\n",
    "    :param end_year: The ending year for the requested time series data. Format: (YYYY)\n",
    "    :return: None\n",
    "    \"\"\"\n",
    "    \n",
    "    for i in range(start_id, end_id + 1):\n",
    "        print(f'[*] Fetch order: {i}')\n",
    "        try: \n",
    "            fetch(i, start_year, end_year)\n",
    "        except Exception as err:\n",
    "            print(f'[!] Error fetching: {err}')\n"
   ],
   "metadata": {
    "collapsed": false,
    "ExecuteTime": {
     "end_time": "2024-04-17T09:41:54.307157Z",
     "start_time": "2024-04-17T09:41:54.304568Z"
    }
   },
   "id": "701ac269a873d954",
   "execution_count": 8
  },
  {
   "cell_type": "markdown",
   "source": [
    "Essentially, clears given directory (dump_folder, most of the time)"
   ],
   "metadata": {
    "collapsed": false
   },
   "id": "73b43804941c5d71"
  },
  {
   "cell_type": "code",
   "outputs": [],
   "source": [
    "def clear_dump_folder(directory: str) -> None:\n",
    "    \"\"\"\n",
    "    Cleans dump folder\n",
    "    :param directory: Path to the folder\n",
    "    :return: None\n",
    "    \"\"\"\n",
    "    \n",
    "    if not os.path.exists(directory):\n",
    "        print(f'[!] Directory does not exist!')\n",
    "        return\n",
    "    \n",
    "    for file in os.listdir(directory):\n",
    "        file_path = os.path.join(directory, file)\n",
    "        try:\n",
    "            if os.path.isfile(file_path) or os.path.islink(file_path):\n",
    "                os.unlink(file_path)\n",
    "                print(f'[*] Deleted file: {file_path}')\n",
    "        except Exception as err:\n",
    "             print(f\"[!] Failed to delete {file_path}. Reason: {err}\")\n"
   ],
   "metadata": {
    "collapsed": false,
    "ExecuteTime": {
     "end_time": "2024-04-17T09:41:54.310532Z",
     "start_time": "2024-04-17T09:41:54.307947Z"
    }
   },
   "id": "519e99afd71ab03f",
   "execution_count": 9
  },
  {
   "cell_type": "markdown",
   "source": [
    "Function that creates dataframe from the `.csv` files in the given directory"
   ],
   "metadata": {
    "collapsed": false
   },
   "id": "27d793bfc850be9b"
  },
  {
   "cell_type": "code",
   "outputs": [],
   "source": [
    "def get_dataframe(directory: str) -> pd.DataFrame | None:\n",
    "    \"\"\"\n",
    "    Creates dataframe from the files in the directory\n",
    "    :param directory: Path to the directory\n",
    "    :return: Pandas dataframe\n",
    "    \"\"\"\n",
    "    \n",
    "    headers: list = ['Year', 'Week', 'SMN', 'SMT', 'VCI', 'TCI', 'VHI']\n",
    "    dataframes: list = []\n",
    "    \n",
    "    if not os.path.exists(directory):\n",
    "        print(f'[!] Directory does not exist!')\n",
    "        return\n",
    "    \n",
    "    for file in os.listdir(directory):\n",
    "        if not file.endswith('.csv'):\n",
    "            print(f'[!] File ({file}) is not a .csv. Skipping it!')\n",
    "            continue\n",
    "        file_path = os.path.join(directory, file)\n",
    "        \n",
    "        try:\n",
    "            df = pd.read_csv(file_path, header=1, names=headers, skiprows=1)\n",
    "            province_id = int(file.split('_')[1])\n",
    "            df.insert(0, 'PID', province_id, True)\n",
    "            dataframes.append(df)\n",
    "        except Exception as err:\n",
    "            print(f'[!] Failed to read {err}')\n",
    "    \n",
    "    if not dataframes:\n",
    "        raise Exception('No files found!')\n",
    "        \n",
    "    return pd.concat(dataframes, ignore_index=True) \n",
    "    "
   ],
   "metadata": {
    "collapsed": false,
    "ExecuteTime": {
     "end_time": "2024-04-17T09:41:54.315466Z",
     "start_time": "2024-04-17T09:41:54.311820Z"
    }
   },
   "id": "30d06b5285ecc22b",
   "execution_count": 10
  },
  {
   "cell_type": "markdown",
   "source": [
    "Main entry point for the script. I love main(), even in the py notebook.... yes"
   ],
   "metadata": {
    "collapsed": false
   },
   "id": "f4ac111cdc3112a6"
  },
  {
   "cell_type": "code",
   "outputs": [
    {
     "name": "stdout",
     "output_type": "stream",
     "text": [
      "[*] Deleted file: vhi_dump/vhi_25_2024-04-16T21-48.csv\n",
      "[*] Deleted file: vhi_dump/vhi_24_2024-04-16T21-48.csv\n",
      "[*] Deleted file: vhi_dump/vhi_21_2024-04-16T21-48.csv\n",
      "[*] Deleted file: vhi_dump/vhi_9_2024-04-16T21-48.csv\n",
      "[*] Deleted file: vhi_dump/vhi_5_2024-04-16T21-48.csv\n",
      "[*] Deleted file: vhi_dump/vhi_22_2024-04-16T21-48.csv\n",
      "[*] Deleted file: vhi_dump/vhi_23_2024-04-16T21-48.csv\n",
      "[*] Deleted file: vhi_dump/vhi_4_2024-04-16T21-48.csv\n",
      "[*] Deleted file: vhi_dump/vhi_26_2024-04-16T21-48.csv\n",
      "[*] Deleted file: vhi_dump/vhi_1_2024-04-16T21-48.csv\n",
      "[*] Fetch order: 1\n",
      "[+] Successful ID validation!\n",
      "[+] Successful years range validation!\n",
      "[*] Fetching data:\n",
      "\tProvince ID: 1 | Cherkasy Region\n",
      "\tStart year: 2013\n",
      "\tEnd year: 2023\n",
      "[!] Province ID was changed to the real mapping: 1 (NOAA) -> 24 (UKR oblast centers mapping)\n",
      "[+] Saved vhi_24_2024-04-17T12-41.csv to vhi_dump/\n",
      "[*] Fetch order: 2\n",
      "[+] Successful ID validation!\n",
      "[+] Successful years range validation!\n",
      "[*] Fetching data:\n",
      "\tProvince ID: 2 | Chernihiv Region\n",
      "\tStart year: 2013\n",
      "\tEnd year: 2023\n",
      "[!] Province ID was changed to the real mapping: 2 (NOAA) -> 25 (UKR oblast centers mapping)\n",
      "[+] Saved vhi_25_2024-04-17T12-41.csv to vhi_dump/\n",
      "[*] Fetch order: 3\n",
      "[+] Successful ID validation!\n",
      "[+] Successful years range validation!\n",
      "[*] Fetching data:\n",
      "\tProvince ID: 3 | Chernivtsi Region\n",
      "\tStart year: 2013\n",
      "\tEnd year: 2023\n",
      "[!] Province ID was changed to the real mapping: 3 (NOAA) -> 26 (UKR oblast centers mapping)\n",
      "[+] Saved vhi_26_2024-04-17T12-41.csv to vhi_dump/\n",
      "[*] Fetch order: 4\n",
      "[+] Successful ID validation!\n",
      "[+] Successful years range validation!\n",
      "[*] Fetching data:\n",
      "\tProvince ID: 4 | Republic of Crimea Region\n",
      "\tStart year: 2013\n",
      "\tEnd year: 2023\n",
      "[!] Province ID was changed to the real mapping: 4 (NOAA) -> 1 (UKR oblast centers mapping)\n",
      "[+] Saved vhi_1_2024-04-17T12-41.csv to vhi_dump/\n",
      "[*] Fetch order: 5\n",
      "[+] Successful ID validation!\n",
      "[+] Successful years range validation!\n",
      "[*] Fetching data:\n",
      "\tProvince ID: 5 | Dnipropetrovsk Region\n",
      "\tStart year: 2013\n",
      "\tEnd year: 2023\n",
      "[!] Province ID was changed to the real mapping: 5 (NOAA) -> 4 (UKR oblast centers mapping)\n",
      "[+] Saved vhi_4_2024-04-17T12-41.csv to vhi_dump/\n",
      "[*] Fetch order: 6\n",
      "[+] Successful ID validation!\n",
      "[+] Successful years range validation!\n",
      "[*] Fetching data:\n",
      "\tProvince ID: 6 | Donetsk Region\n",
      "\tStart year: 2013\n",
      "\tEnd year: 2023\n",
      "[!] Province ID was changed to the real mapping: 6 (NOAA) -> 5 (UKR oblast centers mapping)\n",
      "[+] Saved vhi_5_2024-04-17T12-41.csv to vhi_dump/\n",
      "[*] Fetch order: 7\n",
      "[+] Successful ID validation!\n",
      "[+] Successful years range validation!\n",
      "[*] Fetching data:\n",
      "\tProvince ID: 7 | Ivano-Frankivsk Region\n",
      "\tStart year: 2013\n",
      "\tEnd year: 2023\n",
      "[!] Province ID was changed to the real mapping: 7 (NOAA) -> 9 (UKR oblast centers mapping)\n",
      "[+] Saved vhi_9_2024-04-17T12-42.csv to vhi_dump/\n",
      "[*] Fetch order: 8\n",
      "[+] Successful ID validation!\n",
      "[+] Successful years range validation!\n",
      "[*] Fetching data:\n",
      "\tProvince ID: 8 | Kharkiv Region\n",
      "\tStart year: 2013\n",
      "\tEnd year: 2023\n",
      "[!] Province ID was changed to the real mapping: 8 (NOAA) -> 21 (UKR oblast centers mapping)\n",
      "[+] Saved vhi_21_2024-04-17T12-42.csv to vhi_dump/\n",
      "[*] Fetch order: 9\n",
      "[+] Successful ID validation!\n",
      "[+] Successful years range validation!\n",
      "[*] Fetching data:\n",
      "\tProvince ID: 9 | Kherson Region\n",
      "\tStart year: 2013\n",
      "\tEnd year: 2023\n",
      "[!] Province ID was changed to the real mapping: 9 (NOAA) -> 22 (UKR oblast centers mapping)\n",
      "[+] Saved vhi_22_2024-04-17T12-42.csv to vhi_dump/\n",
      "[*] Fetch order: 10\n",
      "[+] Successful ID validation!\n",
      "[+] Successful years range validation!\n",
      "[*] Fetching data:\n",
      "\tProvince ID: 10 | Khmelnytskyi Region\n",
      "\tStart year: 2013\n",
      "\tEnd year: 2023\n",
      "[!] Province ID was changed to the real mapping: 10 (NOAA) -> 23 (UKR oblast centers mapping)\n",
      "[+] Saved vhi_23_2024-04-17T12-42.csv to vhi_dump/\n",
      "[*] Fetch order: 11\n",
      "[+] Successful ID validation!\n",
      "[+] Successful years range validation!\n",
      "[*] Fetching data:\n",
      "\tProvince ID: 11 | Kyiv Region\n",
      "\tStart year: 2013\n",
      "\tEnd year: 2023\n",
      "[!] Province ID was changed to the real mapping: 11 (NOAA) -> 10 (UKR oblast centers mapping)\n",
      "[+] Saved vhi_10_2024-04-17T12-42.csv to vhi_dump/\n",
      "[*] Fetch order: 12\n",
      "[+] Successful ID validation!\n",
      "[+] Successful years range validation!\n",
      "[*] Fetching data:\n",
      "\tProvince ID: 12 | Kyiv City\n",
      "\tStart year: 2013\n",
      "\tEnd year: 2023\n",
      "[!] Province ID was changed to the real mapping: 12 (NOAA) -> 11 (UKR oblast centers mapping)\n",
      "[+] Saved vhi_11_2024-04-17T12-42.csv to vhi_dump/\n",
      "[*] Fetch order: 13\n",
      "[+] Successful ID validation!\n",
      "[+] Successful years range validation!\n",
      "[*] Fetching data:\n",
      "\tProvince ID: 13 | Kirovohrad Region\n",
      "\tStart year: 2013\n",
      "\tEnd year: 2023\n",
      "[!] Province ID was changed to the real mapping: 13 (NOAA) -> 12 (UKR oblast centers mapping)\n",
      "[+] Saved vhi_12_2024-04-17T12-42.csv to vhi_dump/\n",
      "[*] Fetch order: 14\n",
      "[+] Successful ID validation!\n",
      "[+] Successful years range validation!\n",
      "[*] Fetching data:\n",
      "\tProvince ID: 14 | Luhansk Region\n",
      "\tStart year: 2013\n",
      "\tEnd year: 2023\n",
      "[!] Province ID was changed to the real mapping: 14 (NOAA) -> 13 (UKR oblast centers mapping)\n",
      "[+] Saved vhi_13_2024-04-17T12-42.csv to vhi_dump/\n",
      "[*] Fetch order: 15\n",
      "[+] Successful ID validation!\n",
      "[+] Successful years range validation!\n",
      "[*] Fetching data:\n",
      "\tProvince ID: 15 | Lviv Region\n",
      "\tStart year: 2013\n",
      "\tEnd year: 2023\n",
      "[!] Province ID was changed to the real mapping: 15 (NOAA) -> 14 (UKR oblast centers mapping)\n",
      "[+] Saved vhi_14_2024-04-17T12-42.csv to vhi_dump/\n",
      "[*] Fetch order: 16\n",
      "[+] Successful ID validation!\n",
      "[+] Successful years range validation!\n",
      "[*] Fetching data:\n",
      "\tProvince ID: 16 | Mykolaiv Region\n",
      "\tStart year: 2013\n",
      "\tEnd year: 2023\n",
      "[!] Province ID was changed to the real mapping: 16 (NOAA) -> 15 (UKR oblast centers mapping)\n",
      "[+] Saved vhi_15_2024-04-17T12-42.csv to vhi_dump/\n",
      "[*] Fetch order: 17\n",
      "[+] Successful ID validation!\n",
      "[+] Successful years range validation!\n",
      "[*] Fetching data:\n",
      "\tProvince ID: 17 | Odesa Region\n",
      "\tStart year: 2013\n",
      "\tEnd year: 2023\n",
      "[!] Province ID was changed to the real mapping: 17 (NOAA) -> 16 (UKR oblast centers mapping)\n",
      "[+] Saved vhi_16_2024-04-17T12-42.csv to vhi_dump/\n",
      "[*] Fetch order: 18\n",
      "[+] Successful ID validation!\n",
      "[+] Successful years range validation!\n",
      "[*] Fetching data:\n",
      "\tProvince ID: 18 | Poltava Region\n",
      "\tStart year: 2013\n",
      "\tEnd year: 2023\n",
      "[!] Province ID was changed to the real mapping: 18 (NOAA) -> 17 (UKR oblast centers mapping)\n",
      "[+] Saved vhi_17_2024-04-17T12-42.csv to vhi_dump/\n",
      "[*] Fetch order: 19\n",
      "[+] Successful ID validation!\n",
      "[+] Successful years range validation!\n",
      "[*] Fetching data:\n",
      "\tProvince ID: 19 | Rivne Region\n",
      "\tStart year: 2013\n",
      "\tEnd year: 2023\n",
      "[!] Province ID was changed to the real mapping: 19 (NOAA) -> 18 (UKR oblast centers mapping)\n",
      "[+] Saved vhi_18_2024-04-17T12-42.csv to vhi_dump/\n",
      "[*] Fetch order: 20\n",
      "[+] Successful ID validation!\n",
      "[+] Successful years range validation!\n",
      "[*] Fetching data:\n",
      "\tProvince ID: 20 | Sevastopol Region\n",
      "\tStart year: 2013\n",
      "\tEnd year: 2023\n",
      "[!] Province ID was changed to the real mapping: 20 (NOAA) -> 27 (UKR oblast centers mapping)\n",
      "[+] Saved vhi_27_2024-04-17T12-42.csv to vhi_dump/\n",
      "[*] Fetch order: 21\n",
      "[+] Successful ID validation!\n",
      "[+] Successful years range validation!\n",
      "[*] Fetching data:\n",
      "\tProvince ID: 21 | Sumy Region\n",
      "\tStart year: 2013\n",
      "\tEnd year: 2023\n",
      "[!] Province ID was changed to the real mapping: 21 (NOAA) -> 19 (UKR oblast centers mapping)\n",
      "[+] Saved vhi_19_2024-04-17T12-42.csv to vhi_dump/\n",
      "[*] Fetch order: 22\n",
      "[!] Invalid province ID\n",
      "[*] Fetch order: 23\n",
      "[+] Successful ID validation!\n",
      "[+] Successful years range validation!\n",
      "[*] Fetching data:\n",
      "\tProvince ID: 23 | Zakarpattia Region\n",
      "\tStart year: 2013\n",
      "\tEnd year: 2023\n",
      "[!] Province ID was changed to the real mapping: 23 (NOAA) -> 7 (UKR oblast centers mapping)\n",
      "[+] Saved vhi_7_2024-04-17T12-42.csv to vhi_dump/\n",
      "[*] Fetch order: 24\n",
      "[+] Successful ID validation!\n",
      "[+] Successful years range validation!\n",
      "[*] Fetching data:\n",
      "\tProvince ID: 24 | Vinnytsia Region\n",
      "\tStart year: 2013\n",
      "\tEnd year: 2023\n",
      "[!] Province ID was changed to the real mapping: 24 (NOAA) -> 2 (UKR oblast centers mapping)\n",
      "[+] Saved vhi_2_2024-04-17T12-42.csv to vhi_dump/\n",
      "[*] Fetch order: 25\n",
      "[+] Successful ID validation!\n",
      "[+] Successful years range validation!\n",
      "[*] Fetching data:\n",
      "\tProvince ID: 25 | Volyn Region\n",
      "\tStart year: 2013\n",
      "\tEnd year: 2023\n",
      "[!] Province ID was changed to the real mapping: 25 (NOAA) -> 3 (UKR oblast centers mapping)\n",
      "[+] Saved vhi_3_2024-04-17T12-42.csv to vhi_dump/\n",
      "[*] Fetch order: 26\n",
      "[+] Successful ID validation!\n",
      "[+] Successful years range validation!\n",
      "[*] Fetching data:\n",
      "\tProvince ID: 26 | Zaporizhia Region\n",
      "\tStart year: 2013\n",
      "\tEnd year: 2023\n",
      "[!] Province ID was changed to the real mapping: 26 (NOAA) -> 8 (UKR oblast centers mapping)\n",
      "[+] Saved vhi_8_2024-04-17T12-42.csv to vhi_dump/\n",
      "[*] Fetch order: 27\n",
      "[+] Successful ID validation!\n",
      "[+] Successful years range validation!\n",
      "[*] Fetching data:\n",
      "\tProvince ID: 27 | Zhytomyr Region\n",
      "\tStart year: 2013\n",
      "\tEnd year: 2023\n",
      "[!] Province ID was changed to the real mapping: 27 (NOAA) -> 6 (UKR oblast centers mapping)\n",
      "[+] Saved vhi_6_2024-04-17T12-42.csv to vhi_dump/\n"
     ]
    }
   ],
   "source": [
    "# clearing dump folder\n",
    "clear_dump_folder(DUMP_FOLDER)\n",
    "    \n",
    "# bulk fetch for provinces from 1 to 4 (NOAA id list)\n",
    "fetch_bulk(1, PROVINCES_COUNT, 2013, 2023)\n",
    "    \n",
    "# collecting files into the pandas dataframe\n",
    "df = get_dataframe(DUMP_FOLDER)"
   ],
   "metadata": {
    "collapsed": false,
    "ExecuteTime": {
     "end_time": "2024-04-17T09:42:13.176753Z",
     "start_time": "2024-04-17T09:41:54.316322Z"
    }
   },
   "id": "3d43860a68528796",
   "execution_count": 11
  },
  {
   "cell_type": "code",
   "outputs": [
    {
     "data": {
      "text/plain": "       PID  Year  Week    SMN     SMT    VCI    TCI    VHI\n0       21  2013     2  0.042  253.42  53.83  59.87  56.85\n1       21  2013     3  0.042  253.26  52.90  60.89  56.90\n2       21  2013     4  0.045  253.89  55.97  63.09  59.53\n3       21  2013     5  0.050  256.28  55.71  59.10  57.40\n4       21  2013     6  0.058  259.88  55.67  48.78  52.22\n...    ...   ...   ...    ...     ...    ...    ...    ...\n14841   22  2023    48  0.101  277.36  37.50  15.86  26.68\n14842   22  2023    49  0.097  275.73  38.12  16.77  27.45\n14843   22  2023    50  0.097  275.42  40.98  13.16  27.07\n14844   22  2023    51  0.097  274.98  43.98  11.14  27.56\n14845   22  2023    52  0.098  274.62  47.00  10.39  28.70\n\n[14846 rows x 8 columns]",
      "text/html": "<div>\n<style scoped>\n    .dataframe tbody tr th:only-of-type {\n        vertical-align: middle;\n    }\n\n    .dataframe tbody tr th {\n        vertical-align: top;\n    }\n\n    .dataframe thead th {\n        text-align: right;\n    }\n</style>\n<table border=\"1\" class=\"dataframe\">\n  <thead>\n    <tr style=\"text-align: right;\">\n      <th></th>\n      <th>PID</th>\n      <th>Year</th>\n      <th>Week</th>\n      <th>SMN</th>\n      <th>SMT</th>\n      <th>VCI</th>\n      <th>TCI</th>\n      <th>VHI</th>\n    </tr>\n  </thead>\n  <tbody>\n    <tr>\n      <th>0</th>\n      <td>21</td>\n      <td>2013</td>\n      <td>2</td>\n      <td>0.042</td>\n      <td>253.42</td>\n      <td>53.83</td>\n      <td>59.87</td>\n      <td>56.85</td>\n    </tr>\n    <tr>\n      <th>1</th>\n      <td>21</td>\n      <td>2013</td>\n      <td>3</td>\n      <td>0.042</td>\n      <td>253.26</td>\n      <td>52.90</td>\n      <td>60.89</td>\n      <td>56.90</td>\n    </tr>\n    <tr>\n      <th>2</th>\n      <td>21</td>\n      <td>2013</td>\n      <td>4</td>\n      <td>0.045</td>\n      <td>253.89</td>\n      <td>55.97</td>\n      <td>63.09</td>\n      <td>59.53</td>\n    </tr>\n    <tr>\n      <th>3</th>\n      <td>21</td>\n      <td>2013</td>\n      <td>5</td>\n      <td>0.050</td>\n      <td>256.28</td>\n      <td>55.71</td>\n      <td>59.10</td>\n      <td>57.40</td>\n    </tr>\n    <tr>\n      <th>4</th>\n      <td>21</td>\n      <td>2013</td>\n      <td>6</td>\n      <td>0.058</td>\n      <td>259.88</td>\n      <td>55.67</td>\n      <td>48.78</td>\n      <td>52.22</td>\n    </tr>\n    <tr>\n      <th>...</th>\n      <td>...</td>\n      <td>...</td>\n      <td>...</td>\n      <td>...</td>\n      <td>...</td>\n      <td>...</td>\n      <td>...</td>\n      <td>...</td>\n    </tr>\n    <tr>\n      <th>14841</th>\n      <td>22</td>\n      <td>2023</td>\n      <td>48</td>\n      <td>0.101</td>\n      <td>277.36</td>\n      <td>37.50</td>\n      <td>15.86</td>\n      <td>26.68</td>\n    </tr>\n    <tr>\n      <th>14842</th>\n      <td>22</td>\n      <td>2023</td>\n      <td>49</td>\n      <td>0.097</td>\n      <td>275.73</td>\n      <td>38.12</td>\n      <td>16.77</td>\n      <td>27.45</td>\n    </tr>\n    <tr>\n      <th>14843</th>\n      <td>22</td>\n      <td>2023</td>\n      <td>50</td>\n      <td>0.097</td>\n      <td>275.42</td>\n      <td>40.98</td>\n      <td>13.16</td>\n      <td>27.07</td>\n    </tr>\n    <tr>\n      <th>14844</th>\n      <td>22</td>\n      <td>2023</td>\n      <td>51</td>\n      <td>0.097</td>\n      <td>274.98</td>\n      <td>43.98</td>\n      <td>11.14</td>\n      <td>27.56</td>\n    </tr>\n    <tr>\n      <th>14845</th>\n      <td>22</td>\n      <td>2023</td>\n      <td>52</td>\n      <td>0.098</td>\n      <td>274.62</td>\n      <td>47.00</td>\n      <td>10.39</td>\n      <td>28.70</td>\n    </tr>\n  </tbody>\n</table>\n<p>14846 rows × 8 columns</p>\n</div>"
     },
     "execution_count": 12,
     "metadata": {},
     "output_type": "execute_result"
    }
   ],
   "source": [
    "df"
   ],
   "metadata": {
    "collapsed": false,
    "ExecuteTime": {
     "end_time": "2024-04-17T09:42:13.201918Z",
     "start_time": "2024-04-17T09:42:13.180085Z"
    }
   },
   "id": "2b5d317fa206ddd3",
   "execution_count": 12
  },
  {
   "cell_type": "markdown",
   "source": [
    "Function that returns VHI series for sepecific region within specific year "
   ],
   "metadata": {
    "collapsed": false
   },
   "id": "75fdbc33493223f0"
  },
  {
   "cell_type": "code",
   "outputs": [],
   "source": [
    "def get_vhi(dataframe: pd.DataFrame, province_id: int, year: int) -> pd.DataFrame | None:\n",
    "    \"\"\"\n",
    "    Returns VHI series for the specified region and year.\n",
    "    \n",
    "    :param dataframe: Pandas DataFrame containing the data.\n",
    "    :param province_id: Region ID as per 'PID' column in the DataFrame.\n",
    "    :param year: Year as integer to filter the VHI series.\n",
    "    :return: Pandas Series containing VHI values for the specified PID and year.\n",
    "    \"\"\"\n",
    "    \n",
    "    if province_id not in dataframe['PID'].unique():\n",
    "        print(f\"[!] PID {province_id} not found in the DataFrame.\")\n",
    "        return None\n",
    "\n",
    "    if year not in df['Year'].unique():\n",
    "        print(f\"[!] Year {year} not found in the DataFrame.\")\n",
    "        return None\n",
    "    \n",
    "    print(f' VHI data series for {province_id=} and {year=}')\n",
    "    \n",
    "    temp = dataframe[(dataframe['PID'] == province_id) & (dataframe['Year'] == year)]\n",
    "    \n",
    "    return temp['VHI'].reset_index(drop=True)\n",
    "    "
   ],
   "metadata": {
    "collapsed": false,
    "ExecuteTime": {
     "end_time": "2024-04-17T09:42:13.206457Z",
     "start_time": "2024-04-17T09:42:13.202860Z"
    }
   },
   "id": "4ad25699b1ec8af",
   "execution_count": 13
  },
  {
   "cell_type": "code",
   "outputs": [
    {
     "name": "stdout",
     "output_type": "stream",
     "text": [
      " VHI data series for province_id=1 and year=2022\n"
     ]
    },
    {
     "data": {
      "text/plain": "0     44.28\n1     45.61\n2     44.44\n3     40.63\n4     40.24\n5     40.19\n6     41.37\n7     41.80\n8     41.67\n9     42.30\n10    43.03\n11    43.30\n12    43.96\n13    44.50\n14    45.52\n15    48.08\n16    53.09\n17    57.25\n18    60.03\n19    60.43\n20    59.39\n21    60.43\n22    60.93\n23    60.22\n24    60.07\n25    59.63\n26    59.18\n27    58.56\n28    58.15\n29    52.95\n30    51.57\n31    49.29\n32    46.48\n33    43.41\n34    40.62\n35    37.58\n36    36.78\n37    37.88\n38    39.34\n39    40.95\n40    41.73\n41    42.07\n42    40.80\n43    37.01\n44    34.83\n45    35.12\n46    35.85\n47    38.75\n48    40.24\n49    41.19\n50    42.21\n51    41.77\nName: VHI, dtype: float64"
     },
     "execution_count": 14,
     "metadata": {},
     "output_type": "execute_result"
    }
   ],
   "source": [
    "get_vhi(df, 1, 2022)"
   ],
   "metadata": {
    "collapsed": false,
    "ExecuteTime": {
     "end_time": "2024-04-17T09:42:13.216334Z",
     "start_time": "2024-04-17T09:42:13.209286Z"
    }
   },
   "id": "5f6bd1b99fbbc4dc",
   "execution_count": 14
  },
  {
   "cell_type": "code",
   "outputs": [],
   "source": [
    "def get_max_min_vhi(dataframe: pd.DataFrame, provinces: list, years: list) -> pd.DataFrame | None:\n",
    "    \"\"\"\n",
    "    Returns Min VHI and Max VHI series for the specified provinces and years\n",
    "    :param dataframe: Pandas DataFrame containing the data.\n",
    "    :param provinces: List of provinces id (real regional mapping)\n",
    "    :param years: List of years to retrieve\n",
    "    :return: Pandas DataFrame or Nothing if error occurs\n",
    "    \"\"\"\n",
    "    \n",
    "    if not set(provinces).issubset(dataframe['PID'].unique()):\n",
    "        print(\"[!] One or more specified provinces are not in the DataFrame.\")\n",
    "        print(f'[?] Possible PID in the given DateFrame: {suggest_values(dataframe)[0]}')\n",
    "        return None\n",
    "\n",
    "    if not set(years).issubset(dataframe['Year'].unique()):\n",
    "        print(\"[!] One or more specified years are not in the DataFrame.\")\n",
    "        print(f'[?] Possible years in the given DateFrame: {suggest_values(dataframe)[1]}')\n",
    "        return None\n",
    "    \n",
    "    result:list = []\n",
    "    \n",
    "    for pid in provinces: \n",
    "        for year in sorted(years):\n",
    "            \n",
    "            temp = dataframe[(dataframe['PID'] == pid) & (dataframe['Year'] == year)]\n",
    "            \n",
    "            if temp.empty:\n",
    "                continue\n",
    "            \n",
    "            min_vhi = temp['VHI'].min()\n",
    "            max_vhi = temp['VHI'].max()\n",
    "            \n",
    "            result.append({'Province ID': pid, \n",
    "                                    'Year': year, \n",
    "                                    'Min VHI': min_vhi, \n",
    "                                    'Max VHI': max_vhi})\n",
    "    \n",
    "    result = pd.DataFrame(result)\n",
    "    \n",
    "    return result if not result.empty else None\n",
    "    \n",
    "    "
   ],
   "metadata": {
    "collapsed": false,
    "ExecuteTime": {
     "end_time": "2024-04-17T09:42:13.222346Z",
     "start_time": "2024-04-17T09:42:13.217219Z"
    }
   },
   "id": "bae88e018df4f934",
   "execution_count": 15
  },
  {
   "cell_type": "code",
   "outputs": [
    {
     "data": {
      "text/plain": "    Province ID  Year  Min VHI  Max VHI\n0             1  2014    28.95    56.51\n1             1  2017    21.17    60.38\n2             1  2019    18.85    58.77\n3             1  2022    34.83    60.93\n4            22  2014    26.24    53.41\n5            22  2017    24.72    58.49\n6            22  2019    28.06    61.08\n7            22  2022    35.70    54.81\n8            24  2014    37.59    67.44\n9            24  2017    35.58    59.50\n10           24  2019    18.02    69.20\n11           24  2022    36.12    72.32",
      "text/html": "<div>\n<style scoped>\n    .dataframe tbody tr th:only-of-type {\n        vertical-align: middle;\n    }\n\n    .dataframe tbody tr th {\n        vertical-align: top;\n    }\n\n    .dataframe thead th {\n        text-align: right;\n    }\n</style>\n<table border=\"1\" class=\"dataframe\">\n  <thead>\n    <tr style=\"text-align: right;\">\n      <th></th>\n      <th>Province ID</th>\n      <th>Year</th>\n      <th>Min VHI</th>\n      <th>Max VHI</th>\n    </tr>\n  </thead>\n  <tbody>\n    <tr>\n      <th>0</th>\n      <td>1</td>\n      <td>2014</td>\n      <td>28.95</td>\n      <td>56.51</td>\n    </tr>\n    <tr>\n      <th>1</th>\n      <td>1</td>\n      <td>2017</td>\n      <td>21.17</td>\n      <td>60.38</td>\n    </tr>\n    <tr>\n      <th>2</th>\n      <td>1</td>\n      <td>2019</td>\n      <td>18.85</td>\n      <td>58.77</td>\n    </tr>\n    <tr>\n      <th>3</th>\n      <td>1</td>\n      <td>2022</td>\n      <td>34.83</td>\n      <td>60.93</td>\n    </tr>\n    <tr>\n      <th>4</th>\n      <td>22</td>\n      <td>2014</td>\n      <td>26.24</td>\n      <td>53.41</td>\n    </tr>\n    <tr>\n      <th>5</th>\n      <td>22</td>\n      <td>2017</td>\n      <td>24.72</td>\n      <td>58.49</td>\n    </tr>\n    <tr>\n      <th>6</th>\n      <td>22</td>\n      <td>2019</td>\n      <td>28.06</td>\n      <td>61.08</td>\n    </tr>\n    <tr>\n      <th>7</th>\n      <td>22</td>\n      <td>2022</td>\n      <td>35.70</td>\n      <td>54.81</td>\n    </tr>\n    <tr>\n      <th>8</th>\n      <td>24</td>\n      <td>2014</td>\n      <td>37.59</td>\n      <td>67.44</td>\n    </tr>\n    <tr>\n      <th>9</th>\n      <td>24</td>\n      <td>2017</td>\n      <td>35.58</td>\n      <td>59.50</td>\n    </tr>\n    <tr>\n      <th>10</th>\n      <td>24</td>\n      <td>2019</td>\n      <td>18.02</td>\n      <td>69.20</td>\n    </tr>\n    <tr>\n      <th>11</th>\n      <td>24</td>\n      <td>2022</td>\n      <td>36.12</td>\n      <td>72.32</td>\n    </tr>\n  </tbody>\n</table>\n</div>"
     },
     "execution_count": 16,
     "metadata": {},
     "output_type": "execute_result"
    }
   ],
   "source": [
    "get_max_min_vhi(df, [1, 22, 24], [2019, 2022, 2014, 2017])"
   ],
   "metadata": {
    "collapsed": false,
    "ExecuteTime": {
     "end_time": "2024-04-17T09:42:13.232803Z",
     "start_time": "2024-04-17T09:42:13.223332Z"
    }
   },
   "id": "12d14967229533f7",
   "execution_count": 16
  },
  {
   "cell_type": "markdown",
   "source": [
    "Some util function that suggests years and province ids based on the provided dataframe "
   ],
   "metadata": {
    "collapsed": false
   },
   "id": "161ce48f807df9df"
  },
  {
   "cell_type": "code",
   "outputs": [],
   "source": [
    "def suggest_values(dataframe: pd.DataFrame) -> (list, list):\n",
    "    \"\"\"\n",
    "    Returns the unique years and province IDs from the DataFrame\n",
    "    :param dataframe: Pandas DataFrame\n",
    "    :return: A tuple containing two lists of years and province ids\n",
    "    \"\"\"\n",
    "    \n",
    "    if dataframe.empty:\n",
    "        print(f'[!] DataFrame is empty :/')\n",
    "        return \n",
    "    \n",
    "    years = dataframe['Year'].unique().tolist()\n",
    "    ids = dataframe['PID'].unique().tolist()\n",
    "    \n",
    "    years.sort()\n",
    "    ids.sort()\n",
    "    \n",
    "    return ids, years"
   ],
   "metadata": {
    "collapsed": false,
    "ExecuteTime": {
     "end_time": "2024-04-17T09:42:13.236483Z",
     "start_time": "2024-04-17T09:42:13.234045Z"
    }
   },
   "id": "3be582599672eb2b",
   "execution_count": 17
  },
  {
   "cell_type": "markdown",
   "source": [
    "Returns VHI series for the specified provinces and years"
   ],
   "metadata": {
    "collapsed": false
   },
   "id": "9168209f52649071"
  },
  {
   "cell_type": "code",
   "outputs": [],
   "source": [
    "def get_vhi_range(dataframe: pd.DataFrame, provinces: list, years: list) -> pd.DataFrame | None:\n",
    "    \"\"\"\n",
    "    Returns VHI series for the specified provinces and years\n",
    "    :param dataframe: Pandas DataFrame containing the data.\n",
    "    :param provinces: List of provinces id (real regional mapping)\n",
    "    :param years: List of years to retrieve\n",
    "    :return: Pandas DataFrame or Nothing if error occurs\n",
    "    \"\"\"\n",
    "    \n",
    "    if not set(provinces).issubset(dataframe['PID'].unique()):\n",
    "        print(\"[!] One or more specified provinces are not in the DataFrame.\")\n",
    "        print(f'[?] Possible PID in the given DateFrame: {suggest_values(dataframe)[0]}')\n",
    "        return None\n",
    "\n",
    "    if not set(years).issubset(dataframe['Year'].unique()):\n",
    "        print(\"[!] One or more specified years are not in the DataFrame.\")\n",
    "        print(f'[?] Possible years in the given DateFrame: {suggest_values(dataframe)[1]}')\n",
    "        return None\n",
    "    \n",
    "    result: pd.DataFrame = dataframe[dataframe['PID'].isin(provinces) & dataframe['Year'].isin(years)]\n",
    "    \n",
    "    if result.empty:\n",
    "        print(\"[!] Some error happened, so no data is returned.\")\n",
    "        return\n",
    "    \n",
    "    result = result[['PID', 'Year', 'Week', 'VHI']]\n",
    "    \n",
    "    return result\n",
    "    "
   ],
   "metadata": {
    "collapsed": false,
    "ExecuteTime": {
     "end_time": "2024-04-17T09:42:13.240523Z",
     "start_time": "2024-04-17T09:42:13.237282Z"
    }
   },
   "id": "d7428fdf1acd1fb7",
   "execution_count": 18
  },
  {
   "cell_type": "code",
   "outputs": [
    {
     "data": {
      "text/plain": "       PID  Year  Week    VHI\n3166    24  2019     1  52.26\n3167    24  2019     2  53.94\n3168    24  2019     3  56.98\n3169    24  2019     4  56.87\n3170    24  2019     5  52.78\n...    ...   ...   ...    ...\n14789   22  2022    48  41.71\n14790   22  2022    49  42.46\n14791   22  2022    50  42.47\n14792   22  2022    51  43.47\n14793   22  2022    52  44.29\n\n[312 rows x 4 columns]",
      "text/html": "<div>\n<style scoped>\n    .dataframe tbody tr th:only-of-type {\n        vertical-align: middle;\n    }\n\n    .dataframe tbody tr th {\n        vertical-align: top;\n    }\n\n    .dataframe thead th {\n        text-align: right;\n    }\n</style>\n<table border=\"1\" class=\"dataframe\">\n  <thead>\n    <tr style=\"text-align: right;\">\n      <th></th>\n      <th>PID</th>\n      <th>Year</th>\n      <th>Week</th>\n      <th>VHI</th>\n    </tr>\n  </thead>\n  <tbody>\n    <tr>\n      <th>3166</th>\n      <td>24</td>\n      <td>2019</td>\n      <td>1</td>\n      <td>52.26</td>\n    </tr>\n    <tr>\n      <th>3167</th>\n      <td>24</td>\n      <td>2019</td>\n      <td>2</td>\n      <td>53.94</td>\n    </tr>\n    <tr>\n      <th>3168</th>\n      <td>24</td>\n      <td>2019</td>\n      <td>3</td>\n      <td>56.98</td>\n    </tr>\n    <tr>\n      <th>3169</th>\n      <td>24</td>\n      <td>2019</td>\n      <td>4</td>\n      <td>56.87</td>\n    </tr>\n    <tr>\n      <th>3170</th>\n      <td>24</td>\n      <td>2019</td>\n      <td>5</td>\n      <td>52.78</td>\n    </tr>\n    <tr>\n      <th>...</th>\n      <td>...</td>\n      <td>...</td>\n      <td>...</td>\n      <td>...</td>\n    </tr>\n    <tr>\n      <th>14789</th>\n      <td>22</td>\n      <td>2022</td>\n      <td>48</td>\n      <td>41.71</td>\n    </tr>\n    <tr>\n      <th>14790</th>\n      <td>22</td>\n      <td>2022</td>\n      <td>49</td>\n      <td>42.46</td>\n    </tr>\n    <tr>\n      <th>14791</th>\n      <td>22</td>\n      <td>2022</td>\n      <td>50</td>\n      <td>42.47</td>\n    </tr>\n    <tr>\n      <th>14792</th>\n      <td>22</td>\n      <td>2022</td>\n      <td>51</td>\n      <td>43.47</td>\n    </tr>\n    <tr>\n      <th>14793</th>\n      <td>22</td>\n      <td>2022</td>\n      <td>52</td>\n      <td>44.29</td>\n    </tr>\n  </tbody>\n</table>\n<p>312 rows × 4 columns</p>\n</div>"
     },
     "execution_count": 19,
     "metadata": {},
     "output_type": "execute_result"
    }
   ],
   "source": [
    "get_vhi_range(df, [1, 22, 24], [2022, 2019])"
   ],
   "metadata": {
    "collapsed": false,
    "ExecuteTime": {
     "end_time": "2024-04-17T09:42:13.249931Z",
     "start_time": "2024-04-17T09:42:13.241292Z"
    }
   },
   "id": "3c74eded421e5e1e",
   "execution_count": 19
  },
  {
   "cell_type": "code",
   "outputs": [],
   "source": [
    "def analyse(dataframe: pd.DataFrame, vhi_threshold: int, affected: int) -> pd.DataFrame | None:\n",
    "    \"\"\"\n",
    "    Analyze years when extreme droughts affected more than a specified percentage of provinces.\n",
    "    \n",
    "    :param dataframe: \n",
    "    :param vhi_threshold: \n",
    "    :param affected: \n",
    "    :return: \n",
    "    \"\"\"\n",
    "    \n",
    "    temp = dataframe[dataframe['VHI'] <= vhi_threshold]\n",
    "    \n",
    "    if temp.empty:\n",
    "        print(f\"[!] There are no entries in the DataFrame with VHI below or equal to the given threshold({vhi_threshold}) value\")\n",
    "        return\n",
    "    \n",
    "    temp_year = temp.groupby('Year')['PID'].nunique()\n",
    "    \n",
    "    total = dataframe['PID'].nunique()\n",
    "    \n",
    "    min_affected_provinces = int(total * affected / 100)\n",
    "    \n",
    "    notable = temp_year[temp_year >= min_affected_provinces].index.tolist()\n",
    "    \n",
    "    result = temp[temp['Year'].isin(notable)]\n",
    "\n",
    "    return result[['PID', 'Year', 'Week', 'VHI']]\n",
    "    "
   ],
   "metadata": {
    "collapsed": false,
    "ExecuteTime": {
     "end_time": "2024-04-17T09:42:13.253738Z",
     "start_time": "2024-04-17T09:42:13.250701Z"
    }
   },
   "id": "91559496ec7ef7f9",
   "execution_count": 20
  },
  {
   "cell_type": "code",
   "outputs": [
    {
     "data": {
      "text/plain": "       PID  Year  Week    VHI\n5538     8  2020    37  18.27\n5539     8  2020    38  18.43\n9534     1  2020    36  18.93\n9535     1  2020    37  18.79\n9536     1  2020    38  19.82\n11248    4  2020    37  19.78\n11249    4  2020    38  19.40\n12390   15  2020    37  19.34\n12391   15  2020    38  19.28\n13532    5  2020    37  18.58\n13533    5  2020    38  17.88\n13534    5  2020    39  17.95\n13535    5  2020    40  19.16\n13536    5  2020    41  19.96",
      "text/html": "<div>\n<style scoped>\n    .dataframe tbody tr th:only-of-type {\n        vertical-align: middle;\n    }\n\n    .dataframe tbody tr th {\n        vertical-align: top;\n    }\n\n    .dataframe thead th {\n        text-align: right;\n    }\n</style>\n<table border=\"1\" class=\"dataframe\">\n  <thead>\n    <tr style=\"text-align: right;\">\n      <th></th>\n      <th>PID</th>\n      <th>Year</th>\n      <th>Week</th>\n      <th>VHI</th>\n    </tr>\n  </thead>\n  <tbody>\n    <tr>\n      <th>5538</th>\n      <td>8</td>\n      <td>2020</td>\n      <td>37</td>\n      <td>18.27</td>\n    </tr>\n    <tr>\n      <th>5539</th>\n      <td>8</td>\n      <td>2020</td>\n      <td>38</td>\n      <td>18.43</td>\n    </tr>\n    <tr>\n      <th>9534</th>\n      <td>1</td>\n      <td>2020</td>\n      <td>36</td>\n      <td>18.93</td>\n    </tr>\n    <tr>\n      <th>9535</th>\n      <td>1</td>\n      <td>2020</td>\n      <td>37</td>\n      <td>18.79</td>\n    </tr>\n    <tr>\n      <th>9536</th>\n      <td>1</td>\n      <td>2020</td>\n      <td>38</td>\n      <td>19.82</td>\n    </tr>\n    <tr>\n      <th>11248</th>\n      <td>4</td>\n      <td>2020</td>\n      <td>37</td>\n      <td>19.78</td>\n    </tr>\n    <tr>\n      <th>11249</th>\n      <td>4</td>\n      <td>2020</td>\n      <td>38</td>\n      <td>19.40</td>\n    </tr>\n    <tr>\n      <th>12390</th>\n      <td>15</td>\n      <td>2020</td>\n      <td>37</td>\n      <td>19.34</td>\n    </tr>\n    <tr>\n      <th>12391</th>\n      <td>15</td>\n      <td>2020</td>\n      <td>38</td>\n      <td>19.28</td>\n    </tr>\n    <tr>\n      <th>13532</th>\n      <td>5</td>\n      <td>2020</td>\n      <td>37</td>\n      <td>18.58</td>\n    </tr>\n    <tr>\n      <th>13533</th>\n      <td>5</td>\n      <td>2020</td>\n      <td>38</td>\n      <td>17.88</td>\n    </tr>\n    <tr>\n      <th>13534</th>\n      <td>5</td>\n      <td>2020</td>\n      <td>39</td>\n      <td>17.95</td>\n    </tr>\n    <tr>\n      <th>13535</th>\n      <td>5</td>\n      <td>2020</td>\n      <td>40</td>\n      <td>19.16</td>\n    </tr>\n    <tr>\n      <th>13536</th>\n      <td>5</td>\n      <td>2020</td>\n      <td>41</td>\n      <td>19.96</td>\n    </tr>\n  </tbody>\n</table>\n</div>"
     },
     "execution_count": 22,
     "metadata": {},
     "output_type": "execute_result"
    }
   ],
   "source": [
    "analyse(df, 20, 20)"
   ],
   "metadata": {
    "collapsed": false,
    "ExecuteTime": {
     "end_time": "2024-04-17T09:42:56.217478Z",
     "start_time": "2024-04-17T09:42:56.169618Z"
    }
   },
   "id": "2eaa3b57b6ffbb0b",
   "execution_count": 22
  },
  {
   "cell_type": "code",
   "outputs": [],
   "source": [],
   "metadata": {
    "collapsed": false,
    "ExecuteTime": {
     "end_time": "2024-04-17T09:42:13.258909Z",
     "start_time": "2024-04-17T09:42:13.257605Z"
    }
   },
   "id": "188c2874d161f34a",
   "execution_count": 21
  }
 ],
 "metadata": {
  "kernelspec": {
   "display_name": "Python 3",
   "language": "python",
   "name": "python3"
  },
  "language_info": {
   "codemirror_mode": {
    "name": "ipython",
    "version": 2
   },
   "file_extension": ".py",
   "mimetype": "text/x-python",
   "name": "python",
   "nbconvert_exporter": "python",
   "pygments_lexer": "ipython2",
   "version": "2.7.6"
  }
 },
 "nbformat": 4,
 "nbformat_minor": 5
}
