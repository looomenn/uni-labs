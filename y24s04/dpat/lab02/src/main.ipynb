{
 "cells": [
  {
   "cell_type": "markdown",
   "source": [
    "Import necessary libs"
   ],
   "metadata": {
    "collapsed": false
   },
   "id": "3771d3fa19f09489"
  },
  {
   "cell_type": "code",
   "outputs": [
    {
     "name": "stdout",
     "output_type": "stream",
     "text": [
      "[+] Successful setup...\n"
     ]
    }
   ],
   "source": [
    "import os\n",
    "import re\n",
    "import json\n",
    "import requests\n",
    "import numpy as np\n",
    "import pandas as pd\n",
    "import province_mapper\n",
    "\n",
    "from datetime import datetime\n",
    "from bs4 import BeautifulSoup\n",
    "\n",
    "print('[+] Successful setup...')"
   ],
   "metadata": {
    "collapsed": false,
    "ExecuteTime": {
     "end_time": "2024-04-17T11:44:43.827008Z",
     "start_time": "2024-04-17T11:44:42.766539Z"
    }
   },
   "id": "f90da9b3135e0d43",
   "execution_count": 1
  },
  {
   "cell_type": "markdown",
   "source": [
    "Defining global variables"
   ],
   "metadata": {
    "collapsed": false
   },
   "id": "e68dc5d4e408c8a6"
  },
  {
   "cell_type": "code",
   "outputs": [
    {
     "name": "stdout",
     "output_type": "stream",
     "text": [
      "{\n",
      "    \"1\": {\n",
      "        \"name\": \"Cherkasy Region\",\n",
      "        \"id\": 24\n",
      "    },\n",
      "    \"2\": {\n",
      "        \"name\": \"Chernihiv Region\",\n",
      "        \"id\": 25\n",
      "    },\n",
      "    \"3\": {\n",
      "        \"name\": \"Chernivtsi Region\",\n",
      "        \"id\": 26\n",
      "    },\n",
      "    \"4\": {\n",
      "        \"name\": \"Republic of Crimea Region\",\n",
      "        \"id\": 1\n",
      "    },\n",
      "    \"5\": {\n",
      "        \"name\": \"Dnipropetrovsk Region\",\n",
      "        \"id\": 4\n",
      "    },\n",
      "    \"6\": {\n",
      "        \"name\": \"Donetsk Region\",\n",
      "        \"id\": 5\n",
      "    },\n",
      "    \"7\": {\n",
      "        \"name\": \"Ivano-Frankivsk Region\",\n",
      "        \"id\": 9\n",
      "    },\n",
      "    \"8\": {\n",
      "        \"name\": \"Kharkiv Region\",\n",
      "        \"id\": 21\n",
      "    },\n",
      "    \"9\": {\n",
      "        \"name\": \"Kherson Region\",\n",
      "        \"id\": 22\n",
      "    },\n",
      "    \"10\": {\n",
      "        \"name\": \"Khmelnytskyi Region\",\n",
      "        \"id\": 23\n",
      "    },\n",
      "    \"11\": {\n",
      "        \"name\": \"Kyiv Region\",\n",
      "        \"id\": 10\n",
      "    },\n",
      "    \"12\": {\n",
      "        \"name\": \"Kyiv City\",\n",
      "        \"id\": 11\n",
      "    },\n",
      "    \"13\": {\n",
      "        \"name\": \"Kirovohrad Region\",\n",
      "        \"id\": 12\n",
      "    },\n",
      "    \"14\": {\n",
      "        \"name\": \"Luhansk Region\",\n",
      "        \"id\": 13\n",
      "    },\n",
      "    \"15\": {\n",
      "        \"name\": \"Lviv Region\",\n",
      "        \"id\": 14\n",
      "    },\n",
      "    \"16\": {\n",
      "        \"name\": \"Mykolaiv Region\",\n",
      "        \"id\": 15\n",
      "    },\n",
      "    \"17\": {\n",
      "        \"name\": \"Odesa Region\",\n",
      "        \"id\": 16\n",
      "    },\n",
      "    \"18\": {\n",
      "        \"name\": \"Poltava Region\",\n",
      "        \"id\": 17\n",
      "    },\n",
      "    \"19\": {\n",
      "        \"name\": \"Rivne Region\",\n",
      "        \"id\": 18\n",
      "    },\n",
      "    \"20\": {\n",
      "        \"name\": \"Sevastopol Region\",\n",
      "        \"id\": 27\n",
      "    },\n",
      "    \"21\": {\n",
      "        \"name\": \"Sumy Region\",\n",
      "        \"id\": 19\n",
      "    },\n",
      "    \"23\": {\n",
      "        \"name\": \"Zakarpattia Region\",\n",
      "        \"id\": 7\n",
      "    },\n",
      "    \"24\": {\n",
      "        \"name\": \"Vinnytsia Region\",\n",
      "        \"id\": 2\n",
      "    },\n",
      "    \"25\": {\n",
      "        \"name\": \"Volyn Region\",\n",
      "        \"id\": 3\n",
      "    },\n",
      "    \"26\": {\n",
      "        \"name\": \"Zaporizhia Region\",\n",
      "        \"id\": 8\n",
      "    },\n",
      "    \"27\": {\n",
      "        \"name\": \"Zhytomyr Region\",\n",
      "        \"id\": 6\n",
      "    }\n",
      "}\n"
     ]
    }
   ],
   "source": [
    "PROVINCES_COUNT: int = 27\n",
    "DUMP_FOLDER: str = 'vhi_dump'\n",
    "PROVINCES_MAP: dict = province_mapper.get_mapped_provinces()\n",
    "\n",
    "print(json.dumps(PROVINCES_MAP, indent=4))"
   ],
   "metadata": {
    "collapsed": false,
    "ExecuteTime": {
     "end_time": "2024-04-17T11:44:43.860851Z",
     "start_time": "2024-04-17T11:44:43.835002Z"
    }
   },
   "id": "863a8677c6d4af3",
   "execution_count": 2
  },
  {
   "cell_type": "markdown",
   "source": [
    "Init destination folder"
   ],
   "metadata": {
    "collapsed": false
   },
   "id": "36deea7d571683a5"
  },
  {
   "cell_type": "code",
   "outputs": [],
   "source": [
    "def folder_init(folder_path: str, is_silent = False) -> None:\n",
    "    \"\"\"\n",
    "    Creates folder if it doesn't exist \n",
    "    :param folder_path: Path to the folder\n",
    "    :param is_silent: If true, will hide print about existing folder!\n",
    "    :return: None\n",
    "    \"\"\"\n",
    "    \n",
    "    if not os.path.exists(folder_path):\n",
    "        os.makedirs(folder_path)\n",
    "        print(f'[+] Created folder: {folder_path}')\n",
    "    else:\n",
    "        if not is_silent: \n",
    "            print(f'[x] Folder {folder_path} already exists!')\n",
    "    "
   ],
   "metadata": {
    "collapsed": false,
    "ExecuteTime": {
     "end_time": "2024-04-17T11:44:43.867032Z",
     "start_time": "2024-04-17T11:44:43.862864Z"
    }
   },
   "id": "71ae32ed8fc38b20",
   "execution_count": 3
  },
  {
   "cell_type": "markdown",
   "source": [
    "File downloader (download handler)"
   ],
   "metadata": {
    "collapsed": false
   },
   "id": "e7bb52950f855e92"
  },
  {
   "cell_type": "code",
   "outputs": [],
   "source": [
    "def fetch(province_id: int, start_year: int, end_year: int) -> None:\n",
    "    \"\"\"\n",
    "    Fetches mean data from NOAA \n",
    "    :param province_id: Province ID based on the NOAA mapping\n",
    "    :param start_year: The starting year for the requested time series data Format: (YYYY)\n",
    "    :param end_year: The ending year for the requested time series data. Format: (YYYY)\n",
    "    :return: None\n",
    "    \"\"\"\n",
    "    \n",
    "    if not validate_id(province_id):\n",
    "        print('[!] Invalid province ID')\n",
    "        return\n",
    "    \n",
    "    mapped_province_id = PROVINCES_MAP[province_id][\"id\"]\n",
    "    mapped_province_name = PROVINCES_MAP[province_id][\"name\"]\n",
    "    \n",
    "    start_year, end_year = validate_years(start_year, end_year)\n",
    "    \n",
    "    if start_year is None or end_year is None: \n",
    "        return\n",
    "\n",
    "    print(f'[*] Fetching data:\\n\\t'\n",
    "          f'Province ID: {province_id} | {mapped_province_name}\\n\\t'\n",
    "          f'Start year: {start_year}\\n\\t'\n",
    "          f'End year: {end_year}')\n",
    "\n",
    "    url: str = f'https://www.star.nesdis.noaa.gov/smcd/emb/vci/VH/get_TS_admin.php?country=UKR&provinceID={province_id}&year1={start_year}&year2={end_year}&type=Mean'\n",
    "    \n",
    "    try:\n",
    "        req = requests.get(url)\n",
    "        \n",
    "        if req.status_code != 200:\n",
    "            print('[!] Request failed!')\n",
    "            return\n",
    "        \n",
    "        # clearing response from html tags\n",
    "        soup = BeautifulSoup(req.text, \"html.parser\")\n",
    "        clear_data = soup.get_text()\n",
    "        \n",
    "        # assembling the file name\n",
    "        timestamp = datetime.now().strftime('%Y-%m-%dT%H-%M')\n",
    "        filename = f'vhi_{mapped_province_id}_{timestamp}.csv'\n",
    "        \n",
    "        # Deleting last comma in the data series that makes useless shift\n",
    "        clear_data = re.sub(r',\\s*$', '', clear_data, flags=re.MULTILINE)\n",
    "        \n",
    "        # changing province id based on the real mapping\n",
    "        clear_data = re.sub(r\"Province= \\d+:\", f\"Province= {mapped_province_id}:\", clear_data)\n",
    "        print(f'[!] Province ID was changed to the real mapping: {province_id} (NOAA) -> {mapped_province_id} (UKR oblast centers mapping)')\n",
    "        \n",
    "        save(directory=DUMP_FOLDER, filename=filename, data=clear_data)\n",
    "        #print(clear_data)\n",
    "    \n",
    "    except Exception as err:\n",
    "        raise Exception(f'[!] Error happened: {err}')\n"
   ],
   "metadata": {
    "collapsed": false,
    "ExecuteTime": {
     "end_time": "2024-04-17T11:44:43.874433Z",
     "start_time": "2024-04-17T11:44:43.868954Z"
    }
   },
   "id": "5ef47bd93492adb3",
   "execution_count": 4
  },
  {
   "cell_type": "markdown",
   "source": [
    "Function for years validation "
   ],
   "metadata": {
    "collapsed": false
   },
   "id": "4262a77a191f2c62"
  },
  {
   "cell_type": "code",
   "outputs": [],
   "source": [
    "def validate_years(start_year: int, end_year: int) -> (int, int):\n",
    "    \"\"\"\n",
    "    Checks if start_year and end_year are within the correct range\n",
    "    :param start_year: The starting year for the requested time series data Format: (YYYY)\n",
    "    :param end_year: The ending year for the requested time series data. Format: (YYYY). Set end_year to 9999 to validate only start_year for the format.\n",
    "    :return: A tuple of two integers if start_year and end_year passed all checks. \n",
    "    \"\"\"\n",
    "    current_year:int = datetime.today().year\n",
    "    year_pattern = r'^\\d{4}$'\n",
    "    \n",
    "    if not re.match(year_pattern, str(start_year)) or not re.match(year_pattern, str(end_year)):\n",
    "        print(f'[!] Invalid year format. Only allowed one is: YYYY (4 integers)')\n",
    "        return None, None\n",
    "    \n",
    "    if end_year == 9999 and start_year:\n",
    "        print(start_year)\n",
    "        return start_year\n",
    "    \n",
    "    if start_year < 1982:\n",
    "        print(f'[!] Start year should be greater or equal to 1982!')\n",
    "        return None, None\n",
    "    \n",
    "    if end_year >= current_year:\n",
    "        print(f'[!] For full data coverage, end_year({end_year}) should be less than current_year({current_year})!')\n",
    "        return None, None\n",
    "    \n",
    "    if start_year > end_year:\n",
    "        print(f'[!] start_year({start_year}) cannot be greater than end_year({end_year})')\n",
    "        return None, None\n",
    "    \n",
    "    print(f'[+] Successful years range validation!')\n",
    "    return start_year, end_year\n",
    "    "
   ],
   "metadata": {
    "collapsed": false,
    "ExecuteTime": {
     "end_time": "2024-04-17T11:44:43.881284Z",
     "start_time": "2024-04-17T11:44:43.876025Z"
    }
   },
   "id": "3e63fd2dd5271ab5",
   "execution_count": 5
  },
  {
   "cell_type": "markdown",
   "source": [
    "Function for ID validation"
   ],
   "metadata": {
    "collapsed": false
   },
   "id": "d602f4001e6abf4a"
  },
  {
   "cell_type": "code",
   "outputs": [],
   "source": [
    "def validate_id(province_id: int) -> bool:\n",
    "    \"\"\"\n",
    "    Checks if given province_id is in the mapped dictionary\n",
    "    :param province_id: Province ID based on the NOAA mapping\n",
    "    :return: Bool \n",
    "    \"\"\"\n",
    "    \n",
    "    if province_id not in PROVINCES_MAP.keys():\n",
    "        return False\n",
    "    \n",
    "    print(f'[+] Successful ID validation!')\n",
    "    return True\n",
    "    "
   ],
   "metadata": {
    "collapsed": false,
    "ExecuteTime": {
     "end_time": "2024-04-17T11:44:43.884329Z",
     "start_time": "2024-04-17T11:44:43.882288Z"
    }
   },
   "id": "a50cecfba28b48f3",
   "execution_count": 6
  },
  {
   "cell_type": "markdown",
   "source": [
    "File saver"
   ],
   "metadata": {
    "collapsed": false
   },
   "id": "4ede59083eba20c"
  },
  {
   "cell_type": "code",
   "outputs": [],
   "source": [
    "def save(directory: str, filename: str, data: str) -> None:\n",
    "    \"\"\"\n",
    "    Saves given data to the file in the specific dir\n",
    "    :param directory: Directory where the data is saved.\n",
    "    :param filename: Name of the file to save the data to.\n",
    "    :param data: Data to save.\n",
    "    :return: \n",
    "    \"\"\"\n",
    "    \n",
    "    folder_init(directory, is_silent=True)\n",
    "    \n",
    "    with open(f'{directory}/{filename}', 'w') as file:\n",
    "        file.write(data)\n",
    "        print(f'[+] Saved {filename} to {directory}/')\n",
    "        \n",
    "        file.close()\n",
    "    "
   ],
   "metadata": {
    "collapsed": false,
    "ExecuteTime": {
     "end_time": "2024-04-17T11:44:43.887401Z",
     "start_time": "2024-04-17T11:44:43.885113Z"
    }
   },
   "id": "cef53cc1ced34792",
   "execution_count": 7
  },
  {
   "cell_type": "markdown",
   "source": [
    "Bulk file downloader"
   ],
   "metadata": {
    "collapsed": false
   },
   "id": "11dcf582fbef973c"
  },
  {
   "cell_type": "code",
   "outputs": [],
   "source": [
    "def fetch_bulk(start_id: int, end_id: int, start_year: int, end_year: int) -> None:\n",
    "    \"\"\"\n",
    "    Using fetch() to bulk-download VHI data for the specific range of regions\n",
    "    :param start_id: The starting province(region) ID (NOAA list) to download\n",
    "    :param end_id: The ending province(region) ID (NOAA list) to download\n",
    "    :param start_year: The starting year for the requested time series data Format: (YYYY)\n",
    "    :param end_year: The ending year for the requested time series data. Format: (YYYY)\n",
    "    :return: None\n",
    "    \"\"\"\n",
    "    \n",
    "    for i in range(start_id, end_id + 1):\n",
    "        print(f'[*] Fetch order: {i}')\n",
    "        try: \n",
    "            fetch(i, start_year, end_year)\n",
    "        except Exception as err:\n",
    "            print(f'[!] Error fetching: {err}')\n"
   ],
   "metadata": {
    "collapsed": false,
    "ExecuteTime": {
     "end_time": "2024-04-17T11:44:43.890616Z",
     "start_time": "2024-04-17T11:44:43.888235Z"
    }
   },
   "id": "701ac269a873d954",
   "execution_count": 8
  },
  {
   "cell_type": "markdown",
   "source": [
    "Essentially, clears given directory (dump_folder, most of the time)"
   ],
   "metadata": {
    "collapsed": false
   },
   "id": "73b43804941c5d71"
  },
  {
   "cell_type": "code",
   "outputs": [],
   "source": [
    "def clear_dump_folder(directory: str) -> None:\n",
    "    \"\"\"\n",
    "    Cleans dump folder\n",
    "    :param directory: Path to the folder\n",
    "    :return: None\n",
    "    \"\"\"\n",
    "    \n",
    "    if not os.path.exists(directory):\n",
    "        print(f'[!] Directory does not exist!')\n",
    "        return\n",
    "    \n",
    "    for file in os.listdir(directory):\n",
    "        file_path = os.path.join(directory, file)\n",
    "        try:\n",
    "            if os.path.isfile(file_path) or os.path.islink(file_path):\n",
    "                os.unlink(file_path)\n",
    "                print(f'[*] Deleted file: {file_path}')\n",
    "        except Exception as err:\n",
    "             print(f\"[!] Failed to delete {file_path}. Reason: {err}\")\n"
   ],
   "metadata": {
    "collapsed": false,
    "ExecuteTime": {
     "end_time": "2024-04-17T11:44:43.893825Z",
     "start_time": "2024-04-17T11:44:43.891377Z"
    }
   },
   "id": "519e99afd71ab03f",
   "execution_count": 9
  },
  {
   "cell_type": "markdown",
   "source": [
    "Function that creates dataframe from the `.csv` files in the given directory"
   ],
   "metadata": {
    "collapsed": false
   },
   "id": "27d793bfc850be9b"
  },
  {
   "cell_type": "code",
   "outputs": [],
   "source": [
    "def get_dataframe(directory: str) -> pd.DataFrame | None:\n",
    "    \"\"\"\n",
    "    Creates dataframe from the files in the directory\n",
    "    :param directory: Path to the directory\n",
    "    :return: Pandas dataframe\n",
    "    \"\"\"\n",
    "    \n",
    "    headers: list = ['Year', 'Week', 'SMN', 'SMT', 'VCI', 'TCI', 'VHI']\n",
    "    dataframes: list = []\n",
    "    \n",
    "    if not os.path.exists(directory):\n",
    "        print(f'[!] Directory does not exist!')\n",
    "        return\n",
    "    \n",
    "    for file in os.listdir(directory):\n",
    "        if not file.endswith('.csv'):\n",
    "            print(f'[!] File ({file}) is not a .csv. Skipping it!')\n",
    "            continue\n",
    "        file_path = os.path.join(directory, file)\n",
    "        \n",
    "        try:\n",
    "            df = pd.read_csv(file_path, header=1, names=headers, skiprows=1)\n",
    "            province_id = int(file.split('_')[1])\n",
    "            df.insert(0, 'PID', province_id, True)\n",
    "            dataframes.append(df)\n",
    "        except Exception as err:\n",
    "            print(f'[!] Failed to read {err}')\n",
    "    \n",
    "    if not dataframes:\n",
    "        raise Exception('No files found!')\n",
    "        \n",
    "    return pd.concat(dataframes, ignore_index=True) \n",
    "    "
   ],
   "metadata": {
    "collapsed": false,
    "ExecuteTime": {
     "end_time": "2024-04-17T11:44:43.899681Z",
     "start_time": "2024-04-17T11:44:43.896027Z"
    }
   },
   "id": "30d06b5285ecc22b",
   "execution_count": 10
  },
  {
   "cell_type": "markdown",
   "source": [
    "Function to get province name by its id (real mapping)"
   ],
   "metadata": {
    "collapsed": false
   },
   "id": "a2fa5ff7fdce5bc0"
  },
  {
   "cell_type": "code",
   "outputs": [],
   "source": [
    "def get_province(province_id: int) -> str | None:\n",
    "    \"\"\"\n",
    "    Returns the province name \n",
    "    :param province_id: Province ID based on the real mapping\n",
    "    :return: string\n",
    "    \"\"\"\n",
    "    \n",
    "    for region_key, region_info in PROVINCES_MAP.items():\n",
    "        if region_info.get('id') == province_id:\n",
    "            return region_info.get('name')\n",
    "    \n",
    "    return"
   ],
   "metadata": {
    "collapsed": false,
    "ExecuteTime": {
     "end_time": "2024-04-17T11:44:43.902800Z",
     "start_time": "2024-04-17T11:44:43.900662Z"
    }
   },
   "id": "ce18af84842d46b",
   "execution_count": 11
  },
  {
   "cell_type": "markdown",
   "source": [
    " Main entry point for the script. I love main(), even in the py notebook.... yes"
   ],
   "metadata": {
    "collapsed": false
   },
   "id": "f4ac111cdc3112a6"
  },
  {
   "cell_type": "code",
   "outputs": [
    {
     "name": "stdout",
     "output_type": "stream",
     "text": [
      "[*] Deleted file: vhi_dump/vhi_21_2024-04-17T12-42.csv\n",
      "[*] Deleted file: vhi_dump/vhi_19_2024-04-17T12-42.csv\n",
      "[*] Deleted file: vhi_dump/vhi_6_2024-04-17T12-42.csv\n",
      "[*] Deleted file: vhi_dump/vhi_3_2024-04-17T12-42.csv\n",
      "[*] Deleted file: vhi_dump/vhi_13_2024-04-17T12-42.csv\n",
      "[*] Deleted file: vhi_dump/vhi_24_2024-04-17T12-41.csv\n",
      "[*] Deleted file: vhi_dump/vhi_16_2024-04-17T12-42.csv\n",
      "[*] Deleted file: vhi_dump/vhi_9_2024-04-17T12-42.csv\n",
      "[*] Deleted file: vhi_dump/vhi_12_2024-04-17T12-42.csv\n",
      "[*] Deleted file: vhi_dump/vhi_8_2024-04-17T12-42.csv\n",
      "[*] Deleted file: vhi_dump/vhi_17_2024-04-17T12-42.csv\n",
      "[*] Deleted file: vhi_dump/vhi_25_2024-04-17T12-41.csv\n",
      "[*] Deleted file: vhi_dump/vhi_7_2024-04-17T12-42.csv\n",
      "[*] Deleted file: vhi_dump/vhi_18_2024-04-17T12-42.csv\n",
      "[*] Deleted file: vhi_dump/vhi_2_2024-04-17T12-42.csv\n",
      "[*] Deleted file: vhi_dump/vhi_23_2024-04-17T12-42.csv\n",
      "[*] Deleted file: vhi_dump/vhi_1_2024-04-17T12-41.csv\n",
      "[*] Deleted file: vhi_dump/vhi_14_2024-04-17T12-42.csv\n",
      "[*] Deleted file: vhi_dump/vhi_26_2024-04-17T12-41.csv\n",
      "[*] Deleted file: vhi_dump/vhi_4_2024-04-17T12-41.csv\n",
      "[*] Deleted file: vhi_dump/vhi_11_2024-04-17T12-42.csv\n",
      "[*] Deleted file: vhi_dump/vhi_15_2024-04-17T12-42.csv\n",
      "[*] Deleted file: vhi_dump/vhi_10_2024-04-17T12-42.csv\n",
      "[*] Deleted file: vhi_dump/vhi_5_2024-04-17T12-41.csv\n",
      "[*] Deleted file: vhi_dump/vhi_27_2024-04-17T12-42.csv\n",
      "[*] Deleted file: vhi_dump/vhi_22_2024-04-17T12-42.csv\n",
      "[*] Fetch order: 1\n",
      "[+] Successful ID validation!\n",
      "[+] Successful years range validation!\n",
      "[*] Fetching data:\n",
      "\tProvince ID: 1 | Cherkasy Region\n",
      "\tStart year: 1982\n",
      "\tEnd year: 2023\n",
      "[!] Province ID was changed to the real mapping: 1 (NOAA) -> 24 (UKR oblast centers mapping)\n",
      "[+] Saved vhi_24_2024-04-17T14-44.csv to vhi_dump/\n",
      "[*] Fetch order: 2\n",
      "[+] Successful ID validation!\n",
      "[+] Successful years range validation!\n",
      "[*] Fetching data:\n",
      "\tProvince ID: 2 | Chernihiv Region\n",
      "\tStart year: 1982\n",
      "\tEnd year: 2023\n",
      "[!] Province ID was changed to the real mapping: 2 (NOAA) -> 25 (UKR oblast centers mapping)\n",
      "[+] Saved vhi_25_2024-04-17T14-44.csv to vhi_dump/\n",
      "[*] Fetch order: 3\n",
      "[+] Successful ID validation!\n",
      "[+] Successful years range validation!\n",
      "[*] Fetching data:\n",
      "\tProvince ID: 3 | Chernivtsi Region\n",
      "\tStart year: 1982\n",
      "\tEnd year: 2023\n",
      "[!] Province ID was changed to the real mapping: 3 (NOAA) -> 26 (UKR oblast centers mapping)\n",
      "[+] Saved vhi_26_2024-04-17T14-44.csv to vhi_dump/\n",
      "[*] Fetch order: 4\n",
      "[+] Successful ID validation!\n",
      "[+] Successful years range validation!\n",
      "[*] Fetching data:\n",
      "\tProvince ID: 4 | Republic of Crimea Region\n",
      "\tStart year: 1982\n",
      "\tEnd year: 2023\n",
      "[!] Province ID was changed to the real mapping: 4 (NOAA) -> 1 (UKR oblast centers mapping)\n",
      "[+] Saved vhi_1_2024-04-17T14-44.csv to vhi_dump/\n",
      "[*] Fetch order: 5\n",
      "[+] Successful ID validation!\n",
      "[+] Successful years range validation!\n",
      "[*] Fetching data:\n",
      "\tProvince ID: 5 | Dnipropetrovsk Region\n",
      "\tStart year: 1982\n",
      "\tEnd year: 2023\n",
      "[!] Province ID was changed to the real mapping: 5 (NOAA) -> 4 (UKR oblast centers mapping)\n",
      "[+] Saved vhi_4_2024-04-17T14-44.csv to vhi_dump/\n",
      "[*] Fetch order: 6\n",
      "[+] Successful ID validation!\n",
      "[+] Successful years range validation!\n",
      "[*] Fetching data:\n",
      "\tProvince ID: 6 | Donetsk Region\n",
      "\tStart year: 1982\n",
      "\tEnd year: 2023\n",
      "[!] Province ID was changed to the real mapping: 6 (NOAA) -> 5 (UKR oblast centers mapping)\n",
      "[+] Saved vhi_5_2024-04-17T14-44.csv to vhi_dump/\n",
      "[*] Fetch order: 7\n",
      "[+] Successful ID validation!\n",
      "[+] Successful years range validation!\n",
      "[*] Fetching data:\n",
      "\tProvince ID: 7 | Ivano-Frankivsk Region\n",
      "\tStart year: 1982\n",
      "\tEnd year: 2023\n",
      "[!] Province ID was changed to the real mapping: 7 (NOAA) -> 9 (UKR oblast centers mapping)\n",
      "[+] Saved vhi_9_2024-04-17T14-44.csv to vhi_dump/\n",
      "[*] Fetch order: 8\n",
      "[+] Successful ID validation!\n",
      "[+] Successful years range validation!\n",
      "[*] Fetching data:\n",
      "\tProvince ID: 8 | Kharkiv Region\n",
      "\tStart year: 1982\n",
      "\tEnd year: 2023\n",
      "[!] Province ID was changed to the real mapping: 8 (NOAA) -> 21 (UKR oblast centers mapping)\n",
      "[+] Saved vhi_21_2024-04-17T14-44.csv to vhi_dump/\n",
      "[*] Fetch order: 9\n",
      "[+] Successful ID validation!\n",
      "[+] Successful years range validation!\n",
      "[*] Fetching data:\n",
      "\tProvince ID: 9 | Kherson Region\n",
      "\tStart year: 1982\n",
      "\tEnd year: 2023\n",
      "[!] Province ID was changed to the real mapping: 9 (NOAA) -> 22 (UKR oblast centers mapping)\n",
      "[+] Saved vhi_22_2024-04-17T14-44.csv to vhi_dump/\n",
      "[*] Fetch order: 10\n",
      "[+] Successful ID validation!\n",
      "[+] Successful years range validation!\n",
      "[*] Fetching data:\n",
      "\tProvince ID: 10 | Khmelnytskyi Region\n",
      "\tStart year: 1982\n",
      "\tEnd year: 2023\n",
      "[!] Province ID was changed to the real mapping: 10 (NOAA) -> 23 (UKR oblast centers mapping)\n",
      "[+] Saved vhi_23_2024-04-17T14-44.csv to vhi_dump/\n",
      "[*] Fetch order: 11\n",
      "[+] Successful ID validation!\n",
      "[+] Successful years range validation!\n",
      "[*] Fetching data:\n",
      "\tProvince ID: 11 | Kyiv Region\n",
      "\tStart year: 1982\n",
      "\tEnd year: 2023\n",
      "[!] Province ID was changed to the real mapping: 11 (NOAA) -> 10 (UKR oblast centers mapping)\n",
      "[+] Saved vhi_10_2024-04-17T14-44.csv to vhi_dump/\n",
      "[*] Fetch order: 12\n",
      "[+] Successful ID validation!\n",
      "[+] Successful years range validation!\n",
      "[*] Fetching data:\n",
      "\tProvince ID: 12 | Kyiv City\n",
      "\tStart year: 1982\n",
      "\tEnd year: 2023\n",
      "[!] Province ID was changed to the real mapping: 12 (NOAA) -> 11 (UKR oblast centers mapping)\n",
      "[+] Saved vhi_11_2024-04-17T14-44.csv to vhi_dump/\n",
      "[*] Fetch order: 13\n",
      "[+] Successful ID validation!\n",
      "[+] Successful years range validation!\n",
      "[*] Fetching data:\n",
      "\tProvince ID: 13 | Kirovohrad Region\n",
      "\tStart year: 1982\n",
      "\tEnd year: 2023\n",
      "[!] Province ID was changed to the real mapping: 13 (NOAA) -> 12 (UKR oblast centers mapping)\n",
      "[+] Saved vhi_12_2024-04-17T14-44.csv to vhi_dump/\n",
      "[*] Fetch order: 14\n",
      "[+] Successful ID validation!\n",
      "[+] Successful years range validation!\n",
      "[*] Fetching data:\n",
      "\tProvince ID: 14 | Luhansk Region\n",
      "\tStart year: 1982\n",
      "\tEnd year: 2023\n",
      "[!] Province ID was changed to the real mapping: 14 (NOAA) -> 13 (UKR oblast centers mapping)\n",
      "[+] Saved vhi_13_2024-04-17T14-44.csv to vhi_dump/\n",
      "[*] Fetch order: 15\n",
      "[+] Successful ID validation!\n",
      "[+] Successful years range validation!\n",
      "[*] Fetching data:\n",
      "\tProvince ID: 15 | Lviv Region\n",
      "\tStart year: 1982\n",
      "\tEnd year: 2023\n",
      "[!] Province ID was changed to the real mapping: 15 (NOAA) -> 14 (UKR oblast centers mapping)\n",
      "[+] Saved vhi_14_2024-04-17T14-44.csv to vhi_dump/\n",
      "[*] Fetch order: 16\n",
      "[+] Successful ID validation!\n",
      "[+] Successful years range validation!\n",
      "[*] Fetching data:\n",
      "\tProvince ID: 16 | Mykolaiv Region\n",
      "\tStart year: 1982\n",
      "\tEnd year: 2023\n",
      "[!] Province ID was changed to the real mapping: 16 (NOAA) -> 15 (UKR oblast centers mapping)\n",
      "[+] Saved vhi_15_2024-04-17T14-45.csv to vhi_dump/\n",
      "[*] Fetch order: 17\n",
      "[+] Successful ID validation!\n",
      "[+] Successful years range validation!\n",
      "[*] Fetching data:\n",
      "\tProvince ID: 17 | Odesa Region\n",
      "\tStart year: 1982\n",
      "\tEnd year: 2023\n",
      "[!] Province ID was changed to the real mapping: 17 (NOAA) -> 16 (UKR oblast centers mapping)\n",
      "[+] Saved vhi_16_2024-04-17T14-45.csv to vhi_dump/\n",
      "[*] Fetch order: 18\n",
      "[+] Successful ID validation!\n",
      "[+] Successful years range validation!\n",
      "[*] Fetching data:\n",
      "\tProvince ID: 18 | Poltava Region\n",
      "\tStart year: 1982\n",
      "\tEnd year: 2023\n",
      "[!] Province ID was changed to the real mapping: 18 (NOAA) -> 17 (UKR oblast centers mapping)\n",
      "[+] Saved vhi_17_2024-04-17T14-45.csv to vhi_dump/\n",
      "[*] Fetch order: 19\n",
      "[+] Successful ID validation!\n",
      "[+] Successful years range validation!\n",
      "[*] Fetching data:\n",
      "\tProvince ID: 19 | Rivne Region\n",
      "\tStart year: 1982\n",
      "\tEnd year: 2023\n",
      "[!] Province ID was changed to the real mapping: 19 (NOAA) -> 18 (UKR oblast centers mapping)\n",
      "[+] Saved vhi_18_2024-04-17T14-45.csv to vhi_dump/\n",
      "[*] Fetch order: 20\n",
      "[+] Successful ID validation!\n",
      "[+] Successful years range validation!\n",
      "[*] Fetching data:\n",
      "\tProvince ID: 20 | Sevastopol Region\n",
      "\tStart year: 1982\n",
      "\tEnd year: 2023\n",
      "[!] Province ID was changed to the real mapping: 20 (NOAA) -> 27 (UKR oblast centers mapping)\n",
      "[+] Saved vhi_27_2024-04-17T14-45.csv to vhi_dump/\n",
      "[*] Fetch order: 21\n",
      "[+] Successful ID validation!\n",
      "[+] Successful years range validation!\n",
      "[*] Fetching data:\n",
      "\tProvince ID: 21 | Sumy Region\n",
      "\tStart year: 1982\n",
      "\tEnd year: 2023\n",
      "[!] Province ID was changed to the real mapping: 21 (NOAA) -> 19 (UKR oblast centers mapping)\n",
      "[+] Saved vhi_19_2024-04-17T14-45.csv to vhi_dump/\n",
      "[*] Fetch order: 22\n",
      "[!] Invalid province ID\n",
      "[*] Fetch order: 23\n",
      "[+] Successful ID validation!\n",
      "[+] Successful years range validation!\n",
      "[*] Fetching data:\n",
      "\tProvince ID: 23 | Zakarpattia Region\n",
      "\tStart year: 1982\n",
      "\tEnd year: 2023\n",
      "[!] Province ID was changed to the real mapping: 23 (NOAA) -> 7 (UKR oblast centers mapping)\n",
      "[+] Saved vhi_7_2024-04-17T14-45.csv to vhi_dump/\n",
      "[*] Fetch order: 24\n",
      "[+] Successful ID validation!\n",
      "[+] Successful years range validation!\n",
      "[*] Fetching data:\n",
      "\tProvince ID: 24 | Vinnytsia Region\n",
      "\tStart year: 1982\n",
      "\tEnd year: 2023\n",
      "[!] Province ID was changed to the real mapping: 24 (NOAA) -> 2 (UKR oblast centers mapping)\n",
      "[+] Saved vhi_2_2024-04-17T14-45.csv to vhi_dump/\n",
      "[*] Fetch order: 25\n",
      "[+] Successful ID validation!\n",
      "[+] Successful years range validation!\n",
      "[*] Fetching data:\n",
      "\tProvince ID: 25 | Volyn Region\n",
      "\tStart year: 1982\n",
      "\tEnd year: 2023\n",
      "[!] Province ID was changed to the real mapping: 25 (NOAA) -> 3 (UKR oblast centers mapping)\n",
      "[+] Saved vhi_3_2024-04-17T14-45.csv to vhi_dump/\n",
      "[*] Fetch order: 26\n",
      "[+] Successful ID validation!\n",
      "[+] Successful years range validation!\n",
      "[*] Fetching data:\n",
      "\tProvince ID: 26 | Zaporizhia Region\n",
      "\tStart year: 1982\n",
      "\tEnd year: 2023\n",
      "[!] Province ID was changed to the real mapping: 26 (NOAA) -> 8 (UKR oblast centers mapping)\n",
      "[+] Saved vhi_8_2024-04-17T14-45.csv to vhi_dump/\n",
      "[*] Fetch order: 27\n",
      "[+] Successful ID validation!\n",
      "[+] Successful years range validation!\n",
      "[*] Fetching data:\n",
      "\tProvince ID: 27 | Zhytomyr Region\n",
      "\tStart year: 1982\n",
      "\tEnd year: 2023\n",
      "[!] Province ID was changed to the real mapping: 27 (NOAA) -> 6 (UKR oblast centers mapping)\n",
      "[+] Saved vhi_6_2024-04-17T14-45.csv to vhi_dump/\n"
     ]
    }
   ],
   "source": [
    "# clearing dump folder\n",
    "clear_dump_folder(DUMP_FOLDER)\n",
    "    \n",
    "# bulk fetch for provinces from 1 to 4 (NOAA id list)\n",
    "fetch_bulk(1, PROVINCES_COUNT, 1982, 2023)\n",
    "    \n",
    "# collecting files into the pandas dataframe\n",
    "df = get_dataframe(DUMP_FOLDER)"
   ],
   "metadata": {
    "collapsed": false,
    "ExecuteTime": {
     "end_time": "2024-04-17T11:45:09.847845Z",
     "start_time": "2024-04-17T11:44:43.903629Z"
    }
   },
   "id": "3d43860a68528796",
   "execution_count": 12
  },
  {
   "cell_type": "code",
   "outputs": [
    {
     "data": {
      "text/plain": "       PID  Year  Week    SMN     SMT    VCI    TCI    VHI\n0        7  1982     2  0.059  255.61  16.96  85.31  51.13\n1        7  1982     3  0.060  258.56  16.90  74.56  45.73\n2        7  1982     4  0.060  261.17  16.45  63.52  39.98\n3        7  1982     5  0.061  263.92  15.86  53.34  34.60\n4        7  1982     6  0.061  266.49  14.98  47.33  31.15\n...    ...   ...   ...    ...     ...    ...    ...    ...\n56753   26  2023    48  0.146  268.58  63.65  43.93  53.79\n56754   26  2023    49  0.137  267.07  64.58  42.78  53.68\n56755   26  2023    50  0.136  268.02  70.72  31.94  51.33\n56756   26  2023    51  0.132  269.29  76.10  21.63  48.87\n56757   26  2023    52  0.128  269.53  80.35  18.81  49.58\n\n[56758 rows x 8 columns]",
      "text/html": "<div>\n<style scoped>\n    .dataframe tbody tr th:only-of-type {\n        vertical-align: middle;\n    }\n\n    .dataframe tbody tr th {\n        vertical-align: top;\n    }\n\n    .dataframe thead th {\n        text-align: right;\n    }\n</style>\n<table border=\"1\" class=\"dataframe\">\n  <thead>\n    <tr style=\"text-align: right;\">\n      <th></th>\n      <th>PID</th>\n      <th>Year</th>\n      <th>Week</th>\n      <th>SMN</th>\n      <th>SMT</th>\n      <th>VCI</th>\n      <th>TCI</th>\n      <th>VHI</th>\n    </tr>\n  </thead>\n  <tbody>\n    <tr>\n      <th>0</th>\n      <td>7</td>\n      <td>1982</td>\n      <td>2</td>\n      <td>0.059</td>\n      <td>255.61</td>\n      <td>16.96</td>\n      <td>85.31</td>\n      <td>51.13</td>\n    </tr>\n    <tr>\n      <th>1</th>\n      <td>7</td>\n      <td>1982</td>\n      <td>3</td>\n      <td>0.060</td>\n      <td>258.56</td>\n      <td>16.90</td>\n      <td>74.56</td>\n      <td>45.73</td>\n    </tr>\n    <tr>\n      <th>2</th>\n      <td>7</td>\n      <td>1982</td>\n      <td>4</td>\n      <td>0.060</td>\n      <td>261.17</td>\n      <td>16.45</td>\n      <td>63.52</td>\n      <td>39.98</td>\n    </tr>\n    <tr>\n      <th>3</th>\n      <td>7</td>\n      <td>1982</td>\n      <td>5</td>\n      <td>0.061</td>\n      <td>263.92</td>\n      <td>15.86</td>\n      <td>53.34</td>\n      <td>34.60</td>\n    </tr>\n    <tr>\n      <th>4</th>\n      <td>7</td>\n      <td>1982</td>\n      <td>6</td>\n      <td>0.061</td>\n      <td>266.49</td>\n      <td>14.98</td>\n      <td>47.33</td>\n      <td>31.15</td>\n    </tr>\n    <tr>\n      <th>...</th>\n      <td>...</td>\n      <td>...</td>\n      <td>...</td>\n      <td>...</td>\n      <td>...</td>\n      <td>...</td>\n      <td>...</td>\n      <td>...</td>\n    </tr>\n    <tr>\n      <th>56753</th>\n      <td>26</td>\n      <td>2023</td>\n      <td>48</td>\n      <td>0.146</td>\n      <td>268.58</td>\n      <td>63.65</td>\n      <td>43.93</td>\n      <td>53.79</td>\n    </tr>\n    <tr>\n      <th>56754</th>\n      <td>26</td>\n      <td>2023</td>\n      <td>49</td>\n      <td>0.137</td>\n      <td>267.07</td>\n      <td>64.58</td>\n      <td>42.78</td>\n      <td>53.68</td>\n    </tr>\n    <tr>\n      <th>56755</th>\n      <td>26</td>\n      <td>2023</td>\n      <td>50</td>\n      <td>0.136</td>\n      <td>268.02</td>\n      <td>70.72</td>\n      <td>31.94</td>\n      <td>51.33</td>\n    </tr>\n    <tr>\n      <th>56756</th>\n      <td>26</td>\n      <td>2023</td>\n      <td>51</td>\n      <td>0.132</td>\n      <td>269.29</td>\n      <td>76.10</td>\n      <td>21.63</td>\n      <td>48.87</td>\n    </tr>\n    <tr>\n      <th>56757</th>\n      <td>26</td>\n      <td>2023</td>\n      <td>52</td>\n      <td>0.128</td>\n      <td>269.53</td>\n      <td>80.35</td>\n      <td>18.81</td>\n      <td>49.58</td>\n    </tr>\n  </tbody>\n</table>\n<p>56758 rows × 8 columns</p>\n</div>"
     },
     "execution_count": 13,
     "metadata": {},
     "output_type": "execute_result"
    }
   ],
   "source": [
    "df"
   ],
   "metadata": {
    "collapsed": false,
    "ExecuteTime": {
     "end_time": "2024-04-17T11:45:09.862856Z",
     "start_time": "2024-04-17T11:45:09.849130Z"
    }
   },
   "id": "2b5d317fa206ddd3",
   "execution_count": 13
  },
  {
   "cell_type": "markdown",
   "source": [
    "Function that returns VHI series for sepecific region within specific year "
   ],
   "metadata": {
    "collapsed": false
   },
   "id": "75fdbc33493223f0"
  },
  {
   "cell_type": "code",
   "outputs": [],
   "source": [
    "def get_vhi(dataframe: pd.DataFrame, province_id: int, year: int) -> pd.DataFrame | None:\n",
    "    \"\"\"\n",
    "    Returns VHI series for the specified region and year.\n",
    "    \n",
    "    :param dataframe: Pandas DataFrame containing the data.\n",
    "    :param province_id: Region ID as per 'PID' column in the DataFrame.\n",
    "    :param year: Year as integer to filter the VHI series.\n",
    "    :return: Pandas Series containing VHI values for the specified PID and year.\n",
    "    \"\"\"\n",
    "    \n",
    "    if province_id not in dataframe['PID'].unique():\n",
    "        print(f\"[!] PID {province_id} not found in the DataFrame.\")\n",
    "        return None\n",
    "\n",
    "    if year not in df['Year'].unique():\n",
    "        print(f\"[!] Year {year} not found in the DataFrame.\")\n",
    "        return None\n",
    "    \n",
    "    print(f' VHI data series for {province_id=} and {year=}')\n",
    "    \n",
    "    temp = dataframe[(dataframe['PID'] == province_id) & (dataframe['Year'] == year)]\n",
    "    \n",
    "    return temp['VHI'].reset_index(drop=True)\n",
    "    "
   ],
   "metadata": {
    "collapsed": false,
    "ExecuteTime": {
     "end_time": "2024-04-17T11:45:09.867720Z",
     "start_time": "2024-04-17T11:45:09.864116Z"
    }
   },
   "id": "4ad25699b1ec8af",
   "execution_count": 14
  },
  {
   "cell_type": "code",
   "outputs": [
    {
     "name": "stdout",
     "output_type": "stream",
     "text": [
      " VHI data series for province_id=1 and year=2022\n"
     ]
    },
    {
     "data": {
      "text/plain": "0     44.28\n1     45.61\n2     44.44\n3     40.63\n4     40.24\n5     40.19\n6     41.37\n7     41.80\n8     41.67\n9     42.30\n10    43.03\n11    43.30\n12    43.96\n13    44.50\n14    45.52\n15    48.08\n16    53.09\n17    57.25\n18    60.03\n19    60.43\n20    59.39\n21    60.43\n22    60.93\n23    60.22\n24    60.07\n25    59.63\n26    59.18\n27    58.56\n28    58.15\n29    52.95\n30    51.57\n31    49.29\n32    46.48\n33    43.41\n34    40.62\n35    37.58\n36    36.78\n37    37.88\n38    39.34\n39    40.95\n40    41.73\n41    42.07\n42    40.80\n43    37.01\n44    34.83\n45    35.12\n46    35.85\n47    38.75\n48    40.24\n49    41.19\n50    42.21\n51    41.77\nName: VHI, dtype: float64"
     },
     "execution_count": 15,
     "metadata": {},
     "output_type": "execute_result"
    }
   ],
   "source": [
    "get_vhi(df, 1, 2022)"
   ],
   "metadata": {
    "collapsed": false,
    "ExecuteTime": {
     "end_time": "2024-04-17T11:45:09.873719Z",
     "start_time": "2024-04-17T11:45:09.868578Z"
    }
   },
   "id": "5f6bd1b99fbbc4dc",
   "execution_count": 15
  },
  {
   "cell_type": "code",
   "outputs": [],
   "source": [
    "def get_max_min_vhi(dataframe: pd.DataFrame, provinces: list, years: list) -> pd.DataFrame | None:\n",
    "    \"\"\"\n",
    "    Returns Min VHI and Max VHI series for the specified provinces and years\n",
    "    :param dataframe: Pandas DataFrame containing the data.\n",
    "    :param provinces: List of provinces id (real regional mapping)\n",
    "    :param years: List of years to retrieve\n",
    "    :return: Pandas DataFrame or Nothing if error occurs\n",
    "    \"\"\"\n",
    "    \n",
    "    if not set(provinces).issubset(dataframe['PID'].unique()):\n",
    "        print(\"[!] One or more specified provinces are not in the DataFrame.\")\n",
    "        print(f'[?] Possible PID in the given DateFrame: {suggest_values(dataframe)[0]}')\n",
    "        return None\n",
    "\n",
    "    if not set(years).issubset(dataframe['Year'].unique()):\n",
    "        print(\"[!] One or more specified years are not in the DataFrame.\")\n",
    "        print(f'[?] Possible years in the given DateFrame: {suggest_values(dataframe)[1]}')\n",
    "        return None\n",
    "    \n",
    "    result:list = []\n",
    "    \n",
    "    for pid in provinces: \n",
    "        for year in sorted(years):\n",
    "            \n",
    "            temp = dataframe[(dataframe['PID'] == pid) & (dataframe['Year'] == year)]\n",
    "            \n",
    "            if temp.empty:\n",
    "                continue\n",
    "            \n",
    "            min_vhi = temp['VHI'].min()\n",
    "            max_vhi = temp['VHI'].max()\n",
    "            \n",
    "            result.append({'Province ID': pid, \n",
    "                                    'Year': year, \n",
    "                                    'Min VHI': min_vhi, \n",
    "                                    'Max VHI': max_vhi})\n",
    "    \n",
    "    result = pd.DataFrame(result)\n",
    "    \n",
    "    return result if not result.empty else None\n",
    "    \n",
    "    "
   ],
   "metadata": {
    "collapsed": false,
    "ExecuteTime": {
     "end_time": "2024-04-17T11:45:09.878612Z",
     "start_time": "2024-04-17T11:45:09.874568Z"
    }
   },
   "id": "bae88e018df4f934",
   "execution_count": 16
  },
  {
   "cell_type": "code",
   "outputs": [
    {
     "data": {
      "text/plain": "    Province ID  Year  Min VHI  Max VHI\n0             1  2014    28.95    56.51\n1             1  2017    21.17    60.38\n2             1  2019    18.85    58.77\n3             1  2022    34.83    60.93\n4            22  2014    26.24    53.41\n5            22  2017    24.72    58.49\n6            22  2019    28.06    61.08\n7            22  2022    35.70    54.81\n8            24  2014    37.59    67.44\n9            24  2017    35.58    59.50\n10           24  2019    18.02    69.20\n11           24  2022    36.12    72.32",
      "text/html": "<div>\n<style scoped>\n    .dataframe tbody tr th:only-of-type {\n        vertical-align: middle;\n    }\n\n    .dataframe tbody tr th {\n        vertical-align: top;\n    }\n\n    .dataframe thead th {\n        text-align: right;\n    }\n</style>\n<table border=\"1\" class=\"dataframe\">\n  <thead>\n    <tr style=\"text-align: right;\">\n      <th></th>\n      <th>Province ID</th>\n      <th>Year</th>\n      <th>Min VHI</th>\n      <th>Max VHI</th>\n    </tr>\n  </thead>\n  <tbody>\n    <tr>\n      <th>0</th>\n      <td>1</td>\n      <td>2014</td>\n      <td>28.95</td>\n      <td>56.51</td>\n    </tr>\n    <tr>\n      <th>1</th>\n      <td>1</td>\n      <td>2017</td>\n      <td>21.17</td>\n      <td>60.38</td>\n    </tr>\n    <tr>\n      <th>2</th>\n      <td>1</td>\n      <td>2019</td>\n      <td>18.85</td>\n      <td>58.77</td>\n    </tr>\n    <tr>\n      <th>3</th>\n      <td>1</td>\n      <td>2022</td>\n      <td>34.83</td>\n      <td>60.93</td>\n    </tr>\n    <tr>\n      <th>4</th>\n      <td>22</td>\n      <td>2014</td>\n      <td>26.24</td>\n      <td>53.41</td>\n    </tr>\n    <tr>\n      <th>5</th>\n      <td>22</td>\n      <td>2017</td>\n      <td>24.72</td>\n      <td>58.49</td>\n    </tr>\n    <tr>\n      <th>6</th>\n      <td>22</td>\n      <td>2019</td>\n      <td>28.06</td>\n      <td>61.08</td>\n    </tr>\n    <tr>\n      <th>7</th>\n      <td>22</td>\n      <td>2022</td>\n      <td>35.70</td>\n      <td>54.81</td>\n    </tr>\n    <tr>\n      <th>8</th>\n      <td>24</td>\n      <td>2014</td>\n      <td>37.59</td>\n      <td>67.44</td>\n    </tr>\n    <tr>\n      <th>9</th>\n      <td>24</td>\n      <td>2017</td>\n      <td>35.58</td>\n      <td>59.50</td>\n    </tr>\n    <tr>\n      <th>10</th>\n      <td>24</td>\n      <td>2019</td>\n      <td>18.02</td>\n      <td>69.20</td>\n    </tr>\n    <tr>\n      <th>11</th>\n      <td>24</td>\n      <td>2022</td>\n      <td>36.12</td>\n      <td>72.32</td>\n    </tr>\n  </tbody>\n</table>\n</div>"
     },
     "execution_count": 17,
     "metadata": {},
     "output_type": "execute_result"
    }
   ],
   "source": [
    "get_max_min_vhi(df, [1, 22, 24], [2019, 2022, 2014, 2017])"
   ],
   "metadata": {
    "collapsed": false,
    "ExecuteTime": {
     "end_time": "2024-04-17T11:45:09.890638Z",
     "start_time": "2024-04-17T11:45:09.879466Z"
    }
   },
   "id": "12d14967229533f7",
   "execution_count": 17
  },
  {
   "cell_type": "markdown",
   "source": [
    "Some util function that suggests years and province ids based on the provided dataframe "
   ],
   "metadata": {
    "collapsed": false
   },
   "id": "161ce48f807df9df"
  },
  {
   "cell_type": "code",
   "outputs": [],
   "source": [
    "def suggest_values(dataframe: pd.DataFrame) -> (list, list):\n",
    "    \"\"\"\n",
    "    Returns the unique years and province IDs from the DataFrame\n",
    "    :param dataframe: Pandas DataFrame\n",
    "    :return: A tuple containing two lists of years and province ids\n",
    "    \"\"\"\n",
    "    \n",
    "    if dataframe.empty:\n",
    "        print(f'[!] DataFrame is empty :/')\n",
    "        return \n",
    "    \n",
    "    years = dataframe['Year'].unique().tolist()\n",
    "    ids = dataframe['PID'].unique().tolist()\n",
    "    \n",
    "    years.sort()\n",
    "    ids.sort()\n",
    "    \n",
    "    return ids, years"
   ],
   "metadata": {
    "collapsed": false,
    "ExecuteTime": {
     "end_time": "2024-04-17T11:45:09.894253Z",
     "start_time": "2024-04-17T11:45:09.891622Z"
    }
   },
   "id": "3be582599672eb2b",
   "execution_count": 18
  },
  {
   "cell_type": "markdown",
   "source": [
    "Returns VHI series for the specified provinces and years"
   ],
   "metadata": {
    "collapsed": false
   },
   "id": "9168209f52649071"
  },
  {
   "cell_type": "code",
   "outputs": [],
   "source": [
    "def get_vhi_range(dataframe: pd.DataFrame, provinces: list, years: list) -> pd.DataFrame | None:\n",
    "    \"\"\"\n",
    "    Returns VHI series for the specified provinces and years\n",
    "    :param dataframe: Pandas DataFrame containing the data.\n",
    "    :param provinces: List of provinces id (real regional mapping)\n",
    "    :param years: List of years to retrieve\n",
    "    :return: Pandas DataFrame or Nothing if error occurs\n",
    "    \"\"\"\n",
    "    \n",
    "    if not set(provinces).issubset(dataframe['PID'].unique()):\n",
    "        print(\"[!] One or more specified provinces are not in the DataFrame.\")\n",
    "        print(f'[?] Possible PID in the given DateFrame: {suggest_values(dataframe)[0]}')\n",
    "        return None\n",
    "\n",
    "    if not set(years).issubset(dataframe['Year'].unique()):\n",
    "        print(\"[!] One or more specified years are not in the DataFrame.\")\n",
    "        print(f'[?] Possible years in the given DateFrame: {suggest_values(dataframe)[1]}')\n",
    "        return None\n",
    "    \n",
    "    result: pd.DataFrame = dataframe[dataframe['PID'].isin(provinces) & dataframe['Year'].isin(years)]\n",
    "    \n",
    "    if result.empty:\n",
    "        print(\"[!] Some error happened, so no data is returned.\")\n",
    "        return\n",
    "    \n",
    "    result = result[['PID', 'Year', 'Week', 'VHI']]\n",
    "    \n",
    "    return result\n",
    "    "
   ],
   "metadata": {
    "collapsed": false,
    "ExecuteTime": {
     "end_time": "2024-04-17T11:45:09.898931Z",
     "start_time": "2024-04-17T11:45:09.895170Z"
    }
   },
   "id": "d7428fdf1acd1fb7",
   "execution_count": 19
  },
  {
   "cell_type": "code",
   "outputs": [
    {
     "data": {
      "text/plain": "       PID  Year  Week    VHI\n25936   24  2019     1  52.26\n25937   24  2019     2  53.94\n25938   24  2019     3  56.98\n25939   24  2019     4  56.87\n25940   24  2019     5  52.78\n...    ...   ...   ...    ...\n54518    1  2022    48  38.75\n54519    1  2022    49  40.24\n54520    1  2022    50  41.19\n54521    1  2022    51  42.21\n54522    1  2022    52  41.77\n\n[312 rows x 4 columns]",
      "text/html": "<div>\n<style scoped>\n    .dataframe tbody tr th:only-of-type {\n        vertical-align: middle;\n    }\n\n    .dataframe tbody tr th {\n        vertical-align: top;\n    }\n\n    .dataframe thead th {\n        text-align: right;\n    }\n</style>\n<table border=\"1\" class=\"dataframe\">\n  <thead>\n    <tr style=\"text-align: right;\">\n      <th></th>\n      <th>PID</th>\n      <th>Year</th>\n      <th>Week</th>\n      <th>VHI</th>\n    </tr>\n  </thead>\n  <tbody>\n    <tr>\n      <th>25936</th>\n      <td>24</td>\n      <td>2019</td>\n      <td>1</td>\n      <td>52.26</td>\n    </tr>\n    <tr>\n      <th>25937</th>\n      <td>24</td>\n      <td>2019</td>\n      <td>2</td>\n      <td>53.94</td>\n    </tr>\n    <tr>\n      <th>25938</th>\n      <td>24</td>\n      <td>2019</td>\n      <td>3</td>\n      <td>56.98</td>\n    </tr>\n    <tr>\n      <th>25939</th>\n      <td>24</td>\n      <td>2019</td>\n      <td>4</td>\n      <td>56.87</td>\n    </tr>\n    <tr>\n      <th>25940</th>\n      <td>24</td>\n      <td>2019</td>\n      <td>5</td>\n      <td>52.78</td>\n    </tr>\n    <tr>\n      <th>...</th>\n      <td>...</td>\n      <td>...</td>\n      <td>...</td>\n      <td>...</td>\n    </tr>\n    <tr>\n      <th>54518</th>\n      <td>1</td>\n      <td>2022</td>\n      <td>48</td>\n      <td>38.75</td>\n    </tr>\n    <tr>\n      <th>54519</th>\n      <td>1</td>\n      <td>2022</td>\n      <td>49</td>\n      <td>40.24</td>\n    </tr>\n    <tr>\n      <th>54520</th>\n      <td>1</td>\n      <td>2022</td>\n      <td>50</td>\n      <td>41.19</td>\n    </tr>\n    <tr>\n      <th>54521</th>\n      <td>1</td>\n      <td>2022</td>\n      <td>51</td>\n      <td>42.21</td>\n    </tr>\n    <tr>\n      <th>54522</th>\n      <td>1</td>\n      <td>2022</td>\n      <td>52</td>\n      <td>41.77</td>\n    </tr>\n  </tbody>\n</table>\n<p>312 rows × 4 columns</p>\n</div>"
     },
     "execution_count": 20,
     "metadata": {},
     "output_type": "execute_result"
    }
   ],
   "source": [
    "get_vhi_range(df, [1, 22, 24], [2022, 2019])"
   ],
   "metadata": {
    "collapsed": false,
    "ExecuteTime": {
     "end_time": "2024-04-17T11:45:09.908633Z",
     "start_time": "2024-04-17T11:45:09.899924Z"
    }
   },
   "id": "3c74eded421e5e1e",
   "execution_count": 20
  },
  {
   "cell_type": "code",
   "outputs": [],
   "source": [
    "def analyse_droughts(dataframe: pd.DataFrame, vhi_min: int, vhi_max: int,  affected: int) -> pd.DataFrame | None:\n",
    "    \"\"\"\n",
    "    Get entries from the dataframe where VHI are within given bounds (vhi_min and vhi_max) and return affected% of provinces\n",
    "    \n",
    "    :param dataframe: Pandas DataFrame containing the data.\n",
    "    :param vhi_min: The lower VHI threshold \n",
    "    :param vhi_max: the upper VHI threshold \n",
    "    :param affected: Sets bound for top X% provinces\n",
    "    :return: Padnas dataframe\n",
    "    \"\"\"\n",
    "    \n",
    "    drought_conditions = dataframe[(dataframe['VHI'] >= vhi_min) & (dataframe['VHI'] <= vhi_max)]\n",
    "\n",
    "    # calculate the total number of entries to include (top X% lowest VHI across all entries)\n",
    "    total_entries_to_include = int(np.ceil(len(drought_conditions) * affected / 100))\n",
    "    \n",
    "    # sort all drought conditions by VHI to find the most severe droughts\n",
    "    worst_hit_entries = drought_conditions.nsmallest(total_entries_to_include, 'VHI')\n",
    "    \n",
    "    worst_hit_entries = worst_hit_entries.groupby('PID').apply(lambda x: x.nsmallest(1, 'VHI')).reset_index(drop=True)\n",
    "    \n",
    "    # map PID to province names\n",
    "    worst_hit_entries['Province'] = worst_hit_entries['PID'].apply(get_province)\n",
    "\n",
    "    # sort resulting dataframe by vhi in the ascending order\n",
    "    worst_hit_entries = worst_hit_entries.sort_values(by='VHI', ascending=True).reset_index(drop=True)\n",
    "    \n",
    "    return worst_hit_entries[['Year', 'Province', 'VHI']]\n",
    "    "
   ],
   "metadata": {
    "collapsed": false,
    "ExecuteTime": {
     "end_time": "2024-04-17T12:02:48.261181Z",
     "start_time": "2024-04-17T12:02:48.252527Z"
    }
   },
   "id": "91559496ec7ef7f9",
   "execution_count": 58
  },
  {
   "cell_type": "code",
   "outputs": [
    {
     "data": {
      "text/plain": "   Year           Province   VHI\n0  2007       Odesa Region  5.52\n1  2007    Mykolaiv Region  5.94\n2  1993     Donetsk Region  6.26\n3  2000          Kyiv City  6.49\n4  2000  Sevastopol Region  8.14",
      "text/html": "<div>\n<style scoped>\n    .dataframe tbody tr th:only-of-type {\n        vertical-align: middle;\n    }\n\n    .dataframe tbody tr th {\n        vertical-align: top;\n    }\n\n    .dataframe thead th {\n        text-align: right;\n    }\n</style>\n<table border=\"1\" class=\"dataframe\">\n  <thead>\n    <tr style=\"text-align: right;\">\n      <th></th>\n      <th>Year</th>\n      <th>Province</th>\n      <th>VHI</th>\n    </tr>\n  </thead>\n  <tbody>\n    <tr>\n      <th>0</th>\n      <td>2007</td>\n      <td>Odesa Region</td>\n      <td>5.52</td>\n    </tr>\n    <tr>\n      <th>1</th>\n      <td>2007</td>\n      <td>Mykolaiv Region</td>\n      <td>5.94</td>\n    </tr>\n    <tr>\n      <th>2</th>\n      <td>1993</td>\n      <td>Donetsk Region</td>\n      <td>6.26</td>\n    </tr>\n    <tr>\n      <th>3</th>\n      <td>2000</td>\n      <td>Kyiv City</td>\n      <td>6.49</td>\n    </tr>\n    <tr>\n      <th>4</th>\n      <td>2000</td>\n      <td>Sevastopol Region</td>\n      <td>8.14</td>\n    </tr>\n  </tbody>\n</table>\n</div>"
     },
     "execution_count": 59,
     "metadata": {},
     "output_type": "execute_result"
    }
   ],
   "source": [
    "analyse_droughts(df, 0, 15, 20)"
   ],
   "metadata": {
    "collapsed": false,
    "ExecuteTime": {
     "end_time": "2024-04-17T12:02:48.475236Z",
     "start_time": "2024-04-17T12:02:48.462836Z"
    }
   },
   "id": "2eaa3b57b6ffbb0b",
   "execution_count": 59
  },
  {
   "cell_type": "markdown",
   "source": [
    "For severe droughts (VHI <= 20)"
   ],
   "metadata": {
    "collapsed": false
   },
   "id": "d6fdcf083945a565"
  },
  {
   "cell_type": "code",
   "outputs": [
    {
     "data": {
      "text/plain": "    Year                   Province    VHI\n0   2007               Odesa Region  20.00\n1   1986            Mykolaiv Region  20.00\n2   1985         Zakarpattia Region  20.01\n3   2020          Zaporizhia Region  20.03\n4   1986          Kirovohrad Region  20.03\n5   1986             Donetsk Region  20.05\n6   2019  Republic of Crimea Region  20.06\n7   1993      Dnipropetrovsk Region  20.06\n8   2000           Chernihiv Region  20.09\n9   2019            Cherkasy Region  20.14\n10  1994                Lviv Region  20.16\n11  1992                Kyiv Region  20.22\n12  2009           Vinnytsia Region  20.23\n13  1986             Luhansk Region  20.29\n14  1993        Khmelnytskyi Region  20.31\n15  2010                Sumy Region  20.33\n16  2023             Kherson Region  20.37\n17  1993          Chernivtsi Region  20.42\n18  1986             Kharkiv Region  20.43\n19  1993          Sevastopol Region  20.48\n20  1986                  Kyiv City  20.61\n21  2002               Rivne Region  20.70\n22  2000     Ivano-Frankivsk Region  20.71\n23  1986             Poltava Region  20.98\n24  1992            Zhytomyr Region  21.18\n25  1984               Volyn Region  22.11",
      "text/html": "<div>\n<style scoped>\n    .dataframe tbody tr th:only-of-type {\n        vertical-align: middle;\n    }\n\n    .dataframe tbody tr th {\n        vertical-align: top;\n    }\n\n    .dataframe thead th {\n        text-align: right;\n    }\n</style>\n<table border=\"1\" class=\"dataframe\">\n  <thead>\n    <tr style=\"text-align: right;\">\n      <th></th>\n      <th>Year</th>\n      <th>Province</th>\n      <th>VHI</th>\n    </tr>\n  </thead>\n  <tbody>\n    <tr>\n      <th>0</th>\n      <td>2007</td>\n      <td>Odesa Region</td>\n      <td>20.00</td>\n    </tr>\n    <tr>\n      <th>1</th>\n      <td>1986</td>\n      <td>Mykolaiv Region</td>\n      <td>20.00</td>\n    </tr>\n    <tr>\n      <th>2</th>\n      <td>1985</td>\n      <td>Zakarpattia Region</td>\n      <td>20.01</td>\n    </tr>\n    <tr>\n      <th>3</th>\n      <td>2020</td>\n      <td>Zaporizhia Region</td>\n      <td>20.03</td>\n    </tr>\n    <tr>\n      <th>4</th>\n      <td>1986</td>\n      <td>Kirovohrad Region</td>\n      <td>20.03</td>\n    </tr>\n    <tr>\n      <th>5</th>\n      <td>1986</td>\n      <td>Donetsk Region</td>\n      <td>20.05</td>\n    </tr>\n    <tr>\n      <th>6</th>\n      <td>2019</td>\n      <td>Republic of Crimea Region</td>\n      <td>20.06</td>\n    </tr>\n    <tr>\n      <th>7</th>\n      <td>1993</td>\n      <td>Dnipropetrovsk Region</td>\n      <td>20.06</td>\n    </tr>\n    <tr>\n      <th>8</th>\n      <td>2000</td>\n      <td>Chernihiv Region</td>\n      <td>20.09</td>\n    </tr>\n    <tr>\n      <th>9</th>\n      <td>2019</td>\n      <td>Cherkasy Region</td>\n      <td>20.14</td>\n    </tr>\n    <tr>\n      <th>10</th>\n      <td>1994</td>\n      <td>Lviv Region</td>\n      <td>20.16</td>\n    </tr>\n    <tr>\n      <th>11</th>\n      <td>1992</td>\n      <td>Kyiv Region</td>\n      <td>20.22</td>\n    </tr>\n    <tr>\n      <th>12</th>\n      <td>2009</td>\n      <td>Vinnytsia Region</td>\n      <td>20.23</td>\n    </tr>\n    <tr>\n      <th>13</th>\n      <td>1986</td>\n      <td>Luhansk Region</td>\n      <td>20.29</td>\n    </tr>\n    <tr>\n      <th>14</th>\n      <td>1993</td>\n      <td>Khmelnytskyi Region</td>\n      <td>20.31</td>\n    </tr>\n    <tr>\n      <th>15</th>\n      <td>2010</td>\n      <td>Sumy Region</td>\n      <td>20.33</td>\n    </tr>\n    <tr>\n      <th>16</th>\n      <td>2023</td>\n      <td>Kherson Region</td>\n      <td>20.37</td>\n    </tr>\n    <tr>\n      <th>17</th>\n      <td>1993</td>\n      <td>Chernivtsi Region</td>\n      <td>20.42</td>\n    </tr>\n    <tr>\n      <th>18</th>\n      <td>1986</td>\n      <td>Kharkiv Region</td>\n      <td>20.43</td>\n    </tr>\n    <tr>\n      <th>19</th>\n      <td>1993</td>\n      <td>Sevastopol Region</td>\n      <td>20.48</td>\n    </tr>\n    <tr>\n      <th>20</th>\n      <td>1986</td>\n      <td>Kyiv City</td>\n      <td>20.61</td>\n    </tr>\n    <tr>\n      <th>21</th>\n      <td>2002</td>\n      <td>Rivne Region</td>\n      <td>20.70</td>\n    </tr>\n    <tr>\n      <th>22</th>\n      <td>2000</td>\n      <td>Ivano-Frankivsk Region</td>\n      <td>20.71</td>\n    </tr>\n    <tr>\n      <th>23</th>\n      <td>1986</td>\n      <td>Poltava Region</td>\n      <td>20.98</td>\n    </tr>\n    <tr>\n      <th>24</th>\n      <td>1992</td>\n      <td>Zhytomyr Region</td>\n      <td>21.18</td>\n    </tr>\n    <tr>\n      <th>25</th>\n      <td>1984</td>\n      <td>Volyn Region</td>\n      <td>22.11</td>\n    </tr>\n  </tbody>\n</table>\n</div>"
     },
     "execution_count": 55,
     "metadata": {},
     "output_type": "execute_result"
    }
   ],
   "source": [
    "analyse_droughts(df, 20, 30, 20)"
   ],
   "metadata": {
    "collapsed": false,
    "ExecuteTime": {
     "end_time": "2024-04-17T11:59:30.302054Z",
     "start_time": "2024-04-17T11:59:30.234642Z"
    }
   },
   "id": "188c2874d161f34a",
   "execution_count": 55
  },
  {
   "cell_type": "markdown",
   "source": [
    "For moderate droughts (VHI >= 20 and <= 30)"
   ],
   "metadata": {
    "collapsed": false
   },
   "id": "ecb2a559a57d548"
  },
  {
   "cell_type": "code",
   "outputs": [],
   "source": [
    "def get_droughts_count(dataframe, vhi_min, vhi_max, percentage) -> pd.DataFrame:\n",
    "    \n",
    "    num_provinces_affected = round((percentage / 100) * len(df['PID'].unique()))\n",
    "    \n",
    "    droughts = dataframe[(dataframe['VHI'] >= vhi_min) & (dataframe['VHI'] <= vhi_max)]\n",
    "    \n",
    "    yearly_droughts = droughts.groupby(['Year', 'PID']).size().reset_index(name='count')\n",
    "\n",
    "    years_with_extreme_droughts = yearly_droughts.groupby('Year')['PID'].agg(['count', list]).reset_index()\n",
    "    \n",
    "    years_affected = years_with_extreme_droughts[years_with_extreme_droughts['count'] >= num_provinces_affected]\n",
    "    \n",
    "    years_affected.columns = ['Year', 'Entries', 'Regions']\n",
    "    \n",
    "    return years_affected.reset_index(drop=True)"
   ],
   "metadata": {
    "collapsed": false,
    "ExecuteTime": {
     "end_time": "2024-04-17T12:06:28.552072Z",
     "start_time": "2024-04-17T12:06:28.541126Z"
    }
   },
   "id": "ecaad155fac169ad",
   "execution_count": 64
  },
  {
   "cell_type": "markdown",
   "source": [
    "Test func :/"
   ],
   "metadata": {
    "collapsed": false
   },
   "id": "ec1bf9ceed63dcca"
  },
  {
   "cell_type": "code",
   "outputs": [
    {
     "data": {
      "text/plain": "   Year  Entries                  Regions\n0  1984        1                     [19]\n1  1986        2                  [5, 13]\n2  1993        2                  [5, 13]\n3  1994        1                      [3]\n4  1999        1                     [11]\n5  2000        6  [2, 10, 11, 21, 24, 27]\n6  2003        1                     [22]\n7  2007        5       [1, 8, 15, 16, 22]\n8  2012        1                      [1]",
      "text/html": "<div>\n<style scoped>\n    .dataframe tbody tr th:only-of-type {\n        vertical-align: middle;\n    }\n\n    .dataframe tbody tr th {\n        vertical-align: top;\n    }\n\n    .dataframe thead th {\n        text-align: right;\n    }\n</style>\n<table border=\"1\" class=\"dataframe\">\n  <thead>\n    <tr style=\"text-align: right;\">\n      <th></th>\n      <th>Year</th>\n      <th>Entries</th>\n      <th>Regions</th>\n    </tr>\n  </thead>\n  <tbody>\n    <tr>\n      <th>0</th>\n      <td>1984</td>\n      <td>1</td>\n      <td>[19]</td>\n    </tr>\n    <tr>\n      <th>1</th>\n      <td>1986</td>\n      <td>2</td>\n      <td>[5, 13]</td>\n    </tr>\n    <tr>\n      <th>2</th>\n      <td>1993</td>\n      <td>2</td>\n      <td>[5, 13]</td>\n    </tr>\n    <tr>\n      <th>3</th>\n      <td>1994</td>\n      <td>1</td>\n      <td>[3]</td>\n    </tr>\n    <tr>\n      <th>4</th>\n      <td>1999</td>\n      <td>1</td>\n      <td>[11]</td>\n    </tr>\n    <tr>\n      <th>5</th>\n      <td>2000</td>\n      <td>6</td>\n      <td>[2, 10, 11, 21, 24, 27]</td>\n    </tr>\n    <tr>\n      <th>6</th>\n      <td>2003</td>\n      <td>1</td>\n      <td>[22]</td>\n    </tr>\n    <tr>\n      <th>7</th>\n      <td>2007</td>\n      <td>5</td>\n      <td>[1, 8, 15, 16, 22]</td>\n    </tr>\n    <tr>\n      <th>8</th>\n      <td>2012</td>\n      <td>1</td>\n      <td>[1]</td>\n    </tr>\n  </tbody>\n</table>\n</div>"
     },
     "execution_count": 65,
     "metadata": {},
     "output_type": "execute_result"
    }
   ],
   "source": [
    "get_droughts_count(df, 0, 15, 5)"
   ],
   "metadata": {
    "collapsed": false,
    "ExecuteTime": {
     "end_time": "2024-04-17T12:06:28.867260Z",
     "start_time": "2024-04-17T12:06:28.847600Z"
    }
   },
   "id": "3f7387174522e085",
   "execution_count": 65
  }
 ],
 "metadata": {
  "kernelspec": {
   "display_name": "Python 3",
   "language": "python",
   "name": "python3"
  },
  "language_info": {
   "codemirror_mode": {
    "name": "ipython",
    "version": 2
   },
   "file_extension": ".py",
   "mimetype": "text/x-python",
   "name": "python",
   "nbconvert_exporter": "python",
   "pygments_lexer": "ipython2",
   "version": "2.7.6"
  }
 },
 "nbformat": 4,
 "nbformat_minor": 5
}
