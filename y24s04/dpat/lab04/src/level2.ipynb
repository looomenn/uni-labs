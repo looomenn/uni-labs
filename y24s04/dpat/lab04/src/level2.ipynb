{
 "cells": [
  {
   "cell_type": "code",
   "execution_count": null,
   "id": "initial_id",
   "metadata": {
    "collapsed": true
   },
   "outputs": [],
   "source": [
    "\"\"\"\n",
    "Course: dpat4\n",
    "Lab: 04\n",
    "Part: 2\n",
    "\"\"\"\n",
    "\n",
    "import time\n",
    "import numpy as np\n",
    "import pandas as pd\n",
    "import seaborn as sns\n",
    "import matplotlib.pyplot as plt\n",
    "\n",
    "from contextlib import contextmanager\n",
    "from scipy.stats import pearsonr, spearmanr\n",
    "\n",
    "TIMER: dict = {}\n",
    "\n",
    "\n",
    "def record(lib: str, task: str, time_used: float) -> None:\n",
    "    \"\"\"\n",
    "    Record the elapsed time of the task using specific lib\n",
    "    :param lib: the name of the lib used (numpy, pandas)\n",
    "    :param task: task number (task1)\n",
    "    :param time_used: time used to complete the task\n",
    "    :return: None\n",
    "    \"\"\"\n",
    "    global TIMER\n",
    "    \n",
    "    if lib not in TIMER:\n",
    "        TIMER[lib] = {}\n",
    "    TIMER[lib][task] = time_used\n",
    "\n",
    "\n",
    "@contextmanager\n",
    "def timer(lib: str, task: str):\n",
    "    start = time.time()\n",
    "    try:\n",
    "        yield\n",
    "    finally:\n",
    "        end = time.time()\n",
    "        time_used = round(end - start, 6)\n",
    "        record(lib, task, time_used)\n",
    "        \n",
    "        print(f'task: {task:}\\nlib: {lib}\\ntime used: {time_used}')\n",
    "\n",
    "\n",
    "URL = \"https://archive.ics.uciedu/ml/machine-learning-databases/heart-disease/processed.cleveland.data\"\n",
    "\n",
    "print('Setup complete...')"
   ]
  },
  {
   "cell_type": "markdown",
   "source": [
    "## Task No. 0\n",
    "Desc: Імпортування дата сету"
   ],
   "metadata": {
    "collapsed": false
   },
   "id": "a45c25c789fec726"
  },
  {
   "cell_type": "code",
   "outputs": [],
   "source": [
    "# task: 0\n",
    "# lib: pandas\n",
    "\n",
    "headers = [\"age\", \"sex\", \"cp\", \"trestbps\", \"chol\", \"fbs\", \"restecg\", \"thalach\", \"exang\", \"oldpeak\", \"slope\", \"ca\", \"thal\", \"num\"]\n",
    "\n",
    "with timer('pandas', 'task0'):\n",
    "    pd_data = pd.read_csv(URL, sep=',', na_values='?', names=headers)\n",
    "    pd_data.dropna(inplace=True)\n",
    "\n",
    "pd_data.head()"
   ],
   "metadata": {
    "collapsed": false
   },
   "id": "bd9649a8ed83a2a3",
   "execution_count": null
  },
  {
   "cell_type": "code",
   "outputs": [],
   "source": [
    "# task: 0\n",
    "# lib: numpy\n",
    "\n",
    "with timer('numpy', 'task0'):\n",
    "    \n",
    "    np_data = np.genfromtxt(\n",
    "        URL, \n",
    "        delimiter=',',\n",
    "        missing_values='?',\n",
    "        filling_values=np.nan,\n",
    "        dtype=None,\n",
    "        encoding=None,\n",
    "        names=headers\n",
    "    )\n",
    "    \n",
    "    mask = np.all([~np.isnan(np_data[col]) for col in headers], axis=0)\n",
    "    \n",
    "    np_data = np_data[mask]\n",
    "\n",
    "np_data"
   ],
   "metadata": {
    "collapsed": false
   },
   "id": "fac5c91d8b9da685",
   "execution_count": null
  },
  {
   "cell_type": "code",
   "outputs": [],
   "source": [
    "# test for NaN values\n",
    "\n",
    "nan_mask = np.any([np.isnan(np_data[col]) for col in headers], axis=0)\n",
    "nan = np_data[nan_mask]\n",
    "\n",
    "nan"
   ],
   "metadata": {
    "collapsed": false
   },
   "id": "b316daa63efb8d58",
   "execution_count": null
  },
  {
   "cell_type": "markdown",
   "source": [
    "## Task No. 1\n",
    "Нормалізувати датасет"
   ],
   "metadata": {
    "collapsed": false
   },
   "id": "bbcfbbaf262d2dac"
  },
  {
   "cell_type": "code",
   "outputs": [],
   "source": [
    "def normalise(data):\n",
    "    return (data - np.min(data, axis=0)) / (np.max(data, axis=0) - np.min(data, axis=0))\n",
    "\n",
    "# task: 1\n",
    "# lib: pandas\n",
    "\n",
    "with timer('pandas', 'task1'):\n",
    "    \n",
    "    pd_data = pd_data.astype(float)\n",
    "    \n",
    "    normalise_cols = ['trestbps', 'chol', 'thalach', 'oldpeak']\n",
    "    \n",
    "    pd_normalised = pd_data.copy()\n",
    "    pd_normalised[normalise_cols] = normalise(pd_data[normalise_cols])\n",
    "    \n",
    "pd_normalised"
   ],
   "metadata": {
    "collapsed": false
   },
   "id": "59e77793d7225b79",
   "execution_count": null
  },
  {
   "cell_type": "code",
   "outputs": [],
   "source": [
    "# task: 1\n",
    "# lib: numpy\n",
    "\n",
    "with timer('numpy', 'task1'):\n",
    "    \n",
    "    np_normalised = np_data.copy()\n",
    "    \n",
    "    for col in normalise_cols:\n",
    "        np_normalised[col] = normalise(np_data[col])\n",
    "    \n",
    "np_normalised"
   ],
   "metadata": {
    "collapsed": false
   },
   "id": "8c0e03a661fc50ca",
   "execution_count": null
  },
  {
   "cell_type": "markdown",
   "source": [
    "## Task No. 2\n",
    "Збудувати гістограму по одному із атрибутів, що буде показувати на кількість елементів, що знаходяться у 10 діапазонах, які ви задасте."
   ],
   "metadata": {
    "collapsed": false
   },
   "id": "dade76002480460c"
  },
  {
   "cell_type": "code",
   "outputs": [],
   "source": [
    "# task: 2\n",
    "# lib: pandas\n",
    "\n",
    "with timer('pandas', 'task2'):\n",
    "    pd_data['age'].plot(kind='hist', bins=10, edgecolor='black')\n",
    "    \n",
    "    plt.title('Histogram of Age')\n",
    "    plt.xlabel('Age')\n",
    "    plt.ylabel('Frequency')\n",
    "    plt.show()"
   ],
   "metadata": {
    "collapsed": false
   },
   "id": "50152f10107bb272",
   "execution_count": null
  },
  {
   "cell_type": "code",
   "outputs": [],
   "source": [
    "# task: 2\n",
    "# lib: numpy\n",
    "\n",
    "with timer('numpy', 'task2'):\n",
    "    plt.hist(np_normalised['sex'], bins=2, edgecolor='black')\n",
    "    \n",
    "    plt.xticks([0,1], ['Female','Male'])\n",
    "    plt.title('Histogram of Sex')\n",
    "    plt.xlabel('Sex')\n",
    "    plt.ylabel('Frequency')\n",
    "    plt.show()"
   ],
   "metadata": {
    "collapsed": false
   },
   "id": "26b10f74d95dff39",
   "execution_count": null
  },
  {
   "cell_type": "markdown",
   "source": [
    "## Task No. 3\n",
    "Збудувати графік залежності одного integer/real атрибута від іншого."
   ],
   "metadata": {
    "collapsed": false
   },
   "id": "b6b095a7f76f0a20"
  },
  {
   "cell_type": "code",
   "outputs": [],
   "source": [
    "# task: 3\n",
    "# lib: pandas\n",
    "\n",
    "with timer('pandas', 'task3'):\n",
    "    pd_data.plot(kind='scatter', x='age', y='chol', alpha=0.5)\n",
    "    \n",
    "    plt.title('Age vs Cholesterol')\n",
    "    plt.xlabel('Age')\n",
    "    plt.ylabel('Cholesterol')\n",
    "    plt.show()"
   ],
   "metadata": {
    "collapsed": false
   },
   "id": "42f913a450f707fd",
   "execution_count": null
  },
  {
   "cell_type": "code",
   "outputs": [],
   "source": [
    "# task: 3\n",
    "# lib: numpy\n",
    "\n",
    "with timer('numpy', 'task3'):\n",
    "    plt.scatter(data=np_data, x='age', y='chol', alpha=0.5)\n",
    "    \n",
    "    plt.title('Age vs Cholesterol')\n",
    "    plt.xlabel('Age')\n",
    "    plt.ylabel('Cholesterol')\n",
    "    plt.show()"
   ],
   "metadata": {
    "collapsed": false
   },
   "id": "88d7126eec6cf2be",
   "execution_count": null
  },
  {
   "cell_type": "markdown",
   "source": [
    "## Task No. 4\n",
    "Підрахувати коефіцієнт Пірсона та Спірмена для двох integer/real атрибутів."
   ],
   "metadata": {
    "collapsed": false
   },
   "id": "adc6b10db1089c10"
  },
  {
   "cell_type": "code",
   "outputs": [],
   "source": [
    "# task: 4\n",
    "# lib: pandas\n",
    "\n",
    "def get_correlation(dataframe, cols: tuple) -> pd.DataFrame:\n",
    "    \n",
    "    col1, col2 = cols\n",
    "    \n",
    "    pearson, _ = pearsonr(dataframe[col1], dataframe[col2])\n",
    "    spearman, _ = spearmanr(dataframe[col1], dataframe[col2])\n",
    "    \n",
    "    res = {\n",
    "        f'{col1} / {col2}': {\n",
    "            'pearson': pearson,\n",
    "            'spearman': spearman\n",
    "        }\n",
    "    }\n",
    "    \n",
    "    return pd.DataFrame(res)\n",
    "    \n",
    "    \n",
    "with timer('pandas', 'task4'):\n",
    "    \n",
    "    pd_correlation = get_correlation(pd_data, ('age', 'chol'))\n",
    "\n",
    "pd_correlation"
   ],
   "metadata": {
    "collapsed": false
   },
   "id": "525a8632f2b2f157",
   "execution_count": null
  },
  {
   "cell_type": "code",
   "outputs": [],
   "source": [
    "# task: 4\n",
    "# lib: numpy\n",
    "\n",
    "with timer('numpy', 'task4'):\n",
    "    \n",
    "    np_correlation = get_correlation(np_data, ('fbs', 'restecg'))\n",
    "\n",
    "np_correlation"
   ],
   "metadata": {
    "collapsed": false
   },
   "id": "910ae5e79553e8ed",
   "execution_count": null
  },
  {
   "cell_type": "markdown",
   "source": [
    "## Task No. 5\n",
    "Провести One Hot Encoding категоріального string атрибуту."
   ],
   "metadata": {
    "collapsed": false
   },
   "id": "5789448fed5f1685"
  },
  {
   "cell_type": "code",
   "outputs": [],
   "source": [
    "# task: 5\n",
    "# lib: pandas\n",
    "\n",
    "with timer('pandas', 'task5'):\n",
    "    \n",
    "    pd_oc = pd.get_dummies(pd_data['sex'], prefix='sex')\n",
    "\n",
    "pd_oc"
   ],
   "metadata": {
    "collapsed": false
   },
   "id": "19c322ecf57f4d1d",
   "execution_count": null
  },
  {
   "cell_type": "code",
   "outputs": [],
   "source": [
    "# task: 5\n",
    "# lib: numpy\n",
    "\n",
    "with timer('numpy', 'task5'):\n",
    "    \n",
    "   cp = np_data['sex'].astype(int)\n",
    "   np_oc = np.eye(np.max(cp) + 1)[cp]\n",
    "\n",
    "np_oc"
   ],
   "metadata": {
    "collapsed": false
   },
   "id": "6b5123b6f4ee647f",
   "execution_count": null
  },
  {
   "cell_type": "markdown",
   "source": [
    "## Task No. 6\n",
    "Провести візуалізацію багатовимірних даних"
   ],
   "metadata": {
    "collapsed": false
   },
   "id": "9ce9669744d19130"
  },
  {
   "cell_type": "code",
   "outputs": [],
   "source": [
    "cols = ['age', 'thalach', 'ca', 'num']\n",
    "pp = sns.pairplot(pd_data[cols], hue='age', height=1.8, aspect=1.8,\n",
    "              plot_kws=dict(edgecolor=\"black\", linewidth=0.5))\n",
    "\n",
    "fig = pp.fig \n",
    "fig.subplots_adjust(top=0.93, wspace=0.3)\n",
    "t = fig.suptitle('Age, Thalach, Ca, and Num Pairwise Plots', fontsize=14)\n"
   ],
   "metadata": {
    "collapsed": false
   },
   "id": "3d18c9b189a7717",
   "execution_count": null
  },
  {
   "cell_type": "code",
   "outputs": [],
   "source": [
    "plt.figure(figsize=(8,6))\n",
    "for lib_name, tasks in TIMER.items():\n",
    "    plt.plot(tasks.keys(), tasks.values(), marker='x', label=lib_name)\n",
    "\n",
    "plt.ylabel('Time, s')\n",
    "plt.title(f\"Elapsed Time per Task\")\n",
    "plt.xlabel(\"Task\")\n",
    "plt.legend()\n",
    "plt.grid(True)\n",
    "plt.tight_layout()"
   ],
   "metadata": {
    "collapsed": false
   },
   "id": "f7aba28a9c59ea06",
   "execution_count": null
  },
  {
   "cell_type": "code",
   "outputs": [],
   "source": [],
   "metadata": {
    "collapsed": false
   },
   "id": "72537a48764a9d2b"
  }
 ],
 "metadata": {
  "kernelspec": {
   "display_name": "Python 3",
   "language": "python",
   "name": "python3"
  },
  "language_info": {
   "codemirror_mode": {
    "name": "ipython",
    "version": 2
   },
   "file_extension": ".py",
   "mimetype": "text/x-python",
   "name": "python",
   "nbconvert_exporter": "python",
   "pygments_lexer": "ipython2",
   "version": "2.7.6"
  }
 },
 "nbformat": 4,
 "nbformat_minor": 5
}
