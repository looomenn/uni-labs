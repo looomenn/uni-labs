{
 "cells": [
  {
   "cell_type": "code",
   "outputs": [
    {
     "name": "stdout",
     "output_type": "stream",
     "text": [
      "Setup complete...\n"
     ]
    }
   ],
   "source": [
    "\"\"\"\n",
    "Course: dpat4\n",
    "Lab: 04\n",
    "Part: 1\n",
    "\"\"\"\n",
    "\n",
    "import time\n",
    "import numpy as np\n",
    "import pandas as pd\n",
    "import matplotlib.pyplot as plt\n",
    "\n",
    "from contextlib import contextmanager\n",
    "\n",
    "TIMER: dict = {}\n",
    "\n",
    "def record(lib: str, task: str, time_used: float) -> None:\n",
    "    \"\"\"\n",
    "    Record the elapsed time of the task using specific lib\n",
    "    :param lib: the name of the lib used (numpy, pandas)\n",
    "    :param task: task number (task1)\n",
    "    :param time_used: time used to complete the task\n",
    "    :return: None\n",
    "    \"\"\"\n",
    "    global TIMER\n",
    "    \n",
    "    if lib not in TIMER:\n",
    "        TIMER[lib] = {}\n",
    "    TIMER[lib][task] = time_used\n",
    "    \n",
    "\n",
    "def get_indexes(dataframe: pd.DataFrame) -> None: \n",
    "    cols = {col: idx for idx, col in enumerate(dataframe.columns)}\n",
    "    \n",
    "    return print(cols)\n",
    "\n",
    "\n",
    "@contextmanager\n",
    "def timer(lib: str, task: str):\n",
    "    start = time.time()\n",
    "    try:\n",
    "        yield\n",
    "    finally:\n",
    "        end = time.time()\n",
    "        time_used = round(end - start, 6)\n",
    "        record(lib, task, time_used)\n",
    "        \n",
    "        print(f'task: {task:}\\nlib: {lib}\\ntime used: {time_used}')\n",
    "\n",
    "\n",
    "\n",
    "URL = \"household_power_consumption.csv\"\n",
    "\n",
    "print('Setup complete...')"
   ],
   "metadata": {
    "collapsed": true,
    "ExecuteTime": {
     "end_time": "2024-06-04T09:52:04.825045Z",
     "start_time": "2024-06-04T09:52:04.792337Z"
    }
   },
   "id": "initial_id",
   "execution_count": 225
  },
  {
   "cell_type": "markdown",
   "source": [
    "## Task No. 0\n",
    "Desc: Імпортування дата сету"
   ],
   "metadata": {
    "collapsed": false
   },
   "id": "b6b039fe36cc8cb5"
  },
  {
   "cell_type": "code",
   "outputs": [
    {
     "name": "stdout",
     "output_type": "stream",
     "text": [
      "task: task0\n",
      "lib: pandas\n",
      "time used: 3.826996\n"
     ]
    },
    {
     "data": {
      "text/plain": "         Date      Time  Global_active_power  Global_reactive_power  Voltage  \\\n0  16/12/2006  17:24:00                4.216                  0.418   234.84   \n1  16/12/2006  17:25:00                5.360                  0.436   233.63   \n2  16/12/2006  17:26:00                5.374                  0.498   233.29   \n3  16/12/2006  17:27:00                5.388                  0.502   233.74   \n4  16/12/2006  17:28:00                3.666                  0.528   235.68   \n\n   Global_intensity  Sub_metering_1  Sub_metering_2  Sub_metering_3  \n0              18.4             0.0             1.0            17.0  \n1              23.0             0.0             1.0            16.0  \n2              23.0             0.0             2.0            17.0  \n3              23.0             0.0             1.0            17.0  \n4              15.8             0.0             1.0            17.0  ",
      "text/html": "<div>\n<style scoped>\n    .dataframe tbody tr th:only-of-type {\n        vertical-align: middle;\n    }\n\n    .dataframe tbody tr th {\n        vertical-align: top;\n    }\n\n    .dataframe thead th {\n        text-align: right;\n    }\n</style>\n<table border=\"1\" class=\"dataframe\">\n  <thead>\n    <tr style=\"text-align: right;\">\n      <th></th>\n      <th>Date</th>\n      <th>Time</th>\n      <th>Global_active_power</th>\n      <th>Global_reactive_power</th>\n      <th>Voltage</th>\n      <th>Global_intensity</th>\n      <th>Sub_metering_1</th>\n      <th>Sub_metering_2</th>\n      <th>Sub_metering_3</th>\n    </tr>\n  </thead>\n  <tbody>\n    <tr>\n      <th>0</th>\n      <td>16/12/2006</td>\n      <td>17:24:00</td>\n      <td>4.216</td>\n      <td>0.418</td>\n      <td>234.84</td>\n      <td>18.4</td>\n      <td>0.0</td>\n      <td>1.0</td>\n      <td>17.0</td>\n    </tr>\n    <tr>\n      <th>1</th>\n      <td>16/12/2006</td>\n      <td>17:25:00</td>\n      <td>5.360</td>\n      <td>0.436</td>\n      <td>233.63</td>\n      <td>23.0</td>\n      <td>0.0</td>\n      <td>1.0</td>\n      <td>16.0</td>\n    </tr>\n    <tr>\n      <th>2</th>\n      <td>16/12/2006</td>\n      <td>17:26:00</td>\n      <td>5.374</td>\n      <td>0.498</td>\n      <td>233.29</td>\n      <td>23.0</td>\n      <td>0.0</td>\n      <td>2.0</td>\n      <td>17.0</td>\n    </tr>\n    <tr>\n      <th>3</th>\n      <td>16/12/2006</td>\n      <td>17:27:00</td>\n      <td>5.388</td>\n      <td>0.502</td>\n      <td>233.74</td>\n      <td>23.0</td>\n      <td>0.0</td>\n      <td>1.0</td>\n      <td>17.0</td>\n    </tr>\n    <tr>\n      <th>4</th>\n      <td>16/12/2006</td>\n      <td>17:28:00</td>\n      <td>3.666</td>\n      <td>0.528</td>\n      <td>235.68</td>\n      <td>15.8</td>\n      <td>0.0</td>\n      <td>1.0</td>\n      <td>17.0</td>\n    </tr>\n  </tbody>\n</table>\n</div>"
     },
     "execution_count": 226,
     "metadata": {},
     "output_type": "execute_result"
    }
   ],
   "source": [
    "# task: 0\n",
    "# lib: pandas\n",
    "\n",
    "with timer('pandas', 'task0'):\n",
    "    pd_data = pd.read_csv(URL, sep=';', na_values='?')\n",
    "    pd_data.dropna(inplace=True)\n",
    "\n",
    "pd_data.head()"
   ],
   "metadata": {
    "collapsed": false,
    "ExecuteTime": {
     "end_time": "2024-06-04T09:52:08.893709Z",
     "start_time": "2024-06-04T09:52:05.007425Z"
    }
   },
   "id": "1f9b0a44ff3fc3c7",
   "execution_count": 226
  },
  {
   "cell_type": "code",
   "outputs": [
    {
     "name": "stdout",
     "output_type": "stream",
     "text": [
      "task: task0\n",
      "lib: numpy\n",
      "time used: 33.116103\n"
     ]
    },
    {
     "data": {
      "text/plain": "array([('16/12/2006', '17:24:00', 4.216, 0.418, 234.84, 18.4, 0., 1., 17.),\n       ('16/12/2006', '17:25:00', 5.36 , 0.436, 233.63, 23. , 0., 1., 16.),\n       ('16/12/2006', '17:26:00', 5.374, 0.498, 233.29, 23. , 0., 2., 17.),\n       ...,\n       ('26/11/2010', '21:00:00', 0.938, 0.   , 239.82,  3.8, 0., 0.,  0.),\n       ('26/11/2010', '21:01:00', 0.934, 0.   , 239.7 ,  3.8, 0., 0.,  0.),\n       ('26/11/2010', '21:02:00', 0.932, 0.   , 239.55,  3.8, 0., 0.,  0.)],\n      dtype=[('Date', '<U10'), ('Time', '<U8'), ('Global_active_power', '<f8'), ('Global_reactive_power', '<f8'), ('Voltage', '<f8'), ('Global_intensity', '<f8'), ('Sub_metering_1', '<f8'), ('Sub_metering_2', '<f8'), ('Sub_metering_3', '<f8')])"
     },
     "execution_count": 227,
     "metadata": {},
     "output_type": "execute_result"
    }
   ],
   "source": [
    "# task: 0\n",
    "# lib: numpy\n",
    "\n",
    "with timer('numpy', 'task0'):\n",
    "    dtypes = [\n",
    "        ('Date', 'U10'), \n",
    "        ('Time', 'U8'), \n",
    "        ('Global_active_power', 'f8'), \n",
    "        ('Global_reactive_power', 'f8'), \n",
    "        ('Voltage', 'f8'), \n",
    "        ('Global_intensity', 'f8'), \n",
    "        ('Sub_metering_1', 'f8'), \n",
    "        ('Sub_metering_2', 'f8'), \n",
    "        ('Sub_metering_3', 'f8')\n",
    "    ]\n",
    "    \n",
    "    np_data = np.genfromtxt(\n",
    "        URL, \n",
    "        delimiter=';',\n",
    "        missing_values='?',\n",
    "        filling_values=np.nan,\n",
    "        dtype=dtypes,\n",
    "        encoding=None,\n",
    "        names=True\n",
    "    )\n",
    "    \n",
    "    np_columns = [col for col, _ in dtypes[2:]]\n",
    "    mask = np.all([~np.isnan(np_data[col]) for col in np_columns], axis=0)\n",
    "\n",
    "    np_data = np_data[mask]\n",
    "\n",
    "np_data"
   ],
   "metadata": {
    "collapsed": false,
    "ExecuteTime": {
     "end_time": "2024-06-04T09:52:42.096333Z",
     "start_time": "2024-06-04T09:52:08.897365Z"
    }
   },
   "id": "6ba925992af7d38e",
   "execution_count": 227
  },
  {
   "cell_type": "code",
   "outputs": [
    {
     "data": {
      "text/plain": "array([],\n      dtype=[('Date', '<U10'), ('Time', '<U8'), ('Global_active_power', '<f8'), ('Global_reactive_power', '<f8'), ('Voltage', '<f8'), ('Global_intensity', '<f8'), ('Sub_metering_1', '<f8'), ('Sub_metering_2', '<f8'), ('Sub_metering_3', '<f8')])"
     },
     "execution_count": 228,
     "metadata": {},
     "output_type": "execute_result"
    }
   ],
   "source": [
    "nan_mask = np.any([np.isnan(np_data[col]) for col in np_columns], axis=0)\n",
    "\n",
    "nan = np_data[nan_mask]\n",
    "\n",
    "nan"
   ],
   "metadata": {
    "collapsed": false,
    "ExecuteTime": {
     "end_time": "2024-06-04T09:52:42.231614Z",
     "start_time": "2024-06-04T09:52:42.104023Z"
    }
   },
   "id": "370e49220b3c6e92",
   "execution_count": 228
  },
  {
   "cell_type": "markdown",
   "source": [
    "## Task No. 1\n",
    "Desc: Обрати всі домогосподарства, у яких загальна активна споживана потужність перевищує **5 кВт**."
   ],
   "metadata": {
    "collapsed": false
   },
   "id": "48a1139d15ec611c"
  },
  {
   "cell_type": "code",
   "outputs": [
    {
     "name": "stdout",
     "output_type": "stream",
     "text": [
      "task: task1\n",
      "lib: pandas\n",
      "time used: 0.111175\n"
     ]
    },
    {
     "data": {
      "text/plain": "               Date      Time  Global_active_power  Global_reactive_power  \\\n1        16/12/2006  17:25:00                5.360                  0.436   \n2        16/12/2006  17:26:00                5.374                  0.498   \n3        16/12/2006  17:27:00                5.388                  0.502   \n11       16/12/2006  17:35:00                5.412                  0.470   \n12       16/12/2006  17:36:00                5.224                  0.478   \n...             ...       ...                  ...                    ...   \n2069356  22/11/2010  18:40:00                5.408                  0.150   \n2069357  22/11/2010  18:41:00                5.528                  0.144   \n2071586  24/11/2010  07:50:00                5.172                  0.050   \n2071587  24/11/2010  07:51:00                5.750                  0.000   \n2072997  25/11/2010  07:21:00                5.074                  0.240   \n\n         Voltage  Global_intensity  Sub_metering_1  Sub_metering_2  \\\n1         233.63              23.0             0.0             1.0   \n2         233.29              23.0             0.0             2.0   \n3         233.74              23.0             0.0             1.0   \n11        232.78              23.2             0.0             1.0   \n12        232.99              22.4             0.0             1.0   \n...          ...               ...             ...             ...   \n2069356   231.50              23.6            48.0             0.0   \n2069357   232.48              24.6            53.0             0.0   \n2071586   235.18              22.0             0.0            38.0   \n2071587   234.40              24.6             0.0            39.0   \n2072997   238.55              21.4             1.0             2.0   \n\n         Sub_metering_3  \n1                  16.0  \n2                  17.0  \n3                  17.0  \n11                 17.0  \n12                 16.0  \n...                 ...  \n2069356             0.0  \n2069357             0.0  \n2071586            17.0  \n2071587            17.0  \n2072997            18.0  \n\n[17547 rows x 9 columns]",
      "text/html": "<div>\n<style scoped>\n    .dataframe tbody tr th:only-of-type {\n        vertical-align: middle;\n    }\n\n    .dataframe tbody tr th {\n        vertical-align: top;\n    }\n\n    .dataframe thead th {\n        text-align: right;\n    }\n</style>\n<table border=\"1\" class=\"dataframe\">\n  <thead>\n    <tr style=\"text-align: right;\">\n      <th></th>\n      <th>Date</th>\n      <th>Time</th>\n      <th>Global_active_power</th>\n      <th>Global_reactive_power</th>\n      <th>Voltage</th>\n      <th>Global_intensity</th>\n      <th>Sub_metering_1</th>\n      <th>Sub_metering_2</th>\n      <th>Sub_metering_3</th>\n    </tr>\n  </thead>\n  <tbody>\n    <tr>\n      <th>1</th>\n      <td>16/12/2006</td>\n      <td>17:25:00</td>\n      <td>5.360</td>\n      <td>0.436</td>\n      <td>233.63</td>\n      <td>23.0</td>\n      <td>0.0</td>\n      <td>1.0</td>\n      <td>16.0</td>\n    </tr>\n    <tr>\n      <th>2</th>\n      <td>16/12/2006</td>\n      <td>17:26:00</td>\n      <td>5.374</td>\n      <td>0.498</td>\n      <td>233.29</td>\n      <td>23.0</td>\n      <td>0.0</td>\n      <td>2.0</td>\n      <td>17.0</td>\n    </tr>\n    <tr>\n      <th>3</th>\n      <td>16/12/2006</td>\n      <td>17:27:00</td>\n      <td>5.388</td>\n      <td>0.502</td>\n      <td>233.74</td>\n      <td>23.0</td>\n      <td>0.0</td>\n      <td>1.0</td>\n      <td>17.0</td>\n    </tr>\n    <tr>\n      <th>11</th>\n      <td>16/12/2006</td>\n      <td>17:35:00</td>\n      <td>5.412</td>\n      <td>0.470</td>\n      <td>232.78</td>\n      <td>23.2</td>\n      <td>0.0</td>\n      <td>1.0</td>\n      <td>17.0</td>\n    </tr>\n    <tr>\n      <th>12</th>\n      <td>16/12/2006</td>\n      <td>17:36:00</td>\n      <td>5.224</td>\n      <td>0.478</td>\n      <td>232.99</td>\n      <td>22.4</td>\n      <td>0.0</td>\n      <td>1.0</td>\n      <td>16.0</td>\n    </tr>\n    <tr>\n      <th>...</th>\n      <td>...</td>\n      <td>...</td>\n      <td>...</td>\n      <td>...</td>\n      <td>...</td>\n      <td>...</td>\n      <td>...</td>\n      <td>...</td>\n      <td>...</td>\n    </tr>\n    <tr>\n      <th>2069356</th>\n      <td>22/11/2010</td>\n      <td>18:40:00</td>\n      <td>5.408</td>\n      <td>0.150</td>\n      <td>231.50</td>\n      <td>23.6</td>\n      <td>48.0</td>\n      <td>0.0</td>\n      <td>0.0</td>\n    </tr>\n    <tr>\n      <th>2069357</th>\n      <td>22/11/2010</td>\n      <td>18:41:00</td>\n      <td>5.528</td>\n      <td>0.144</td>\n      <td>232.48</td>\n      <td>24.6</td>\n      <td>53.0</td>\n      <td>0.0</td>\n      <td>0.0</td>\n    </tr>\n    <tr>\n      <th>2071586</th>\n      <td>24/11/2010</td>\n      <td>07:50:00</td>\n      <td>5.172</td>\n      <td>0.050</td>\n      <td>235.18</td>\n      <td>22.0</td>\n      <td>0.0</td>\n      <td>38.0</td>\n      <td>17.0</td>\n    </tr>\n    <tr>\n      <th>2071587</th>\n      <td>24/11/2010</td>\n      <td>07:51:00</td>\n      <td>5.750</td>\n      <td>0.000</td>\n      <td>234.40</td>\n      <td>24.6</td>\n      <td>0.0</td>\n      <td>39.0</td>\n      <td>17.0</td>\n    </tr>\n    <tr>\n      <th>2072997</th>\n      <td>25/11/2010</td>\n      <td>07:21:00</td>\n      <td>5.074</td>\n      <td>0.240</td>\n      <td>238.55</td>\n      <td>21.4</td>\n      <td>1.0</td>\n      <td>2.0</td>\n      <td>18.0</td>\n    </tr>\n  </tbody>\n</table>\n<p>17547 rows × 9 columns</p>\n</div>"
     },
     "execution_count": 229,
     "metadata": {},
     "output_type": "execute_result"
    }
   ],
   "source": [
    "# task: 1\n",
    "# lib: pandas\n",
    "\n",
    "with timer('pandas', 'task1'):\n",
    "    pd_active_power = pd_data[\n",
    "        pd_data['Global_active_power'] > 5\n",
    "    ]\n",
    "\n",
    "pd_active_power"
   ],
   "metadata": {
    "collapsed": false,
    "ExecuteTime": {
     "end_time": "2024-06-04T09:52:42.395692Z",
     "start_time": "2024-06-04T09:52:42.240450Z"
    }
   },
   "id": "6714a2f992361ef9",
   "execution_count": 229
  },
  {
   "cell_type": "code",
   "outputs": [
    {
     "name": "stdout",
     "output_type": "stream",
     "text": [
      "task: task1\n",
      "lib: numpy\n",
      "time used: 0.011155\n"
     ]
    },
    {
     "data": {
      "text/plain": "array([('16/12/2006', '17:25:00', 5.36 , 0.436, 233.63, 23. , 0.,  1., 16.),\n       ('16/12/2006', '17:26:00', 5.374, 0.498, 233.29, 23. , 0.,  2., 17.),\n       ('16/12/2006', '17:27:00', 5.388, 0.502, 233.74, 23. , 0.,  1., 17.),\n       ...,\n       ('24/11/2010', '07:50:00', 5.172, 0.05 , 235.18, 22. , 0., 38., 17.),\n       ('24/11/2010', '07:51:00', 5.75 , 0.   , 234.4 , 24.6, 0., 39., 17.),\n       ('25/11/2010', '07:21:00', 5.074, 0.24 , 238.55, 21.4, 1.,  2., 18.)],\n      dtype=[('Date', '<U10'), ('Time', '<U8'), ('Global_active_power', '<f8'), ('Global_reactive_power', '<f8'), ('Voltage', '<f8'), ('Global_intensity', '<f8'), ('Sub_metering_1', '<f8'), ('Sub_metering_2', '<f8'), ('Sub_metering_3', '<f8')])"
     },
     "execution_count": 230,
     "metadata": {},
     "output_type": "execute_result"
    }
   ],
   "source": [
    "# task: 1\n",
    "# lib: numpy\n",
    "\n",
    "with timer('numpy', 'task1'):\n",
    "    np_active_power = np_data[\n",
    "        np_data['Global_active_power'] > 5\n",
    "    ]\n",
    "\n",
    "np_active_power"
   ],
   "metadata": {
    "collapsed": false,
    "ExecuteTime": {
     "end_time": "2024-06-04T09:52:42.460627Z",
     "start_time": "2024-06-04T09:52:42.403130Z"
    }
   },
   "id": "17407d4023c4ae9a",
   "execution_count": 230
  },
  {
   "cell_type": "markdown",
   "source": [
    "## Task No. 2\n",
    "Обрати всі домогосподарства, у яких вольтаж перевищує 235 В."
   ],
   "metadata": {
    "collapsed": false
   },
   "id": "a41a6f7fe3c56db5"
  },
  {
   "cell_type": "code",
   "outputs": [
    {
     "name": "stdout",
     "output_type": "stream",
     "text": [
      "task: task2\n",
      "lib: pandas\n",
      "time used: 0.135622\n"
     ]
    },
    {
     "data": {
      "text/plain": "               Date      Time  Global_active_power  Global_reactive_power  \\\n4        16/12/2006  17:28:00                3.666                  0.528   \n5        16/12/2006  17:29:00                3.520                  0.522   \n6        16/12/2006  17:30:00                3.702                  0.520   \n7        16/12/2006  17:31:00                3.700                  0.520   \n14       16/12/2006  17:38:00                4.054                  0.422   \n...             ...       ...                  ...                    ...   \n2075254  26/11/2010  20:58:00                0.946                  0.000   \n2075255  26/11/2010  20:59:00                0.944                  0.000   \n2075256  26/11/2010  21:00:00                0.938                  0.000   \n2075257  26/11/2010  21:01:00                0.934                  0.000   \n2075258  26/11/2010  21:02:00                0.932                  0.000   \n\n         Voltage  Global_intensity  Sub_metering_1  Sub_metering_2  \\\n4         235.68              15.8             0.0             1.0   \n5         235.02              15.0             0.0             2.0   \n6         235.09              15.8             0.0             1.0   \n7         235.22              15.8             0.0             1.0   \n14        235.24              17.6             0.0             1.0   \n...          ...               ...             ...             ...   \n2075254   240.43               4.0             0.0             0.0   \n2075255   240.00               4.0             0.0             0.0   \n2075256   239.82               3.8             0.0             0.0   \n2075257   239.70               3.8             0.0             0.0   \n2075258   239.55               3.8             0.0             0.0   \n\n         Sub_metering_3  \n4                  17.0  \n5                  17.0  \n6                  17.0  \n7                  17.0  \n14                 17.0  \n...                 ...  \n2075254             0.0  \n2075255             0.0  \n2075256             0.0  \n2075257             0.0  \n2075258             0.0  \n\n[1952491 rows x 9 columns]",
      "text/html": "<div>\n<style scoped>\n    .dataframe tbody tr th:only-of-type {\n        vertical-align: middle;\n    }\n\n    .dataframe tbody tr th {\n        vertical-align: top;\n    }\n\n    .dataframe thead th {\n        text-align: right;\n    }\n</style>\n<table border=\"1\" class=\"dataframe\">\n  <thead>\n    <tr style=\"text-align: right;\">\n      <th></th>\n      <th>Date</th>\n      <th>Time</th>\n      <th>Global_active_power</th>\n      <th>Global_reactive_power</th>\n      <th>Voltage</th>\n      <th>Global_intensity</th>\n      <th>Sub_metering_1</th>\n      <th>Sub_metering_2</th>\n      <th>Sub_metering_3</th>\n    </tr>\n  </thead>\n  <tbody>\n    <tr>\n      <th>4</th>\n      <td>16/12/2006</td>\n      <td>17:28:00</td>\n      <td>3.666</td>\n      <td>0.528</td>\n      <td>235.68</td>\n      <td>15.8</td>\n      <td>0.0</td>\n      <td>1.0</td>\n      <td>17.0</td>\n    </tr>\n    <tr>\n      <th>5</th>\n      <td>16/12/2006</td>\n      <td>17:29:00</td>\n      <td>3.520</td>\n      <td>0.522</td>\n      <td>235.02</td>\n      <td>15.0</td>\n      <td>0.0</td>\n      <td>2.0</td>\n      <td>17.0</td>\n    </tr>\n    <tr>\n      <th>6</th>\n      <td>16/12/2006</td>\n      <td>17:30:00</td>\n      <td>3.702</td>\n      <td>0.520</td>\n      <td>235.09</td>\n      <td>15.8</td>\n      <td>0.0</td>\n      <td>1.0</td>\n      <td>17.0</td>\n    </tr>\n    <tr>\n      <th>7</th>\n      <td>16/12/2006</td>\n      <td>17:31:00</td>\n      <td>3.700</td>\n      <td>0.520</td>\n      <td>235.22</td>\n      <td>15.8</td>\n      <td>0.0</td>\n      <td>1.0</td>\n      <td>17.0</td>\n    </tr>\n    <tr>\n      <th>14</th>\n      <td>16/12/2006</td>\n      <td>17:38:00</td>\n      <td>4.054</td>\n      <td>0.422</td>\n      <td>235.24</td>\n      <td>17.6</td>\n      <td>0.0</td>\n      <td>1.0</td>\n      <td>17.0</td>\n    </tr>\n    <tr>\n      <th>...</th>\n      <td>...</td>\n      <td>...</td>\n      <td>...</td>\n      <td>...</td>\n      <td>...</td>\n      <td>...</td>\n      <td>...</td>\n      <td>...</td>\n      <td>...</td>\n    </tr>\n    <tr>\n      <th>2075254</th>\n      <td>26/11/2010</td>\n      <td>20:58:00</td>\n      <td>0.946</td>\n      <td>0.000</td>\n      <td>240.43</td>\n      <td>4.0</td>\n      <td>0.0</td>\n      <td>0.0</td>\n      <td>0.0</td>\n    </tr>\n    <tr>\n      <th>2075255</th>\n      <td>26/11/2010</td>\n      <td>20:59:00</td>\n      <td>0.944</td>\n      <td>0.000</td>\n      <td>240.00</td>\n      <td>4.0</td>\n      <td>0.0</td>\n      <td>0.0</td>\n      <td>0.0</td>\n    </tr>\n    <tr>\n      <th>2075256</th>\n      <td>26/11/2010</td>\n      <td>21:00:00</td>\n      <td>0.938</td>\n      <td>0.000</td>\n      <td>239.82</td>\n      <td>3.8</td>\n      <td>0.0</td>\n      <td>0.0</td>\n      <td>0.0</td>\n    </tr>\n    <tr>\n      <th>2075257</th>\n      <td>26/11/2010</td>\n      <td>21:01:00</td>\n      <td>0.934</td>\n      <td>0.000</td>\n      <td>239.70</td>\n      <td>3.8</td>\n      <td>0.0</td>\n      <td>0.0</td>\n      <td>0.0</td>\n    </tr>\n    <tr>\n      <th>2075258</th>\n      <td>26/11/2010</td>\n      <td>21:02:00</td>\n      <td>0.932</td>\n      <td>0.000</td>\n      <td>239.55</td>\n      <td>3.8</td>\n      <td>0.0</td>\n      <td>0.0</td>\n      <td>0.0</td>\n    </tr>\n  </tbody>\n</table>\n<p>1952491 rows × 9 columns</p>\n</div>"
     },
     "execution_count": 231,
     "metadata": {},
     "output_type": "execute_result"
    }
   ],
   "source": [
    "# task: 2\n",
    "# lib: pandas\n",
    "\n",
    "with timer('pandas', 'task2'):\n",
    "    pd_voltage = pd_data[\n",
    "        pd_data['Voltage'] > 235\n",
    "    ]\n",
    "\n",
    "pd_voltage"
   ],
   "metadata": {
    "collapsed": false,
    "ExecuteTime": {
     "end_time": "2024-06-04T09:52:42.632524Z",
     "start_time": "2024-06-04T09:52:42.462014Z"
    }
   },
   "id": "7eda2db3b74aed91",
   "execution_count": 231
  },
  {
   "cell_type": "code",
   "outputs": [
    {
     "name": "stdout",
     "output_type": "stream",
     "text": [
      "task: task2\n",
      "lib: numpy\n",
      "time used: 0.141337\n"
     ]
    },
    {
     "data": {
      "text/plain": "array([('16/12/2006', '17:28:00', 3.666, 0.528, 235.68, 15.8, 0., 1., 17.),\n       ('16/12/2006', '17:29:00', 3.52 , 0.522, 235.02, 15. , 0., 2., 17.),\n       ('16/12/2006', '17:30:00', 3.702, 0.52 , 235.09, 15.8, 0., 1., 17.),\n       ...,\n       ('26/11/2010', '21:00:00', 0.938, 0.   , 239.82,  3.8, 0., 0.,  0.),\n       ('26/11/2010', '21:01:00', 0.934, 0.   , 239.7 ,  3.8, 0., 0.,  0.),\n       ('26/11/2010', '21:02:00', 0.932, 0.   , 239.55,  3.8, 0., 0.,  0.)],\n      dtype=[('Date', '<U10'), ('Time', '<U8'), ('Global_active_power', '<f8'), ('Global_reactive_power', '<f8'), ('Voltage', '<f8'), ('Global_intensity', '<f8'), ('Sub_metering_1', '<f8'), ('Sub_metering_2', '<f8'), ('Sub_metering_3', '<f8')])"
     },
     "execution_count": 232,
     "metadata": {},
     "output_type": "execute_result"
    }
   ],
   "source": [
    "# task: 2\n",
    "# lib: numpy\n",
    "\n",
    "with timer('numpy', 'task2'):\n",
    "    np_voltage = np_data[\n",
    "        np_data['Voltage'] > 235\n",
    "    ]\n",
    "\n",
    "np_voltage"
   ],
   "metadata": {
    "collapsed": false,
    "ExecuteTime": {
     "end_time": "2024-06-04T09:52:42.788643Z",
     "start_time": "2024-06-04T09:52:42.633769Z"
    }
   },
   "id": "f12384959ab20fa",
   "execution_count": 232
  },
  {
   "cell_type": "markdown",
   "source": [
    "## Task No. 3\n",
    "Обрати всі домогосподарства, у яких сила струму лежить в межах 19-20 А, для них виявити ті, у яких пральна машина та холодильних споживають більше, ніж бойлер та кондиціонер."
   ],
   "metadata": {
    "collapsed": false
   },
   "id": "b4890240aeeac76a"
  },
  {
   "cell_type": "code",
   "outputs": [
    {
     "name": "stdout",
     "output_type": "stream",
     "text": [
      "task: task3\n",
      "lib: pandas\n",
      "time used: 0.105966\n"
     ]
    },
    {
     "data": {
      "text/plain": "               Date      Time  Global_active_power  Global_reactive_power  \\\n45       16/12/2006  18:09:00                4.464                  0.136   \n460      17/12/2006  01:04:00                4.582                  0.258   \n464      17/12/2006  01:08:00                4.618                  0.104   \n475      17/12/2006  01:19:00                4.636                  0.140   \n476      17/12/2006  01:20:00                4.634                  0.152   \n...             ...       ...                  ...                    ...   \n2071589  24/11/2010  07:53:00                4.666                  0.000   \n2071590  24/11/2010  07:54:00                4.694                  0.000   \n2071591  24/11/2010  07:55:00                4.602                  0.000   \n2071592  24/11/2010  07:56:00                4.536                  0.000   \n2071593  24/11/2010  07:57:00                4.626                  0.000   \n\n         Voltage  Global_intensity  Sub_metering_1  Sub_metering_2  \\\n45        234.66              19.0             0.0            37.0   \n460       238.08              19.6             0.0            13.0   \n464       239.61              19.6             0.0            27.0   \n475       237.37              19.4             0.0            36.0   \n476       237.17              19.4             0.0            35.0   \n...          ...               ...             ...             ...   \n2071589   235.72              19.8             0.0            39.0   \n2071590   236.78              19.8             0.0            39.0   \n2071591   237.08              19.4             0.0            40.0   \n2071592   237.03              19.0             0.0            39.0   \n2071593   236.78              19.4             0.0            39.0   \n\n         Sub_metering_3  \n45                 16.0  \n460                 0.0  \n464                 0.0  \n475                 0.0  \n476                 0.0  \n...                 ...  \n2071589            17.0  \n2071590            18.0  \n2071591            17.0  \n2071592            17.0  \n2071593            17.0  \n\n[5579 rows x 9 columns]",
      "text/html": "<div>\n<style scoped>\n    .dataframe tbody tr th:only-of-type {\n        vertical-align: middle;\n    }\n\n    .dataframe tbody tr th {\n        vertical-align: top;\n    }\n\n    .dataframe thead th {\n        text-align: right;\n    }\n</style>\n<table border=\"1\" class=\"dataframe\">\n  <thead>\n    <tr style=\"text-align: right;\">\n      <th></th>\n      <th>Date</th>\n      <th>Time</th>\n      <th>Global_active_power</th>\n      <th>Global_reactive_power</th>\n      <th>Voltage</th>\n      <th>Global_intensity</th>\n      <th>Sub_metering_1</th>\n      <th>Sub_metering_2</th>\n      <th>Sub_metering_3</th>\n    </tr>\n  </thead>\n  <tbody>\n    <tr>\n      <th>45</th>\n      <td>16/12/2006</td>\n      <td>18:09:00</td>\n      <td>4.464</td>\n      <td>0.136</td>\n      <td>234.66</td>\n      <td>19.0</td>\n      <td>0.0</td>\n      <td>37.0</td>\n      <td>16.0</td>\n    </tr>\n    <tr>\n      <th>460</th>\n      <td>17/12/2006</td>\n      <td>01:04:00</td>\n      <td>4.582</td>\n      <td>0.258</td>\n      <td>238.08</td>\n      <td>19.6</td>\n      <td>0.0</td>\n      <td>13.0</td>\n      <td>0.0</td>\n    </tr>\n    <tr>\n      <th>464</th>\n      <td>17/12/2006</td>\n      <td>01:08:00</td>\n      <td>4.618</td>\n      <td>0.104</td>\n      <td>239.61</td>\n      <td>19.6</td>\n      <td>0.0</td>\n      <td>27.0</td>\n      <td>0.0</td>\n    </tr>\n    <tr>\n      <th>475</th>\n      <td>17/12/2006</td>\n      <td>01:19:00</td>\n      <td>4.636</td>\n      <td>0.140</td>\n      <td>237.37</td>\n      <td>19.4</td>\n      <td>0.0</td>\n      <td>36.0</td>\n      <td>0.0</td>\n    </tr>\n    <tr>\n      <th>476</th>\n      <td>17/12/2006</td>\n      <td>01:20:00</td>\n      <td>4.634</td>\n      <td>0.152</td>\n      <td>237.17</td>\n      <td>19.4</td>\n      <td>0.0</td>\n      <td>35.0</td>\n      <td>0.0</td>\n    </tr>\n    <tr>\n      <th>...</th>\n      <td>...</td>\n      <td>...</td>\n      <td>...</td>\n      <td>...</td>\n      <td>...</td>\n      <td>...</td>\n      <td>...</td>\n      <td>...</td>\n      <td>...</td>\n    </tr>\n    <tr>\n      <th>2071589</th>\n      <td>24/11/2010</td>\n      <td>07:53:00</td>\n      <td>4.666</td>\n      <td>0.000</td>\n      <td>235.72</td>\n      <td>19.8</td>\n      <td>0.0</td>\n      <td>39.0</td>\n      <td>17.0</td>\n    </tr>\n    <tr>\n      <th>2071590</th>\n      <td>24/11/2010</td>\n      <td>07:54:00</td>\n      <td>4.694</td>\n      <td>0.000</td>\n      <td>236.78</td>\n      <td>19.8</td>\n      <td>0.0</td>\n      <td>39.0</td>\n      <td>18.0</td>\n    </tr>\n    <tr>\n      <th>2071591</th>\n      <td>24/11/2010</td>\n      <td>07:55:00</td>\n      <td>4.602</td>\n      <td>0.000</td>\n      <td>237.08</td>\n      <td>19.4</td>\n      <td>0.0</td>\n      <td>40.0</td>\n      <td>17.0</td>\n    </tr>\n    <tr>\n      <th>2071592</th>\n      <td>24/11/2010</td>\n      <td>07:56:00</td>\n      <td>4.536</td>\n      <td>0.000</td>\n      <td>237.03</td>\n      <td>19.0</td>\n      <td>0.0</td>\n      <td>39.0</td>\n      <td>17.0</td>\n    </tr>\n    <tr>\n      <th>2071593</th>\n      <td>24/11/2010</td>\n      <td>07:57:00</td>\n      <td>4.626</td>\n      <td>0.000</td>\n      <td>236.78</td>\n      <td>19.4</td>\n      <td>0.0</td>\n      <td>39.0</td>\n      <td>17.0</td>\n    </tr>\n  </tbody>\n</table>\n<p>5579 rows × 9 columns</p>\n</div>"
     },
     "execution_count": 233,
     "metadata": {},
     "output_type": "execute_result"
    }
   ],
   "source": [
    "# task: 3\n",
    "# lib: pandas\n",
    "\n",
    "with timer('pandas', 'task3'):\n",
    "    pd_global_intensity = pd_data[\n",
    "        (pd_data['Global_intensity'] >= 19) & \n",
    "        (pd_data['Global_intensity'] <= 20)\n",
    "    ]\n",
    "    \n",
    "    pd_specific_consumption = pd_global_intensity[\n",
    "        (pd_global_intensity['Sub_metering_1'] + pd_global_intensity['Sub_metering_2']) > pd_global_intensity['Sub_metering_3']\n",
    "    ]\n",
    "\n",
    "\n",
    "pd_specific_consumption"
   ],
   "metadata": {
    "collapsed": false,
    "ExecuteTime": {
     "end_time": "2024-06-04T09:52:42.923693Z",
     "start_time": "2024-06-04T09:52:42.791633Z"
    }
   },
   "id": "60a95aabdd894c09",
   "execution_count": 233
  },
  {
   "cell_type": "code",
   "outputs": [
    {
     "name": "stdout",
     "output_type": "stream",
     "text": [
      "task: task3\n",
      "lib: numpy\n",
      "time used: 0.036217\n"
     ]
    },
    {
     "data": {
      "text/plain": "array([('16/12/2006', '18:09:00', 4.464, 0.136, 234.66, 19. , 0., 37., 16.),\n       ('17/12/2006', '01:04:00', 4.582, 0.258, 238.08, 19.6, 0., 13.,  0.),\n       ('17/12/2006', '01:08:00', 4.618, 0.104, 239.61, 19.6, 0., 27.,  0.),\n       ...,\n       ('24/11/2010', '07:55:00', 4.602, 0.   , 237.08, 19.4, 0., 40., 17.),\n       ('24/11/2010', '07:56:00', 4.536, 0.   , 237.03, 19. , 0., 39., 17.),\n       ('24/11/2010', '07:57:00', 4.626, 0.   , 236.78, 19.4, 0., 39., 17.)],\n      dtype=[('Date', '<U10'), ('Time', '<U8'), ('Global_active_power', '<f8'), ('Global_reactive_power', '<f8'), ('Voltage', '<f8'), ('Global_intensity', '<f8'), ('Sub_metering_1', '<f8'), ('Sub_metering_2', '<f8'), ('Sub_metering_3', '<f8')])"
     },
     "execution_count": 234,
     "metadata": {},
     "output_type": "execute_result"
    }
   ],
   "source": [
    "# task: 3\n",
    "# lib: numpy\n",
    "\n",
    "with timer('numpy', 'task3'):\n",
    "    # Global_intensity col for range >= 19 and <= 20\n",
    "    current_range = np_data[\n",
    "        (np_data['Global_intensity'] >= 19) & (np_data['Global_intensity'] <= 20)\n",
    "    ]\n",
    "\n",
    "    # sum of the Sub_metering groups\n",
    "    sub_metering_1_2 = current_range['Sub_metering_1'] + current_range['Sub_metering_2']\n",
    "    sub_metering_3 = current_range['Sub_metering_3']\n",
    "    \n",
    "    # getting df were sub_metering_1 + sub_metering_2 > sub_metering_3\n",
    "    specific_consumption = current_range[sub_metering_1_2 > sub_metering_3]\n",
    "\n",
    "specific_consumption"
   ],
   "metadata": {
    "collapsed": false,
    "ExecuteTime": {
     "end_time": "2024-06-04T09:52:42.978017Z",
     "start_time": "2024-06-04T09:52:42.927489Z"
    }
   },
   "id": "bebbc1d2d74e5682",
   "execution_count": 234
  },
  {
   "cell_type": "markdown",
   "source": [
    "## Task No. 4\n",
    "Обрати випадковим чином 500000 домогосподарств (без повторів елементів вибірки) для них обчислити середні величини усіх 3-х груп споживання електричної енергії"
   ],
   "metadata": {
    "collapsed": false
   },
   "id": "2309787aab5ee9ef"
  },
  {
   "cell_type": "code",
   "outputs": [
    {
     "name": "stdout",
     "output_type": "stream",
     "text": [
      "task: task4\n",
      "lib: pandas\n",
      "time used: 1.259214\n"
     ]
    },
    {
     "data": {
      "text/plain": "Global_active_power      1.091403\nGlobal_intensity         4.626928\nVoltage                240.836107\nSub_metering_1           1.124120\nSub_metering_2           1.301936\nSub_metering_3           6.465210\ndtype: float64"
     },
     "execution_count": 235,
     "metadata": {},
     "output_type": "execute_result"
    }
   ],
   "source": [
    "# task: 4\n",
    "# lib: pandas\n",
    "\n",
    "with timer('pandas', 'task4'):\n",
    "\n",
    "    # random 500000 items, random_state - seed for the random generator\n",
    "    pd_random_households = pd_data.sample(n=500000, random_state=1).reset_index(drop=True)\n",
    "    \n",
    "    pd_mean_consumption = pd_random_households[\n",
    "        ['Global_active_power', \n",
    "         'Global_intensity', \n",
    "         'Voltage', \n",
    "         'Sub_metering_1', \n",
    "         'Sub_metering_2', \n",
    "         'Sub_metering_3']\n",
    "    ].mean()\n",
    "\n",
    "pd_mean_consumption"
   ],
   "metadata": {
    "collapsed": false,
    "ExecuteTime": {
     "end_time": "2024-06-04T09:52:44.353381Z",
     "start_time": "2024-06-04T09:52:43.004623Z"
    }
   },
   "id": "ea9bdd5c04c1ac2b",
   "execution_count": 235
  },
  {
   "cell_type": "code",
   "outputs": [
    {
     "name": "stdout",
     "output_type": "stream",
     "text": [
      "task: task4\n",
      "lib: numpy\n",
      "time used: 0.412424\n"
     ]
    },
    {
     "data": {
      "text/plain": "{'Sub_metering_1': 1.132816,\n 'Sub_metering_2': 1.292338,\n 'Sub_metering_3': 6.469486}"
     },
     "execution_count": 236,
     "metadata": {},
     "output_type": "execute_result"
    }
   ],
   "source": [
    "# task: 4\n",
    "# lib: numpy\n",
    "\n",
    "with timer('numpy', 'task4'):\n",
    "    np_random_idx = np.random.choice(np_data.shape[0], 500000, replace=True)\n",
    "    np_random_households = np_data[np_random_idx]\n",
    "    \n",
    "    mean_fields = ['Sub_metering_1', 'Sub_metering_2', 'Sub_metering_3']\n",
    "    np_mean_consumption = {col: np.mean(np_random_households[col]) for col in mean_fields}\n",
    "\n",
    "np_mean_consumption"
   ],
   "metadata": {
    "collapsed": false,
    "ExecuteTime": {
     "end_time": "2024-06-04T09:52:44.787292Z",
     "start_time": "2024-06-04T09:52:44.360238Z"
    }
   },
   "id": "723660f27d003897",
   "execution_count": 236
  },
  {
   "cell_type": "markdown",
   "source": [
    "## Task No. 5 (4.1)\n",
    "Desc: Обрати ті домогосподарства, які після 18-00 споживають понад **6 кВт** за годину, в середньому, серед відібраних визначити ті, у яких основне споживання електроенергії у вказаний проміжок часу припадає на пральну машину, сушарку, холодильник та освітлення (група 2 є найбільшою), а потім обрати кожен третій результат із першої половини та кожен четвертий результат із других половин."
   ],
   "metadata": {
    "collapsed": false
   },
   "id": "d6e15a63b7bad34d"
  },
  {
   "cell_type": "code",
   "outputs": [
    {
     "name": "stdout",
     "output_type": "stream",
     "text": [
      "task: task5\n",
      "lib: pandas\n",
      "time used: 3.690108\n"
     ]
    },
    {
     "data": {
      "text/plain": "              Date      Time  Global_active_power  Global_reactive_power  \\\n2741     24/3/2007  18:59:00                6.978                  0.286   \n6592     23/2/2010  21:57:00                6.472                  0.098   \n9970     23/2/2010  21:58:00                6.498                  0.074   \n13221   18/10/2010  18:49:00                6.070                  0.356   \n21574    23/3/2008  20:28:00                7.268                  0.192   \n...            ...       ...                  ...                    ...   \n460841   16/1/2009  20:30:00                7.100                  0.510   \n465364    5/3/2008  18:36:00                6.524                  0.286   \n473549   20/3/2007  21:45:00                6.134                  0.280   \n487591   20/1/2007  19:16:00                6.230                  0.450   \n494794   20/3/2007  21:46:00                6.142                  0.262   \n\n        Voltage  Global_intensity  Sub_metering_1  Sub_metering_2  \\\n2741     231.41              30.6             0.0            34.0   \n6592     232.72              27.8             0.0            72.0   \n9970     233.24              27.8             0.0            72.0   \n13221    234.41              25.8             0.0            35.0   \n21574    233.61              31.0             0.0            72.0   \n...         ...               ...             ...             ...   \n460841   235.31              30.8            27.0            28.0   \n465364   233.65              27.8             0.0            72.0   \n473549   232.25              26.4             1.0            36.0   \n487591   228.98              27.2             0.0            35.0   \n494794   232.82              26.4             2.0            36.0   \n\n        Sub_metering_3  \n2741              17.0  \n6592              17.0  \n9970              18.0  \n13221             17.0  \n21574             17.0  \n...                ...  \n460841            17.0  \n465364             0.0  \n473549            16.0  \n487591            16.0  \n494794            17.0  \n\n[75 rows x 9 columns]",
      "text/html": "<div>\n<style scoped>\n    .dataframe tbody tr th:only-of-type {\n        vertical-align: middle;\n    }\n\n    .dataframe tbody tr th {\n        vertical-align: top;\n    }\n\n    .dataframe thead th {\n        text-align: right;\n    }\n</style>\n<table border=\"1\" class=\"dataframe\">\n  <thead>\n    <tr style=\"text-align: right;\">\n      <th></th>\n      <th>Date</th>\n      <th>Time</th>\n      <th>Global_active_power</th>\n      <th>Global_reactive_power</th>\n      <th>Voltage</th>\n      <th>Global_intensity</th>\n      <th>Sub_metering_1</th>\n      <th>Sub_metering_2</th>\n      <th>Sub_metering_3</th>\n    </tr>\n  </thead>\n  <tbody>\n    <tr>\n      <th>2741</th>\n      <td>24/3/2007</td>\n      <td>18:59:00</td>\n      <td>6.978</td>\n      <td>0.286</td>\n      <td>231.41</td>\n      <td>30.6</td>\n      <td>0.0</td>\n      <td>34.0</td>\n      <td>17.0</td>\n    </tr>\n    <tr>\n      <th>6592</th>\n      <td>23/2/2010</td>\n      <td>21:57:00</td>\n      <td>6.472</td>\n      <td>0.098</td>\n      <td>232.72</td>\n      <td>27.8</td>\n      <td>0.0</td>\n      <td>72.0</td>\n      <td>17.0</td>\n    </tr>\n    <tr>\n      <th>9970</th>\n      <td>23/2/2010</td>\n      <td>21:58:00</td>\n      <td>6.498</td>\n      <td>0.074</td>\n      <td>233.24</td>\n      <td>27.8</td>\n      <td>0.0</td>\n      <td>72.0</td>\n      <td>18.0</td>\n    </tr>\n    <tr>\n      <th>13221</th>\n      <td>18/10/2010</td>\n      <td>18:49:00</td>\n      <td>6.070</td>\n      <td>0.356</td>\n      <td>234.41</td>\n      <td>25.8</td>\n      <td>0.0</td>\n      <td>35.0</td>\n      <td>17.0</td>\n    </tr>\n    <tr>\n      <th>21574</th>\n      <td>23/3/2008</td>\n      <td>20:28:00</td>\n      <td>7.268</td>\n      <td>0.192</td>\n      <td>233.61</td>\n      <td>31.0</td>\n      <td>0.0</td>\n      <td>72.0</td>\n      <td>17.0</td>\n    </tr>\n    <tr>\n      <th>...</th>\n      <td>...</td>\n      <td>...</td>\n      <td>...</td>\n      <td>...</td>\n      <td>...</td>\n      <td>...</td>\n      <td>...</td>\n      <td>...</td>\n      <td>...</td>\n    </tr>\n    <tr>\n      <th>460841</th>\n      <td>16/1/2009</td>\n      <td>20:30:00</td>\n      <td>7.100</td>\n      <td>0.510</td>\n      <td>235.31</td>\n      <td>30.8</td>\n      <td>27.0</td>\n      <td>28.0</td>\n      <td>17.0</td>\n    </tr>\n    <tr>\n      <th>465364</th>\n      <td>5/3/2008</td>\n      <td>18:36:00</td>\n      <td>6.524</td>\n      <td>0.286</td>\n      <td>233.65</td>\n      <td>27.8</td>\n      <td>0.0</td>\n      <td>72.0</td>\n      <td>0.0</td>\n    </tr>\n    <tr>\n      <th>473549</th>\n      <td>20/3/2007</td>\n      <td>21:45:00</td>\n      <td>6.134</td>\n      <td>0.280</td>\n      <td>232.25</td>\n      <td>26.4</td>\n      <td>1.0</td>\n      <td>36.0</td>\n      <td>16.0</td>\n    </tr>\n    <tr>\n      <th>487591</th>\n      <td>20/1/2007</td>\n      <td>19:16:00</td>\n      <td>6.230</td>\n      <td>0.450</td>\n      <td>228.98</td>\n      <td>27.2</td>\n      <td>0.0</td>\n      <td>35.0</td>\n      <td>16.0</td>\n    </tr>\n    <tr>\n      <th>494794</th>\n      <td>20/3/2007</td>\n      <td>21:46:00</td>\n      <td>6.142</td>\n      <td>0.262</td>\n      <td>232.82</td>\n      <td>26.4</td>\n      <td>2.0</td>\n      <td>36.0</td>\n      <td>17.0</td>\n    </tr>\n  </tbody>\n</table>\n<p>75 rows × 9 columns</p>\n</div>"
     },
     "execution_count": 237,
     "metadata": {},
     "output_type": "execute_result"
    }
   ],
   "source": [
    "# task: 5 (4.1)\n",
    "# lib: pandas\n",
    "\n",
    "with timer('pandas', 'task5'):\n",
    "\n",
    "    time_threshold = pd.to_datetime('18:00:00').time()\n",
    "    \n",
    "    pd_random_households['Time'] = pd.to_datetime(pd_random_households['Time'], format='%H:%M:%S').dt.time\n",
    "    \n",
    "    # 6 кВт past time_threshold\n",
    "    pd_evening_consumption = pd_random_households[\n",
    "        (pd_random_households['Time'] >= time_threshold) & \n",
    "        (pd_random_households['Global_active_power'] > 6)\n",
    "    ]\n",
    "    \n",
    "    # where consumption in the group 2 is greater than 3 and 1 combined\n",
    "    pd_main_consumption = pd_evening_consumption[\n",
    "        pd_evening_consumption['Sub_metering_2'] > \n",
    "        pd_evening_consumption[\n",
    "            ['Sub_metering_1', 'Sub_metering_3']\n",
    "        ].max(axis=1)\n",
    "    ]\n",
    "    \n",
    "    # from the first half, every third part\n",
    "    pd_first_half = pd_main_consumption.iloc[:len(pd_main_consumption) // 2].iloc[::3]\n",
    "    \n",
    "    # from the second half, every fourth part\n",
    "    pd_second_half = pd_main_consumption.iloc[len(pd_main_consumption) // 2:].iloc[::4]\n",
    "    \n",
    "    # merging the first and second halves\n",
    "    pd_final_selection = pd.concat([pd_first_half, pd_second_half])\n",
    "\n",
    "pd_final_selection"
   ],
   "metadata": {
    "collapsed": false,
    "ExecuteTime": {
     "end_time": "2024-06-04T09:52:48.530138Z",
     "start_time": "2024-06-04T09:52:44.789569Z"
    }
   },
   "id": "dca4a0adff79fd7e",
   "execution_count": 237
  },
  {
   "cell_type": "code",
   "outputs": [
    {
     "name": "stdout",
     "output_type": "stream",
     "text": [
      "task: task5\n",
      "lib: numpy\n",
      "time used: 0.045581\n"
     ]
    },
    {
     "data": {
      "text/plain": "array([('8/12/2007', '20:30:00', 6.19 , 0.424, 233.72, 26.4,  0., 36., 16.),\n       ('3/4/2007', '19:28:00', 6.224, 0.31 , 231.44, 27. , 10., 37., 17.),\n       ('22/2/2007', '19:34:00', 6.16 , 0.08 , 232.71, 26.4,  0., 36., 16.),\n       ('23/2/2009', '22:08:00', 6.848, 0.218, 234.64, 29.4,  1., 67., 17.),\n       ('16/1/2009', '20:01:00', 7.07 , 0.352, 234.95, 30.4, 25., 35., 17.),\n       ('29/12/2006', '21:21:00', 6.412, 0.136, 230.49, 27.8,  0., 70.,  0.),\n       ('23/11/2008', '18:02:00', 7.558, 0.352, 230.56, 32.8,  0., 35., 16.),\n       ('25/5/2008', '19:43:00', 6.152, 0.384, 232.91, 26.4, 36., 37.,  1.),\n       ('8/6/2008', '21:44:00', 7.578, 0.188, 233.27, 32.4,  0., 71., 17.),\n       ('13/10/2007', '20:04:00', 8.866, 0.246, 229.05, 38.6,  0., 34., 16.),\n       ('23/12/2007', '19:56:00', 6.124, 0.382, 234.27, 26.2,  0., 38., 17.),\n       ('27/6/2008', '18:32:00', 6.314, 0.228, 233.51, 27. , 36., 37., 17.),\n       ('5/3/2007', '19:25:00', 6.612, 0.424, 234.32, 28.6, 26., 35.,  0.),\n       ('23/11/2008', '20:32:00', 7.128, 0.172, 231.42, 30.8,  1., 36., 17.),\n       ('8/6/2008', '21:49:00', 6.838, 0.05 , 235.1 , 29. ,  0., 73., 18.),\n       ('21/1/2007', '19:25:00', 7.532, 0.25 , 225.25, 33.4,  0., 67., 16.),\n       ('28/12/2006', '21:04:00', 7.376, 0.238, 234.67, 31.4,  1., 72., 17.),\n       ('23/11/2008', '21:00:00', 6.106, 0.252, 234.91, 26.2,  1., 26., 17.),\n       ('8/3/2007', '20:29:00', 6.354, 0.102, 235.  , 27. ,  0., 36., 18.),\n       ('23/11/2008', '20:52:00', 6.13 , 0.402, 235.94, 26. ,  1., 34., 17.),\n       ('4/3/2007', '19:42:00', 6.378, 0.15 , 233.2 , 27.2,  0., 71., 17.),\n       ('23/2/2010', '22:02:00', 6.502, 0.072, 233.81, 27.8,  0., 73., 18.),\n       ('7/1/2007', '18:15:00', 7.002, 0.55 , 231.83, 30.8,  0., 36., 17.),\n       ('4/12/2007', '21:25:00', 6.312, 0.434, 237.09, 26.8,  0., 37., 17.),\n       ('12/10/2008', '20:21:00', 7.472, 0.09 , 230.88, 32.2,  0., 70., 17.),\n       ('28/12/2006', '21:09:00', 7.21 , 0.   , 236.14, 30.4,  1., 73., 17.),\n       ('12/10/2008', '19:33:00', 6.082, 0.47 , 232.84, 26.4,  0., 37., 18.),\n       ('20/3/2007', '21:32:00', 6.262, 0.162, 234.59, 26.6,  1., 36., 17.),\n       ('25/5/2008', '19:43:00', 6.152, 0.384, 232.91, 26.4, 36., 37.,  1.),\n       ('2/2/2008', '19:39:00', 7.9  , 0.578, 230.22, 34.8, 21., 35., 17.),\n       ('23/11/2008', '18:07:00', 7.568, 0.366, 230.24, 32.8,  0., 34., 16.),\n       ('29/12/2006', '22:33:00', 6.3  , 0.282, 235.02, 26.8,  0., 73., 17.),\n       ('31/3/2007', '20:05:00', 6.21 , 0.526, 235.8 , 26.4,  0., 37., 17.),\n       ('20/4/2008', '21:04:00', 7.756, 0.348, 232.11, 33.4,  1., 72., 17.),\n       ('16/6/2009', '18:25:00', 6.866, 0.088, 234.55, 29.4,  0., 36., 17.),\n       ('22/1/2007', '20:21:00', 7.356, 0.194, 231.35, 31.8,  0., 67., 16.),\n       ('8/6/2008', '21:43:00', 7.028, 0.16 , 234.83, 29.8,  0., 73., 18.),\n       ('13/10/2007', '20:04:00', 8.866, 0.246, 229.05, 38.6,  0., 34., 16.),\n       ('17/3/2009', '20:30:00', 6.64 , 0.086, 238.21, 27.8,  0., 66., 17.),\n       ('4/11/2008', '20:49:00', 7.404, 0.238, 231.8 , 31.8,  0., 72., 16.),\n       ('23/12/2007', '19:11:00', 6.736, 0.26 , 231.57, 29. ,  0., 71.,  0.),\n       ('16/7/2008', '21:05:00', 6.752, 0.322, 235.12, 28.8,  0., 74., 17.),\n       ('8/6/2008', '21:44:00', 7.578, 0.188, 233.27, 32.4,  0., 71., 17.),\n       ('9/1/2007', '20:56:00', 8.39 , 0.106, 233.83, 36. ,  0., 72., 17.),\n       ('20/4/2008', '21:11:00', 6.436, 0.382, 232.1 , 27.6,  1., 37., 17.),\n       ('19/2/2007', '18:42:00', 6.016, 0.224, 231.  , 26. ,  0., 35., 17.),\n       ('16/7/2008', '21:06:00', 6.98 , 0.328, 235.16, 29.8,  0., 73., 18.),\n       ('5/3/2008', '21:53:00', 6.372, 0.   , 233.72, 27.6, 12., 36., 17.),\n       ('22/2/2009', '20:10:00', 6.6  , 0.09 , 238.04, 27.6,  0., 74., 17.),\n       ('22/2/2009', '21:03:00', 6.74 , 0.406, 237.9 , 28.4,  1., 73.,  0.),\n       ('4/11/2010', '19:20:00', 6.184, 0.638, 235.97, 26.8, 23., 35.,  1.),\n       ('13/10/2007', '19:58:00', 6.304, 0.264, 231.59, 27.2,  0., 35., 16.),\n       ('12/9/2007', '22:03:00', 6.156, 0.266, 233.68, 26.2,  0., 72., 17.),\n       ('20/1/2007', '19:22:00', 8.242, 0.406, 227.3 , 36.4,  0., 27., 16.),\n       ('22/2/2007', '21:05:00', 9.16 , 0.   , 226.94, 40.2, 35., 68., 16.),\n       ('4/3/2007', '21:30:00', 6.89 , 0.   , 233.03, 29.4,  0., 70., 17.),\n       ('22/12/2007', '21:05:00', 6.992, 0.394, 235.22, 29.8,  1., 27., 17.),\n       ('21/1/2007', '19:30:00', 7.532, 0.416, 226.97, 33.4,  0., 68., 16.),\n       ('8/12/2007', '20:30:00', 6.19 , 0.424, 233.72, 26.4,  0., 36., 16.),\n       ('20/3/2007', '21:38:00', 6.052, 0.26 , 233.59, 25.8,  1., 35., 17.),\n       ('5/4/2007', '20:55:00', 6.014, 0.218, 233.29, 25.8,  2., 36., 17.),\n       ('30/1/2010', '18:13:00', 6.684, 0.196, 233.66, 28.6,  1., 71., 17.),\n       ('16/7/2008', '21:06:00', 6.98 , 0.328, 235.16, 29.8,  0., 73., 18.),\n       ('25/6/2007', '21:27:00', 6.126, 0.09 , 233.96, 26.2,  0., 71., 16.),\n       ('20/11/2010', '18:21:00', 8.394, 0.   , 227.83, 37.2, 17., 68., 16.),\n       ('8/6/2008', '21:48:00', 6.962, 0.14 , 235.24, 29.6,  0., 73., 18.)],\n      dtype=[('Date', '<U10'), ('Time', '<U8'), ('Global_active_power', '<f8'), ('Global_reactive_power', '<f8'), ('Voltage', '<f8'), ('Global_intensity', '<f8'), ('Sub_metering_1', '<f8'), ('Sub_metering_2', '<f8'), ('Sub_metering_3', '<f8')])"
     },
     "execution_count": 238,
     "metadata": {},
     "output_type": "execute_result"
    }
   ],
   "source": [
    "# task: 5 (4.1)\n",
    "# lib: numpy\n",
    "\n",
    "with timer('numpy', 'task5'):\n",
    "\n",
    "\n",
    "    np_time_threshold: str = '18:00:00'\n",
    "\n",
    "    np_evening_consumption = np_random_households[\n",
    "        (np_random_households['Time'] >= np_time_threshold) & (np_random_households['Global_active_power'] > 6)\n",
    "    ]\n",
    "    \n",
    "    np_main_consumption = np_evening_consumption[\n",
    "        np_evening_consumption['Sub_metering_2'] > np.maximum(\n",
    "            np_evening_consumption['Sub_metering_1'], \n",
    "            np_evening_consumption['Sub_metering_3']\n",
    "        )\n",
    "    ]\n",
    "    \n",
    "    np_first_half = np_main_consumption[:len(np_main_consumption) // 2][::3]\n",
    "    np_second_half = np_main_consumption[len(np_main_consumption) // 2:][::4]\n",
    "    \n",
    "    np_final_selection = np.hstack((np_first_half, np_second_half)) \n",
    "\n",
    "np_final_selection"
   ],
   "metadata": {
    "collapsed": false,
    "ExecuteTime": {
     "end_time": "2024-06-04T09:52:48.604419Z",
     "start_time": "2024-06-04T09:52:48.533535Z"
    }
   },
   "id": "d2c396d5113596b1",
   "execution_count": 238
  },
  {
   "cell_type": "code",
   "outputs": [
    {
     "data": {
      "text/plain": "{'pandas': {'task0': 3.826996,\n  'task1': 0.111175,\n  'task2': 0.135622,\n  'task3': 0.105966,\n  'task4': 1.259214,\n  'task5': 3.690108},\n 'numpy': {'task0': 33.116103,\n  'task1': 0.011155,\n  'task2': 0.141337,\n  'task3': 0.036217,\n  'task4': 0.412424,\n  'task5': 0.045581}}"
     },
     "execution_count": 239,
     "metadata": {},
     "output_type": "execute_result"
    }
   ],
   "source": [
    "TIMER"
   ],
   "metadata": {
    "collapsed": false,
    "ExecuteTime": {
     "end_time": "2024-06-04T09:52:48.614818Z",
     "start_time": "2024-06-04T09:52:48.607028Z"
    }
   },
   "id": "fccec32183442cbd",
   "execution_count": 239
  },
  {
   "cell_type": "code",
   "outputs": [
    {
     "data": {
      "text/plain": "<Figure size 800x600 with 1 Axes>",
      "image/png": "[encoded data removed]"
     },
     "metadata": {},
     "output_type": "display_data"
    },
    {
     "data": {
      "text/plain": "<Figure size 600x400 with 1 Axes>",
      "image/png": "[encoded data removed]"
     },
     "metadata": {},
     "output_type": "display_data"
    }
   ],
   "source": [
    "\n",
    "# main plot\n",
    "plt.figure(figsize=(8,6))\n",
    "for lib_name, tasks in TIMER.items():\n",
    "    plt.plot(tasks.keys(), tasks.values(), marker='x', label=lib_name)\n",
    "\n",
    "plt.ylabel('Time, s')\n",
    "plt.title(f\"Elapsed Time per Task\")\n",
    "plt.xlabel(\"Task\")\n",
    "plt.legend()\n",
    "plt.grid(True)\n",
    "\n",
    "# zoomed in plot for small numbers\n",
    "plt.figure(figsize=(6,4))\n",
    "for lib_name, tasks in TIMER.items():\n",
    "    plt.plot(tasks.keys(), tasks.values(), marker='x', label=lib_name)\n",
    "\n",
    "# calculating min value from all TIMER dict to set as Y bottom limit\n",
    "bottom_threshold = min(value for lib in TIMER.values() for value in lib.values())\n",
    "\n",
    "plt.ylim(bottom_threshold, bottom_threshold + 0.5)\n",
    "plt.xlabel(\"Tasks\")\n",
    "plt.ylabel(\"Time, s\")\n",
    "plt.title(\"Elapsed Time per Task (Zoom for Small Points)\")\n",
    "plt.legend()\n",
    "plt.grid(True)\n",
    "\n",
    "plt.tight_layout()"
   ],
   "metadata": {
    "collapsed": false,
    "ExecuteTime": {
     "end_time": "2024-06-04T09:52:49.814576Z",
     "start_time": "2024-06-04T09:52:48.617038Z"
    }
   },
   "id": "68cb1fb903f7592c",
   "execution_count": 240
  },
  {
   "cell_type": "code",
   "outputs": [],
   "source": [
    "import seaborn as sns\n",
    "\n",
    "pd_data['Time'] = pd.to_datetime(pd_data['Time'], format='%H:%M:%S')\n",
    "\n",
    "df = pd_data[['Global_intensity', 'Global_active_power', 'Global_reactive_power']]\n",
    "ax = sns.heatmap(df, annot=True)\n",
    "\n",
    "plt.show()"
   ],
   "metadata": {
    "collapsed": false,
    "ExecuteTime": {
     "end_time": "2024-06-04T10:49:24.643826Z",
     "start_time": "2024-06-04T10:49:24.643678Z"
    }
   },
   "id": "6494a31a4e9f68ec",
   "execution_count": null
  },
  {
   "cell_type": "code",
   "outputs": [
    {
     "data": {
      "text/plain": "<Figure size 500x500 with 1 Axes>",
      "image/png": "[encoded data removed]"
     },
     "metadata": {},
     "output_type": "display_data"
    }
   ],
   "source": [
    "ax = sns.displot(pd_data['Global_intensity'], kind=\"kde\")  # Adjust for other columns\n",
    "\n",
    "# Customize the plot (optional)\n",
    "plt.title(\"Distribution of Global Intensity\")\n",
    "plt.xlabel(\"Global Intensity\")\n",
    "plt.ylabel(\"Density\")\n",
    "plt.grid(True)\n",
    "plt.show()"
   ],
   "metadata": {
    "collapsed": false,
    "ExecuteTime": {
     "end_time": "2024-06-04T09:53:00.202441Z",
     "start_time": "2024-06-04T09:52:53.971818Z"
    }
   },
   "id": "9cdc495194aec8af",
   "execution_count": 242
  },
  {
   "cell_type": "code",
   "outputs": [
    {
     "data": {
      "text/plain": "<Figure size 640x480 with 1 Axes>",
      "image/png": "[encoded data removed]"
     },
     "metadata": {},
     "output_type": "display_data"
    }
   ],
   "source": [
    "df = pd_data[['Sub_metering_1','Sub_metering_2','Sub_metering_3']].mean()\n",
    "\n",
    "sns.barplot(df)\n",
    "\n",
    "# Customize the plot (optional)\n",
    "plt.title(\"Correlation Heatmap (Sample)\")\n",
    "plt.show()"
   ],
   "metadata": {
    "collapsed": false,
    "ExecuteTime": {
     "end_time": "2024-06-04T10:04:55.931894Z",
     "start_time": "2024-06-04T10:04:55.463505Z"
    }
   },
   "id": "425612b7b441c8a0",
   "execution_count": 247
  },
  {
   "cell_type": "code",
   "outputs": [],
   "source": [],
   "metadata": {
    "collapsed": false
   },
   "id": "5cb9689ea45a8078"
  }
 ],
 "metadata": {
  "kernelspec": {
   "display_name": "Python 3",
   "language": "python",
   "name": "python3"
  },
  "language_info": {
   "codemirror_mode": {
    "name": "ipython",
    "version": 2
   },
   "file_extension": ".py",
   "mimetype": "text/x-python",
   "name": "python",
   "nbconvert_exporter": "python",
   "pygments_lexer": "ipython2",
   "version": "2.7.6"
  }
 },
 "nbformat": 4,
 "nbformat_minor": 5
}
