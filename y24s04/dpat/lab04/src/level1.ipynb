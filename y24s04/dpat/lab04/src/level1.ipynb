{
 "cells": [
  {
   "cell_type": "code",
   "outputs": [],
   "source": [
    "\"\"\"\n",
    "Course: dpat4\n",
    "Lab: 04\n",
    "Part: 1\n",
    "\"\"\"\n",
    "\n",
    "import time\n",
    "import numpy as np\n",
    "import pandas as pd\n",
    "import matplotlib.pyplot as plt\n",
    "\n",
    "from contextlib import contextmanager\n",
    "\n",
    "TIMER: dict = {}\n",
    "\n",
    "\n",
    "def record(lib: str, task: str, time_used: float) -> None:\n",
    "    \"\"\"\n",
    "    Record the elapsed time of the task using specific lib\n",
    "    :param lib: the name of the lib used (numpy, pandas)\n",
    "    :param task: task number (task1)\n",
    "    :param time_used: time used to complete the task\n",
    "    :return: None\n",
    "    \"\"\"\n",
    "    global TIMER\n",
    "    \n",
    "    if lib not in TIMER:\n",
    "        TIMER[lib] = {}\n",
    "    TIMER[lib][task] = time_used\n",
    "\n",
    "\n",
    "@contextmanager\n",
    "def timer(lib: str, task: str):\n",
    "    start = time.time()\n",
    "    try:\n",
    "        yield\n",
    "    finally:\n",
    "        end = time.time()\n",
    "        time_used = round(end - start, 6)\n",
    "        record(lib, task, time_used)\n",
    "        \n",
    "        print(f'task: {task:}\\nlib: {lib}\\ntime used: {time_used}')\n",
    "\n",
    "\n",
    "URL = \"household_power_consumption.csv\"\n",
    "\n",
    "print('Setup complete...')"
   ],
   "metadata": {
    "collapsed": true
   },
   "id": "initial_id",
   "execution_count": null
  },
  {
   "cell_type": "markdown",
   "source": [
    "## Task No. 0\n",
    "Desc: Імпортування дата сету"
   ],
   "metadata": {
    "collapsed": false
   },
   "id": "b6b039fe36cc8cb5"
  },
  {
   "cell_type": "code",
   "outputs": [],
   "source": [
    "# task: 0\n",
    "# lib: pandas\n",
    "\n",
    "with timer('pandas', 'task0'):\n",
    "    pd_data = pd.read_csv(URL, sep=';', na_values='?')\n",
    "    pd_data.dropna(inplace=True)\n",
    "\n",
    "pd_data.head()"
   ],
   "metadata": {
    "collapsed": false
   },
   "id": "1f9b0a44ff3fc3c7",
   "execution_count": null
  },
  {
   "cell_type": "code",
   "outputs": [],
   "source": [
    "# task: 0\n",
    "# lib: numpy\n",
    "\n",
    "with timer('numpy', 'task0'):\n",
    "    dtypes = [\n",
    "        ('Date', 'U10'), \n",
    "        ('Time', 'U8'), \n",
    "        ('Global_active_power', 'f8'), \n",
    "        ('Global_reactive_power', 'f8'), \n",
    "        ('Voltage', 'f8'), \n",
    "        ('Global_intensity', 'f8'), \n",
    "        ('Sub_metering_1', 'f8'), \n",
    "        ('Sub_metering_2', 'f8'), \n",
    "        ('Sub_metering_3', 'f8')\n",
    "    ]\n",
    "    \n",
    "    np_data = np.genfromtxt(\n",
    "        URL, \n",
    "        delimiter=';',\n",
    "        missing_values='?',\n",
    "        filling_values=np.nan,\n",
    "        dtype=dtypes,\n",
    "        encoding=None,\n",
    "        names=True\n",
    "    )\n",
    "    \n",
    "    np_columns = [col for col, _ in dtypes[2:]]\n",
    "    mask = np.all([~np.isnan(np_data[col]) for col in np_columns], axis=0)\n",
    "\n",
    "    np_data = np_data[mask]\n",
    "\n",
    "np_data"
   ],
   "metadata": {
    "collapsed": false
   },
   "id": "6ba925992af7d38e",
   "execution_count": null
  },
  {
   "cell_type": "code",
   "outputs": [],
   "source": [
    "nan_mask = np.any([np.isnan(np_data[col]) for col in np_columns], axis=0)\n",
    "\n",
    "nan = np_data[nan_mask]\n",
    "\n",
    "nan"
   ],
   "metadata": {
    "collapsed": false
   },
   "id": "370e49220b3c6e92",
   "execution_count": null
  },
  {
   "cell_type": "markdown",
   "source": [
    "## Task No. 1\n",
    "Desc: Обрати всі домогосподарства, у яких загальна активна споживана потужність перевищує **5 кВт**."
   ],
   "metadata": {
    "collapsed": false
   },
   "id": "48a1139d15ec611c"
  },
  {
   "cell_type": "code",
   "outputs": [],
   "source": [
    "# task: 1\n",
    "# lib: pandas\n",
    "\n",
    "with timer('pandas', 'task1'):\n",
    "    pd_active_power = pd_data[\n",
    "        pd_data['Global_active_power'] > 5\n",
    "    ]\n",
    "\n",
    "pd_active_power"
   ],
   "metadata": {
    "collapsed": false
   },
   "id": "6714a2f992361ef9",
   "execution_count": null
  },
  {
   "cell_type": "code",
   "outputs": [],
   "source": [
    "# task: 1\n",
    "# lib: numpy\n",
    "\n",
    "with timer('numpy', 'task1'):\n",
    "    np_active_power = np_data[\n",
    "        np_data['Global_active_power'] > 5\n",
    "    ]\n",
    "\n",
    "np_active_power"
   ],
   "metadata": {
    "collapsed": false
   },
   "id": "17407d4023c4ae9a",
   "execution_count": null
  },
  {
   "cell_type": "markdown",
   "source": [
    "## Task No. 2\n",
    "Обрати всі домогосподарства, у яких вольтаж перевищує 235 В."
   ],
   "metadata": {
    "collapsed": false
   },
   "id": "a41a6f7fe3c56db5"
  },
  {
   "cell_type": "code",
   "outputs": [],
   "source": [
    "# task: 2\n",
    "# lib: pandas\n",
    "\n",
    "with timer('pandas', 'task2'):\n",
    "    pd_voltage = pd_data[\n",
    "        pd_data['Voltage'] > 235\n",
    "    ]\n",
    "\n",
    "pd_voltage"
   ],
   "metadata": {
    "collapsed": false
   },
   "id": "7eda2db3b74aed91",
   "execution_count": null
  },
  {
   "cell_type": "code",
   "outputs": [],
   "source": [
    "# task: 2\n",
    "# lib: numpy\n",
    "\n",
    "with timer('numpy', 'task2'):\n",
    "    np_voltage = np_data[\n",
    "        np_data['Voltage'] > 235\n",
    "    ]\n",
    "\n",
    "np_voltage"
   ],
   "metadata": {
    "collapsed": false
   },
   "id": "f12384959ab20fa",
   "execution_count": null
  },
  {
   "cell_type": "markdown",
   "source": [
    "## Task No. 3\n",
    "Обрати всі домогосподарства, у яких сила струму лежить в межах 19-20 А, для них виявити ті, у яких пральна машина та холодильних споживають більше, ніж бойлер та кондиціонер."
   ],
   "metadata": {
    "collapsed": false
   },
   "id": "b4890240aeeac76a"
  },
  {
   "cell_type": "code",
   "outputs": [],
   "source": [
    "# task: 3\n",
    "# lib: pandas\n",
    "\n",
    "with timer('pandas', 'task3'):\n",
    "    pd_global_intensity = pd_data[\n",
    "        (pd_data['Global_intensity'] >= 19) & \n",
    "        (pd_data['Global_intensity'] <= 20)\n",
    "    ]\n",
    "    \n",
    "    pd_specific_consumption = pd_global_intensity[\n",
    "        (pd_global_intensity['Sub_metering_1'] + pd_global_intensity['Sub_metering_2']) > pd_global_intensity['Sub_metering_3']\n",
    "    ]\n",
    "\n",
    "\n",
    "pd_specific_consumption"
   ],
   "metadata": {
    "collapsed": false
   },
   "id": "60a95aabdd894c09",
   "execution_count": null
  },
  {
   "cell_type": "code",
   "outputs": [],
   "source": [
    "# task: 3\n",
    "# lib: numpy\n",
    "\n",
    "with timer('numpy', 'task3'):\n",
    "    # Global_intensity col for range >= 19 and <= 20\n",
    "    current_range = np_data[\n",
    "        (np_data['Global_intensity'] >= 19) & (np_data['Global_intensity'] <= 20)\n",
    "    ]\n",
    "\n",
    "    # sum of the Sub_metering groups\n",
    "    sub_metering_1_2 = current_range['Sub_metering_1'] + current_range['Sub_metering_2']\n",
    "    sub_metering_3 = current_range['Sub_metering_3']\n",
    "    \n",
    "    # getting df were sub_metering_1 + sub_metering_2 > sub_metering_3\n",
    "    specific_consumption = current_range[sub_metering_1_2 > sub_metering_3]\n",
    "\n",
    "specific_consumption"
   ],
   "metadata": {
    "collapsed": false
   },
   "id": "bebbc1d2d74e5682",
   "execution_count": null
  },
  {
   "cell_type": "markdown",
   "source": [
    "## Task No. 4\n",
    "Обрати випадковим чином 500000 домогосподарств (без повторів елементів вибірки) для них обчислити середні величини усіх 3-х груп споживання електричної енергії"
   ],
   "metadata": {
    "collapsed": false
   },
   "id": "2309787aab5ee9ef"
  },
  {
   "cell_type": "code",
   "outputs": [],
   "source": [
    "# task: 4\n",
    "# lib: pandas\n",
    "\n",
    "with timer('pandas', 'task4'):\n",
    "\n",
    "    # random 500000 items, random_state - seed for the random generator\n",
    "    pd_random_households = pd_data.sample(n=500000, random_state=1).reset_index(drop=True)\n",
    "    \n",
    "    pd_mean_consumption = pd_random_households[\n",
    "        ['Global_active_power', \n",
    "         'Global_intensity', \n",
    "         'Voltage', \n",
    "         'Sub_metering_1', \n",
    "         'Sub_metering_2', \n",
    "         'Sub_metering_3']\n",
    "    ].mean()\n",
    "\n",
    "pd_mean_consumption"
   ],
   "metadata": {
    "collapsed": false
   },
   "id": "ea9bdd5c04c1ac2b",
   "execution_count": null
  },
  {
   "cell_type": "code",
   "outputs": [],
   "source": [
    "# task: 4\n",
    "# lib: numpy\n",
    "\n",
    "with timer('numpy', 'task4'):\n",
    "    np_random_idx = np.random.choice(np_data.shape[0], 500000, replace=True)\n",
    "    np_random_households = np_data[np_random_idx]\n",
    "    \n",
    "    mean_fields = ['Sub_metering_1', 'Sub_metering_2', 'Sub_metering_3']\n",
    "    np_mean_consumption = {col: np.mean(np_random_households[col]) for col in mean_fields}\n",
    "\n",
    "np_mean_consumption"
   ],
   "metadata": {
    "collapsed": false
   },
   "id": "723660f27d003897",
   "execution_count": null
  },
  {
   "cell_type": "markdown",
   "source": [
    "## Task No. 5 (4.1)\n",
    "Desc: Обрати ті домогосподарства, які після 18-00 споживають понад **6 кВт** за годину, в середньому, серед відібраних визначити ті, у яких основне споживання електроенергії у вказаний проміжок часу припадає на пральну машину, сушарку, холодильник та освітлення (група 2 є найбільшою), а потім обрати кожен третій результат із першої половини та кожен четвертий результат із других половин."
   ],
   "metadata": {
    "collapsed": false
   },
   "id": "d6e15a63b7bad34d"
  },
  {
   "cell_type": "code",
   "outputs": [],
   "source": [
    "# task: 5 (4.1)\n",
    "# lib: pandas\n",
    "\n",
    "with timer('pandas', 'task5'):\n",
    "\n",
    "    time_threshold = pd.to_datetime('18:00:00').time()\n",
    "    \n",
    "    pd_random_households['Time'] = pd.to_datetime(pd_random_households['Time'], format='%H:%M:%S').dt.time\n",
    "    \n",
    "    # 6 кВт past time_threshold\n",
    "    pd_evening_consumption = pd_random_households[\n",
    "        (pd_random_households['Time'] >= time_threshold) & \n",
    "        (pd_random_households['Global_active_power'] > 6)\n",
    "    ]\n",
    "    \n",
    "    # where consumption in the group 2 is greater than 3 and 1 combined\n",
    "    pd_main_consumption = pd_evening_consumption[\n",
    "        pd_evening_consumption['Sub_metering_2'] > \n",
    "        pd_evening_consumption[\n",
    "            ['Sub_metering_1', 'Sub_metering_3']\n",
    "        ].max(axis=1)\n",
    "    ]\n",
    "    \n",
    "    # from the first half, every third part\n",
    "    pd_first_half = pd_main_consumption.iloc[:len(pd_main_consumption) // 2].iloc[::3]\n",
    "    \n",
    "    # from the second half, every fourth part\n",
    "    pd_second_half = pd_main_consumption.iloc[len(pd_main_consumption) // 2:].iloc[::4]\n",
    "    \n",
    "    # merging the first and second halves\n",
    "    pd_final_selection = pd.concat([pd_first_half, pd_second_half])\n",
    "\n",
    "pd_final_selection"
   ],
   "metadata": {
    "collapsed": false
   },
   "id": "dca4a0adff79fd7e",
   "execution_count": null
  },
  {
   "cell_type": "code",
   "outputs": [],
   "source": [
    "# task: 5 (4.1)\n",
    "# lib: numpy\n",
    "\n",
    "with timer('numpy', 'task5'):\n",
    "\n",
    "\n",
    "    np_time_threshold: str = '18:00:00'\n",
    "\n",
    "    np_evening_consumption = np_random_households[\n",
    "        (np_random_households['Time'] >= np_time_threshold) & (np_random_households['Global_active_power'] > 6)\n",
    "    ]\n",
    "    \n",
    "    np_main_consumption = np_evening_consumption[\n",
    "        np_evening_consumption['Sub_metering_2'] > np.maximum(\n",
    "            np_evening_consumption['Sub_metering_1'], \n",
    "            np_evening_consumption['Sub_metering_3']\n",
    "        )\n",
    "    ]\n",
    "    \n",
    "    np_first_half = np_main_consumption[:len(np_main_consumption) // 2][::3]\n",
    "    np_second_half = np_main_consumption[len(np_main_consumption) // 2:][::4]\n",
    "    \n",
    "    np_final_selection = np.hstack((np_first_half, np_second_half)) \n",
    "\n",
    "np_final_selection"
   ],
   "metadata": {
    "collapsed": false
   },
   "id": "d2c396d5113596b1",
   "execution_count": null
  },
  {
   "cell_type": "code",
   "outputs": [],
   "source": [
    "TIMER"
   ],
   "metadata": {
    "collapsed": false
   },
   "id": "fccec32183442cbd",
   "execution_count": null
  },
  {
   "cell_type": "code",
   "outputs": [],
   "source": [
    "\n",
    "# main plot\n",
    "plt.figure(figsize=(8,6))\n",
    "for lib_name, tasks in TIMER.items():\n",
    "    plt.plot(tasks.keys(), tasks.values(), marker='x', label=lib_name)\n",
    "\n",
    "plt.ylabel('Time, s')\n",
    "plt.title(f\"Elapsed Time per Task\")\n",
    "plt.xlabel(\"Task\")\n",
    "plt.legend()\n",
    "plt.grid(True)\n",
    "\n",
    "# zoomed in plot for small numbers\n",
    "plt.figure(figsize=(6,4))\n",
    "for lib_name, tasks in TIMER.items():\n",
    "    plt.plot(tasks.keys(), tasks.values(), marker='x', label=lib_name)\n",
    "\n",
    "# calculating min value from all TIMER dict to set as Y bottom limit\n",
    "bottom_threshold = min(value for lib in TIMER.values() for value in lib.values())\n",
    "\n",
    "plt.ylim(bottom_threshold, bottom_threshold + 0.5)\n",
    "plt.xlabel(\"Tasks\")\n",
    "plt.ylabel(\"Time, s\")\n",
    "plt.title(\"Elapsed Time per Task (Zoom for Small Points)\")\n",
    "plt.legend()\n",
    "plt.grid(True)\n",
    "\n",
    "plt.tight_layout()"
   ],
   "metadata": {
    "collapsed": false
   },
   "id": "68cb1fb903f7592c",
   "execution_count": null
  },
  {
   "cell_type": "code",
   "outputs": [],
   "source": [
    "import seaborn as sns\n",
    "\n",
    "pd_data['Time'] = pd.to_datetime(pd_data['Time'], format='%H:%M:%S')\n",
    "\n",
    "df = pd_data[['Global_intensity', 'Global_active_power', 'Global_reactive_power']]\n",
    "ax = sns.heatmap(df, annot=True)\n",
    "\n",
    "plt.show()"
   ],
   "metadata": {
    "collapsed": false
   },
   "id": "6494a31a4e9f68ec",
   "execution_count": null
  },
  {
   "cell_type": "code",
   "outputs": [],
   "source": [
    "ax = sns.displot(pd_data['Global_intensity'], kind=\"kde\")  # Adjust for other columns\n",
    "\n",
    "# Customize the plot (optional)\n",
    "plt.title(\"Distribution of Global Intensity\")\n",
    "plt.xlabel(\"Global Intensity\")\n",
    "plt.ylabel(\"Density\")\n",
    "plt.grid(True)\n",
    "plt.show()"
   ],
   "metadata": {
    "collapsed": false
   },
   "id": "9cdc495194aec8af",
   "execution_count": null
  },
  {
   "cell_type": "code",
   "outputs": [],
   "source": [
    "df = pd_data[['Sub_metering_1','Sub_metering_2','Sub_metering_3']].mean()\n",
    "\n",
    "sns.barplot(df)\n",
    "\n",
    "# Customize the plot (optional)\n",
    "plt.title(\"Correlation Heatmap (Sample)\")\n",
    "plt.show()"
   ],
   "metadata": {
    "collapsed": false
   },
   "id": "425612b7b441c8a0",
   "execution_count": null
  }
 ],
 "metadata": {
  "kernelspec": {
   "display_name": "Python 3",
   "language": "python",
   "name": "python3"
  },
  "language_info": {
   "codemirror_mode": {
    "name": "ipython",
    "version": 2
   },
   "file_extension": ".py",
   "mimetype": "text/x-python",
   "name": "python",
   "nbconvert_exporter": "python",
   "pygments_lexer": "ipython2",
   "version": "2.7.6"
  }
 },
 "nbformat": 4,
 "nbformat_minor": 5
}
