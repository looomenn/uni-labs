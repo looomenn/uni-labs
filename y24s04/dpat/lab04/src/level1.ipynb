{
 "cells": [
  {
   "cell_type": "code",
   "outputs": [
    {
     "name": "stdout",
     "output_type": "stream",
     "text": [
      "Setup complete...\n"
     ]
    }
   ],
   "source": [
    "\"\"\"\n",
    "Course: dpat4\n",
    "Lab: 04\n",
    "Part: 1\n",
    "\"\"\"\n",
    "\n",
    "import pandas as pd\n",
    "import numpy as np\n",
    "import time\n",
    "\n",
    "from contextlib import contextmanager\n",
    "\n",
    "TIMER: dict = {}\n",
    "\n",
    "def record(lib: str, task: str, timer: float) -> None:\n",
    "    \"\"\"\n",
    "    Record the elapsed time of the task using specific lib\n",
    "    :param lib: the name of the lib used (numpy, pandas)\n",
    "    :param task: task number (task1)\n",
    "    :param timer: time used to complete the task\n",
    "    :return: None\n",
    "    \"\"\"\n",
    "    global TIMER\n",
    "    \n",
    "    if lib not in TIMER:\n",
    "        TIMER[lib] = {}\n",
    "    TIMER[lib][task] = timer\n",
    "    \n",
    "\n",
    "def get_indexes(dataframe: pd.DataFrame) -> None: \n",
    "    cols = {col: idx for idx, col in enumerate(dataframe.columns)}\n",
    "    \n",
    "    return print(cols)\n",
    "\n",
    "\n",
    "@contextmanager\n",
    "def timed_operation(lib: str, task: str):\n",
    "    task_start = time.time()\n",
    "    yield\n",
    "    task_end = time.time()\n",
    "    elapsed_time = round(task_end - task_start, 6)\n",
    "    record(lib, task, elapsed_time)\n",
    "    print(f'{elapsed_time=}')\n",
    "\n",
    "\n",
    "URL = \"household_power_consumption.csv\"\n",
    "\n",
    "print('Setup complete...')"
   ],
   "metadata": {
    "collapsed": true,
    "ExecuteTime": {
     "end_time": "2024-06-03T14:07:49.001850Z",
     "start_time": "2024-06-03T14:07:48.978529Z"
    }
   },
   "id": "initial_id",
   "execution_count": 37
  },
  {
   "cell_type": "markdown",
   "source": [
    "## Task No. 0\n",
    "Desc: Імпортування датасету"
   ],
   "metadata": {
    "collapsed": false
   },
   "id": "b6b039fe36cc8cb5"
  },
  {
   "cell_type": "code",
   "outputs": [
    {
     "name": "stdout",
     "output_type": "stream",
     "text": [
      "elapsed_time=1.913653\n"
     ]
    },
    {
     "data": {
      "text/plain": "         Date      Time  Global_active_power  Global_reactive_power  Voltage  \\\n0  16/12/2006  17:24:00                4.216                  0.418   234.84   \n1  16/12/2006  17:25:00                5.360                  0.436   233.63   \n2  16/12/2006  17:26:00                5.374                  0.498   233.29   \n3  16/12/2006  17:27:00                5.388                  0.502   233.74   \n4  16/12/2006  17:28:00                3.666                  0.528   235.68   \n\n   Global_intensity  Sub_metering_1  Sub_metering_2  Sub_metering_3  \n0              18.4             0.0             1.0            17.0  \n1              23.0             0.0             1.0            16.0  \n2              23.0             0.0             2.0            17.0  \n3              23.0             0.0             1.0            17.0  \n4              15.8             0.0             1.0            17.0  ",
      "text/html": "<div>\n<style scoped>\n    .dataframe tbody tr th:only-of-type {\n        vertical-align: middle;\n    }\n\n    .dataframe tbody tr th {\n        vertical-align: top;\n    }\n\n    .dataframe thead th {\n        text-align: right;\n    }\n</style>\n<table border=\"1\" class=\"dataframe\">\n  <thead>\n    <tr style=\"text-align: right;\">\n      <th></th>\n      <th>Date</th>\n      <th>Time</th>\n      <th>Global_active_power</th>\n      <th>Global_reactive_power</th>\n      <th>Voltage</th>\n      <th>Global_intensity</th>\n      <th>Sub_metering_1</th>\n      <th>Sub_metering_2</th>\n      <th>Sub_metering_3</th>\n    </tr>\n  </thead>\n  <tbody>\n    <tr>\n      <th>0</th>\n      <td>16/12/2006</td>\n      <td>17:24:00</td>\n      <td>4.216</td>\n      <td>0.418</td>\n      <td>234.84</td>\n      <td>18.4</td>\n      <td>0.0</td>\n      <td>1.0</td>\n      <td>17.0</td>\n    </tr>\n    <tr>\n      <th>1</th>\n      <td>16/12/2006</td>\n      <td>17:25:00</td>\n      <td>5.360</td>\n      <td>0.436</td>\n      <td>233.63</td>\n      <td>23.0</td>\n      <td>0.0</td>\n      <td>1.0</td>\n      <td>16.0</td>\n    </tr>\n    <tr>\n      <th>2</th>\n      <td>16/12/2006</td>\n      <td>17:26:00</td>\n      <td>5.374</td>\n      <td>0.498</td>\n      <td>233.29</td>\n      <td>23.0</td>\n      <td>0.0</td>\n      <td>2.0</td>\n      <td>17.0</td>\n    </tr>\n    <tr>\n      <th>3</th>\n      <td>16/12/2006</td>\n      <td>17:27:00</td>\n      <td>5.388</td>\n      <td>0.502</td>\n      <td>233.74</td>\n      <td>23.0</td>\n      <td>0.0</td>\n      <td>1.0</td>\n      <td>17.0</td>\n    </tr>\n    <tr>\n      <th>4</th>\n      <td>16/12/2006</td>\n      <td>17:28:00</td>\n      <td>3.666</td>\n      <td>0.528</td>\n      <td>235.68</td>\n      <td>15.8</td>\n      <td>0.0</td>\n      <td>1.0</td>\n      <td>17.0</td>\n    </tr>\n  </tbody>\n</table>\n</div>"
     },
     "execution_count": 32,
     "metadata": {},
     "output_type": "execute_result"
    }
   ],
   "source": [
    "# task: 0\n",
    "# desc: importing dataset\n",
    "# lib: pandas\n",
    "\n",
    "task_start = time.time()\n",
    "\n",
    "pd_data = pd.read_csv(URL, sep=';', na_values='?')\n",
    "pd_data.dropna(inplace=True)\n",
    "\n",
    "task_end = time.time()\n",
    "elapsed_time = round(task_end - task_start, 6)\n",
    "record('pandas', 'task0', elapsed_time)\n",
    "\n",
    "print(f'{elapsed_time=}')\n",
    "pd_data.head()"
   ],
   "metadata": {
    "collapsed": false,
    "ExecuteTime": {
     "end_time": "2024-06-03T13:57:27.206199Z",
     "start_time": "2024-06-03T13:57:25.267162Z"
    }
   },
   "id": "1f9b0a44ff3fc3c7",
   "execution_count": 32
  },
  {
   "cell_type": "code",
   "outputs": [
    {
     "name": "stdout",
     "output_type": "stream",
     "text": [
      "elapsed_time=18.562593\n"
     ]
    },
    {
     "data": {
      "text/plain": "array([('16/12/2006', '17:24:00', 4.216, 0.418, 234.84, 18.4, 0., 1., 17.),\n       ('16/12/2006', '17:25:00', 5.36 , 0.436, 233.63, 23. , 0., 1., 16.),\n       ('16/12/2006', '17:26:00', 5.374, 0.498, 233.29, 23. , 0., 2., 17.),\n       ...,\n       ('26/11/2010', '21:00:00', 0.938, 0.   , 239.82,  3.8, 0., 0.,  0.),\n       ('26/11/2010', '21:01:00', 0.934, 0.   , 239.7 ,  3.8, 0., 0.,  0.),\n       ('26/11/2010', '21:02:00', 0.932, 0.   , 239.55,  3.8, 0., 0.,  0.)],\n      dtype=[('Date', '<U10'), ('Time', '<U8'), ('Global_active_power', '<f8'), ('Global_reactive_power', '<f8'), ('Voltage', '<f8'), ('Global_intensity', '<f8'), ('Sub_metering_1', '<f8'), ('Sub_metering_2', '<f8'), ('Sub_metering_3', '<f8')])"
     },
     "execution_count": 33,
     "metadata": {},
     "output_type": "execute_result"
    }
   ],
   "source": [
    "# task: 0\n",
    "# desc: importing dataset\n",
    "# lib: numpy\n",
    "\n",
    "task_start = time.time()\n",
    "\n",
    "dtypes = [\n",
    "    ('Date', 'U10'), \n",
    "    ('Time', 'U8'), \n",
    "    ('Global_active_power', 'f8'), \n",
    "    ('Global_reactive_power', 'f8'), \n",
    "    ('Voltage', 'f8'), \n",
    "    ('Global_intensity', 'f8'), \n",
    "    ('Sub_metering_1', 'f8'), \n",
    "    ('Sub_metering_2', 'f8'), \n",
    "    ('Sub_metering_3', 'f8')\n",
    "]\n",
    "\n",
    "np_data = np.genfromtxt(\n",
    "    URL, \n",
    "    delimiter=';',\n",
    "    missing_values='?',\n",
    "    filling_values=np.nan,\n",
    "    dtype=dtypes,\n",
    "    encoding=None,\n",
    "    names=True\n",
    ")\n",
    "\n",
    "np_columns = [col for col, _ in dtypes[2:]]\n",
    "mask = np.all([~np.isnan(np_data[col]) for col in np_columns], axis=0)\n",
    "\n",
    "# mask = ~np.isnan(np_data['Global_active_power']) & \\\n",
    "#        ~np.isnan(np_data['Global_reactive_power']) & \\\n",
    "#        ~np.isnan(np_data['Voltage']) & \\\n",
    "#        ~np.isnan(np_data['Global_intensity']) & \\\n",
    "#        ~np.isnan(np_data['Sub_metering_1']) & \\\n",
    "#        ~np.isnan(np_data['Sub_metering_2']) & \\\n",
    "#        ~np.isnan(np_data['Sub_metering_3'])\n",
    "\n",
    "np_data_clean = np_data[mask]\n",
    "\n",
    "task_end = time.time()\n",
    "elapsed_time = round(task_end - task_start, 6)\n",
    "record('numpy', 'task0', elapsed_time)\n",
    "\n",
    "print(f'{elapsed_time=}')\n",
    "np_data"
   ],
   "metadata": {
    "collapsed": false,
    "ExecuteTime": {
     "end_time": "2024-06-03T13:58:34.423110Z",
     "start_time": "2024-06-03T13:58:15.841028Z"
    }
   },
   "id": "6ba925992af7d38e",
   "execution_count": 33
  },
  {
   "cell_type": "markdown",
   "source": [
    "## Task No. 1\n",
    "Desc: Обрати всі домогосподарства, у яких загальна активна споживана потужність перевищує **5 кВт**."
   ],
   "metadata": {
    "collapsed": false
   },
   "id": "48a1139d15ec611c"
  },
  {
   "cell_type": "code",
   "outputs": [
    {
     "name": "stdout",
     "output_type": "stream",
     "text": [
      "elapsed_time=0.121399\n"
     ]
    },
    {
     "data": {
      "text/plain": "               Date      Time  Global_active_power  Global_reactive_power  \\\n1        16/12/2006  17:25:00                5.360                  0.436   \n2        16/12/2006  17:26:00                5.374                  0.498   \n3        16/12/2006  17:27:00                5.388                  0.502   \n11       16/12/2006  17:35:00                5.412                  0.470   \n12       16/12/2006  17:36:00                5.224                  0.478   \n...             ...       ...                  ...                    ...   \n2069356  22/11/2010  18:40:00                5.408                  0.150   \n2069357  22/11/2010  18:41:00                5.528                  0.144   \n2071586  24/11/2010  07:50:00                5.172                  0.050   \n2071587  24/11/2010  07:51:00                5.750                  0.000   \n2072997  25/11/2010  07:21:00                5.074                  0.240   \n\n         Voltage  Global_intensity  Sub_metering_1  Sub_metering_2  \\\n1         233.63              23.0             0.0             1.0   \n2         233.29              23.0             0.0             2.0   \n3         233.74              23.0             0.0             1.0   \n11        232.78              23.2             0.0             1.0   \n12        232.99              22.4             0.0             1.0   \n...          ...               ...             ...             ...   \n2069356   231.50              23.6            48.0             0.0   \n2069357   232.48              24.6            53.0             0.0   \n2071586   235.18              22.0             0.0            38.0   \n2071587   234.40              24.6             0.0            39.0   \n2072997   238.55              21.4             1.0             2.0   \n\n         Sub_metering_3  \n1                  16.0  \n2                  17.0  \n3                  17.0  \n11                 17.0  \n12                 16.0  \n...                 ...  \n2069356             0.0  \n2069357             0.0  \n2071586            17.0  \n2071587            17.0  \n2072997            18.0  \n\n[17547 rows x 9 columns]",
      "text/html": "<div>\n<style scoped>\n    .dataframe tbody tr th:only-of-type {\n        vertical-align: middle;\n    }\n\n    .dataframe tbody tr th {\n        vertical-align: top;\n    }\n\n    .dataframe thead th {\n        text-align: right;\n    }\n</style>\n<table border=\"1\" class=\"dataframe\">\n  <thead>\n    <tr style=\"text-align: right;\">\n      <th></th>\n      <th>Date</th>\n      <th>Time</th>\n      <th>Global_active_power</th>\n      <th>Global_reactive_power</th>\n      <th>Voltage</th>\n      <th>Global_intensity</th>\n      <th>Sub_metering_1</th>\n      <th>Sub_metering_2</th>\n      <th>Sub_metering_3</th>\n    </tr>\n  </thead>\n  <tbody>\n    <tr>\n      <th>1</th>\n      <td>16/12/2006</td>\n      <td>17:25:00</td>\n      <td>5.360</td>\n      <td>0.436</td>\n      <td>233.63</td>\n      <td>23.0</td>\n      <td>0.0</td>\n      <td>1.0</td>\n      <td>16.0</td>\n    </tr>\n    <tr>\n      <th>2</th>\n      <td>16/12/2006</td>\n      <td>17:26:00</td>\n      <td>5.374</td>\n      <td>0.498</td>\n      <td>233.29</td>\n      <td>23.0</td>\n      <td>0.0</td>\n      <td>2.0</td>\n      <td>17.0</td>\n    </tr>\n    <tr>\n      <th>3</th>\n      <td>16/12/2006</td>\n      <td>17:27:00</td>\n      <td>5.388</td>\n      <td>0.502</td>\n      <td>233.74</td>\n      <td>23.0</td>\n      <td>0.0</td>\n      <td>1.0</td>\n      <td>17.0</td>\n    </tr>\n    <tr>\n      <th>11</th>\n      <td>16/12/2006</td>\n      <td>17:35:00</td>\n      <td>5.412</td>\n      <td>0.470</td>\n      <td>232.78</td>\n      <td>23.2</td>\n      <td>0.0</td>\n      <td>1.0</td>\n      <td>17.0</td>\n    </tr>\n    <tr>\n      <th>12</th>\n      <td>16/12/2006</td>\n      <td>17:36:00</td>\n      <td>5.224</td>\n      <td>0.478</td>\n      <td>232.99</td>\n      <td>22.4</td>\n      <td>0.0</td>\n      <td>1.0</td>\n      <td>16.0</td>\n    </tr>\n    <tr>\n      <th>...</th>\n      <td>...</td>\n      <td>...</td>\n      <td>...</td>\n      <td>...</td>\n      <td>...</td>\n      <td>...</td>\n      <td>...</td>\n      <td>...</td>\n      <td>...</td>\n    </tr>\n    <tr>\n      <th>2069356</th>\n      <td>22/11/2010</td>\n      <td>18:40:00</td>\n      <td>5.408</td>\n      <td>0.150</td>\n      <td>231.50</td>\n      <td>23.6</td>\n      <td>48.0</td>\n      <td>0.0</td>\n      <td>0.0</td>\n    </tr>\n    <tr>\n      <th>2069357</th>\n      <td>22/11/2010</td>\n      <td>18:41:00</td>\n      <td>5.528</td>\n      <td>0.144</td>\n      <td>232.48</td>\n      <td>24.6</td>\n      <td>53.0</td>\n      <td>0.0</td>\n      <td>0.0</td>\n    </tr>\n    <tr>\n      <th>2071586</th>\n      <td>24/11/2010</td>\n      <td>07:50:00</td>\n      <td>5.172</td>\n      <td>0.050</td>\n      <td>235.18</td>\n      <td>22.0</td>\n      <td>0.0</td>\n      <td>38.0</td>\n      <td>17.0</td>\n    </tr>\n    <tr>\n      <th>2071587</th>\n      <td>24/11/2010</td>\n      <td>07:51:00</td>\n      <td>5.750</td>\n      <td>0.000</td>\n      <td>234.40</td>\n      <td>24.6</td>\n      <td>0.0</td>\n      <td>39.0</td>\n      <td>17.0</td>\n    </tr>\n    <tr>\n      <th>2072997</th>\n      <td>25/11/2010</td>\n      <td>07:21:00</td>\n      <td>5.074</td>\n      <td>0.240</td>\n      <td>238.55</td>\n      <td>21.4</td>\n      <td>1.0</td>\n      <td>2.0</td>\n      <td>18.0</td>\n    </tr>\n  </tbody>\n</table>\n<p>17547 rows × 9 columns</p>\n</div>"
     },
     "execution_count": 34,
     "metadata": {},
     "output_type": "execute_result"
    }
   ],
   "source": [
    "# task: 1\n",
    "# desc: get all households, where general active power > 5 kWh\n",
    "# lib: pandas\n",
    "\n",
    "task_start = time.time()\n",
    "pd_active_power = pd_data[pd_data['Global_active_power'] > 5]\n",
    "\n",
    "task_end = time.time()\n",
    "elapsed_time = round(task_end - task_start, 6)\n",
    "record('pandas', 'task1', elapsed_time)\n",
    "\n",
    "print(f'{elapsed_time=}')\n",
    "pd_active_power"
   ],
   "metadata": {
    "collapsed": false,
    "ExecuteTime": {
     "end_time": "2024-06-03T14:00:08.948803Z",
     "start_time": "2024-06-03T14:00:08.808559Z"
    }
   },
   "id": "6714a2f992361ef9",
   "execution_count": 34
  },
  {
   "cell_type": "code",
   "outputs": [
    {
     "name": "stdout",
     "output_type": "stream",
     "text": [
      "elapsed_time=0.145494\n"
     ]
    },
    {
     "data": {
      "text/plain": "array([('16/12/2006', '17:25:00', 5.36 , 0.436, 233.63, 23. , 0.,  1., 16.),\n       ('16/12/2006', '17:26:00', 5.374, 0.498, 233.29, 23. , 0.,  2., 17.),\n       ('16/12/2006', '17:27:00', 5.388, 0.502, 233.74, 23. , 0.,  1., 17.),\n       ...,\n       ('24/11/2010', '07:50:00', 5.172, 0.05 , 235.18, 22. , 0., 38., 17.),\n       ('24/11/2010', '07:51:00', 5.75 , 0.   , 234.4 , 24.6, 0., 39., 17.),\n       ('25/11/2010', '07:21:00', 5.074, 0.24 , 238.55, 21.4, 1.,  2., 18.)],\n      dtype=[('Date', '<U10'), ('Time', '<U8'), ('Global_active_power', '<f8'), ('Global_reactive_power', '<f8'), ('Voltage', '<f8'), ('Global_intensity', '<f8'), ('Sub_metering_1', '<f8'), ('Sub_metering_2', '<f8'), ('Sub_metering_3', '<f8')])"
     },
     "execution_count": 35,
     "metadata": {},
     "output_type": "execute_result"
    }
   ],
   "source": [
    "# task: 1\n",
    "# desc: get all households, where general active power > 5 kWh\n",
    "# lib: numpy\n",
    "\n",
    "task_start = time.time()\n",
    "np_active_power = np_data[np_data['Global_active_power'] > 5]\n",
    "\n",
    "task_end = time.time()\n",
    "elapsed_time = round(task_end - task_start, 6)\n",
    "record('numpy', 'task1', elapsed_time)\n",
    "\n",
    "print(f'{elapsed_time=}')\n",
    "np_active_power"
   ],
   "metadata": {
    "collapsed": false,
    "ExecuteTime": {
     "end_time": "2024-06-03T14:00:46.044375Z",
     "start_time": "2024-06-03T14:00:45.879465Z"
    }
   },
   "id": "17407d4023c4ae9a",
   "execution_count": 35
  },
  {
   "cell_type": "markdown",
   "source": [
    "## Task No. 2\n",
    "Обрати всі домогосподарства, у яких вольтаж перевищує 235 В."
   ],
   "metadata": {
    "collapsed": false
   },
   "id": "a41a6f7fe3c56db5"
  },
  {
   "cell_type": "code",
   "outputs": [
    {
     "name": "stdout",
     "output_type": "stream",
     "text": [
      "elapsed_time=0.236637\n"
     ]
    },
    {
     "data": {
      "text/plain": "               Date      Time  Global_active_power  Global_reactive_power  \\\n4        16/12/2006  17:28:00                3.666                  0.528   \n5        16/12/2006  17:29:00                3.520                  0.522   \n6        16/12/2006  17:30:00                3.702                  0.520   \n7        16/12/2006  17:31:00                3.700                  0.520   \n14       16/12/2006  17:38:00                4.054                  0.422   \n...             ...       ...                  ...                    ...   \n2075254  26/11/2010  20:58:00                0.946                  0.000   \n2075255  26/11/2010  20:59:00                0.944                  0.000   \n2075256  26/11/2010  21:00:00                0.938                  0.000   \n2075257  26/11/2010  21:01:00                0.934                  0.000   \n2075258  26/11/2010  21:02:00                0.932                  0.000   \n\n         Voltage  Global_intensity  Sub_metering_1  Sub_metering_2  \\\n4         235.68              15.8             0.0             1.0   \n5         235.02              15.0             0.0             2.0   \n6         235.09              15.8             0.0             1.0   \n7         235.22              15.8             0.0             1.0   \n14        235.24              17.6             0.0             1.0   \n...          ...               ...             ...             ...   \n2075254   240.43               4.0             0.0             0.0   \n2075255   240.00               4.0             0.0             0.0   \n2075256   239.82               3.8             0.0             0.0   \n2075257   239.70               3.8             0.0             0.0   \n2075258   239.55               3.8             0.0             0.0   \n\n         Sub_metering_3  \n4                  17.0  \n5                  17.0  \n6                  17.0  \n7                  17.0  \n14                 17.0  \n...                 ...  \n2075254             0.0  \n2075255             0.0  \n2075256             0.0  \n2075257             0.0  \n2075258             0.0  \n\n[1952491 rows x 9 columns]",
      "text/html": "<div>\n<style scoped>\n    .dataframe tbody tr th:only-of-type {\n        vertical-align: middle;\n    }\n\n    .dataframe tbody tr th {\n        vertical-align: top;\n    }\n\n    .dataframe thead th {\n        text-align: right;\n    }\n</style>\n<table border=\"1\" class=\"dataframe\">\n  <thead>\n    <tr style=\"text-align: right;\">\n      <th></th>\n      <th>Date</th>\n      <th>Time</th>\n      <th>Global_active_power</th>\n      <th>Global_reactive_power</th>\n      <th>Voltage</th>\n      <th>Global_intensity</th>\n      <th>Sub_metering_1</th>\n      <th>Sub_metering_2</th>\n      <th>Sub_metering_3</th>\n    </tr>\n  </thead>\n  <tbody>\n    <tr>\n      <th>4</th>\n      <td>16/12/2006</td>\n      <td>17:28:00</td>\n      <td>3.666</td>\n      <td>0.528</td>\n      <td>235.68</td>\n      <td>15.8</td>\n      <td>0.0</td>\n      <td>1.0</td>\n      <td>17.0</td>\n    </tr>\n    <tr>\n      <th>5</th>\n      <td>16/12/2006</td>\n      <td>17:29:00</td>\n      <td>3.520</td>\n      <td>0.522</td>\n      <td>235.02</td>\n      <td>15.0</td>\n      <td>0.0</td>\n      <td>2.0</td>\n      <td>17.0</td>\n    </tr>\n    <tr>\n      <th>6</th>\n      <td>16/12/2006</td>\n      <td>17:30:00</td>\n      <td>3.702</td>\n      <td>0.520</td>\n      <td>235.09</td>\n      <td>15.8</td>\n      <td>0.0</td>\n      <td>1.0</td>\n      <td>17.0</td>\n    </tr>\n    <tr>\n      <th>7</th>\n      <td>16/12/2006</td>\n      <td>17:31:00</td>\n      <td>3.700</td>\n      <td>0.520</td>\n      <td>235.22</td>\n      <td>15.8</td>\n      <td>0.0</td>\n      <td>1.0</td>\n      <td>17.0</td>\n    </tr>\n    <tr>\n      <th>14</th>\n      <td>16/12/2006</td>\n      <td>17:38:00</td>\n      <td>4.054</td>\n      <td>0.422</td>\n      <td>235.24</td>\n      <td>17.6</td>\n      <td>0.0</td>\n      <td>1.0</td>\n      <td>17.0</td>\n    </tr>\n    <tr>\n      <th>...</th>\n      <td>...</td>\n      <td>...</td>\n      <td>...</td>\n      <td>...</td>\n      <td>...</td>\n      <td>...</td>\n      <td>...</td>\n      <td>...</td>\n      <td>...</td>\n    </tr>\n    <tr>\n      <th>2075254</th>\n      <td>26/11/2010</td>\n      <td>20:58:00</td>\n      <td>0.946</td>\n      <td>0.000</td>\n      <td>240.43</td>\n      <td>4.0</td>\n      <td>0.0</td>\n      <td>0.0</td>\n      <td>0.0</td>\n    </tr>\n    <tr>\n      <th>2075255</th>\n      <td>26/11/2010</td>\n      <td>20:59:00</td>\n      <td>0.944</td>\n      <td>0.000</td>\n      <td>240.00</td>\n      <td>4.0</td>\n      <td>0.0</td>\n      <td>0.0</td>\n      <td>0.0</td>\n    </tr>\n    <tr>\n      <th>2075256</th>\n      <td>26/11/2010</td>\n      <td>21:00:00</td>\n      <td>0.938</td>\n      <td>0.000</td>\n      <td>239.82</td>\n      <td>3.8</td>\n      <td>0.0</td>\n      <td>0.0</td>\n      <td>0.0</td>\n    </tr>\n    <tr>\n      <th>2075257</th>\n      <td>26/11/2010</td>\n      <td>21:01:00</td>\n      <td>0.934</td>\n      <td>0.000</td>\n      <td>239.70</td>\n      <td>3.8</td>\n      <td>0.0</td>\n      <td>0.0</td>\n      <td>0.0</td>\n    </tr>\n    <tr>\n      <th>2075258</th>\n      <td>26/11/2010</td>\n      <td>21:02:00</td>\n      <td>0.932</td>\n      <td>0.000</td>\n      <td>239.55</td>\n      <td>3.8</td>\n      <td>0.0</td>\n      <td>0.0</td>\n      <td>0.0</td>\n    </tr>\n  </tbody>\n</table>\n<p>1952491 rows × 9 columns</p>\n</div>"
     },
     "execution_count": 36,
     "metadata": {},
     "output_type": "execute_result"
    }
   ],
   "source": [
    "# task: 2\n",
    "# desc: get all households where voltage is > 235\n",
    "# lib: pandas\n",
    "\n",
    "task_start = time.time()\n",
    "pd_voltage = pd_data[pd_data['Voltage'] > 235]\n",
    "\n",
    "task_end = time.time()\n",
    "elapsed_time = round(task_end - task_start, 6)\n",
    "record('pandas', 'task2', elapsed_time)\n",
    "\n",
    "print(f'{elapsed_time=}')\n",
    "pd_voltage"
   ],
   "metadata": {
    "collapsed": false,
    "ExecuteTime": {
     "end_time": "2024-06-03T14:01:43.297280Z",
     "start_time": "2024-06-03T14:01:43.037867Z"
    }
   },
   "id": "7eda2db3b74aed91",
   "execution_count": 36
  },
  {
   "cell_type": "code",
   "outputs": [],
   "source": [
    "# task: 2\n",
    "# desc: get all households where voltage is > 235\n",
    "# lib: numpy\n",
    "\n",
    "task_start = time.time()\n",
    "\n",
    "np_voltage = np_data[np_data['Voltage'] > 235]\n",
    "\n",
    "task_end = time.time()\n",
    "elapsed_time = round(task_end - task_start,6)\n",
    "record('numpy', 'task2', elapsed_time)\n",
    "print(f'{elapsed_time=}')\n",
    "\n",
    "np_voltage"
   ],
   "metadata": {
    "collapsed": false
   },
   "id": "f12384959ab20fa",
   "execution_count": null
  },
  {
   "cell_type": "code",
   "outputs": [],
   "source": [
    "TIMER"
   ],
   "metadata": {
    "collapsed": false
   },
   "id": "305d31c12826c76b",
   "execution_count": null
  },
  {
   "cell_type": "markdown",
   "source": [
    "Task: No. 3\n",
    "Desc: Обрати всі домогосподарства, у яких сила струму лежить в межах 19-20 А, для них виявити ті, у яких пральна машина та холодильних споживають більше, ніж бойлер та кондиціонер."
   ],
   "metadata": {
    "collapsed": false
   },
   "id": "b4890240aeeac76a"
  },
  {
   "cell_type": "code",
   "outputs": [],
   "source": [
    "\"\"\"\n",
    "task: 3\n",
    "desc: Обрати всі домогосподарства, у яких сила струму лежить в межах 19-20 А, для них виявити ті, у яких пральна машина та холодильних споживають більше, ніж бойлер та кондиціонер.\n",
    "lib: pandas\n",
    "\"\"\"\n",
    "\n",
    "task_start = time.time()\n",
    "temp = pd_data[(pd_data['Global_intensity'] >= 19) & (pd_data['Global_intensity'] <= 20)]\n",
    "\n",
    "specific_consumption = temp[(temp['Sub_metering_1'] + temp['Sub_metering_2']) > (temp['Sub_metering_3'])]\n",
    "task_end = time.time()\n",
    "\n",
    "elapsed_time = round(task_end - task_start, 6)\n",
    "record('pandas', 'task3', elapsed_time)\n",
    "\n",
    "print(f'{elapsed_time=}')\n",
    "specific_consumption"
   ],
   "metadata": {
    "collapsed": false
   },
   "id": "60a95aabdd894c09",
   "execution_count": null
  },
  {
   "cell_type": "code",
   "outputs": [],
   "source": [
    "\"\"\"\n",
    "task: 3\n",
    "desc: Обрати всі домогосподарства, у яких сила струму лежить в межах 19-20 А, для них виявити ті, у яких пральна машина та холодильних споживають більше, ніж бойлер та кондиціонер.\n",
    "lib: numpy\n",
    "\"\"\"\n",
    "\n",
    "task_start = time.time()\n",
    "\n",
    "# Global_intensity col for range >= 19 and <= 20\n",
    "current_range = np_data[(np_data['Global_intensity'] >= 19) & (np_data['Global_intensity'] <= 20)]\n",
    "\n",
    "# sum of the Sub_metering groups\n",
    "sub_metering_1_2 = current_range['Sub_metering_1'] + current_range['Sub_metering_2']\n",
    "sub_metering_3 = current_range['Sub_metering_3']\n",
    "\n",
    "# getting df were sub_metering_1 + sub_metering_2 > sub_metering_3\n",
    "specific_consumption = current_range[sub_metering_1_2 > sub_metering_3]\n",
    "\n",
    "task_end = time.time()\n",
    "elapsed_time = round(task_end - task_start, 6)\n",
    "record('numpy', 'task3', elapsed_time)\n",
    "\n",
    "print(f'{elapsed_time=}')\n",
    "specific_consumption"
   ],
   "metadata": {
    "collapsed": false
   },
   "id": "bebbc1d2d74e5682",
   "execution_count": null
  },
  {
   "cell_type": "code",
   "outputs": [],
   "source": [
    "TIMER"
   ],
   "metadata": {
    "collapsed": false
   },
   "id": "23977100d0c97fed",
   "execution_count": null
  },
  {
   "cell_type": "markdown",
   "source": [
    "Task: No. 4\n",
    "Desc: Обрати випадковим чином 500000 домогосподарств (без повторів елементів вибірки) для них обчислити середні величини усіх 3-х груп споживання електричної енергії"
   ],
   "metadata": {
    "collapsed": false
   },
   "id": "2309787aab5ee9ef"
  },
  {
   "cell_type": "code",
   "outputs": [],
   "source": [
    "\"\"\"\n",
    "task: 4\n",
    "desc: Обрати випадковим чином 500000 домогосподарств (без повторів елементів вибірки) для них обчислити середні величини усіх 3-х груп споживання електричної енергії\n",
    "lib: pandas\n",
    "\"\"\"\n",
    "\n",
    "task_start = time.time()\n",
    "\n",
    "# random 500000 items, random_state - seed for the random generator\n",
    "pd_random_households = pd_data.sample(n=500000, random_state=1).reset_index(drop=True)\n",
    "\n",
    "pd_mean_consumption = pd_random_households[\n",
    "    ['Global_active_power', \n",
    "     'Global_intensity', \n",
    "     'Voltage', \n",
    "     'Sub_metering_1', \n",
    "     'Sub_metering_2', \n",
    "     'Sub_metering_3']\n",
    "].mean()\n",
    "\n",
    "print(f'Mean consumption:\\n{pd_mean_consumption}')\n",
    "\n",
    "task_end = time.time()\n",
    "elapsed_time = round(task_end - task_start, 6)\n",
    "record('pandas', 'task4', elapsed_time)\n",
    "\n",
    "print(f'{elapsed_time=}')\n",
    "pd_random_households"
   ],
   "metadata": {
    "collapsed": false
   },
   "id": "ea9bdd5c04c1ac2b",
   "execution_count": null
  },
  {
   "cell_type": "markdown",
   "source": [
    "Task: No. 5 (4.1)\n",
    "Desc: Обрати ті домогосподарства, які після 18-00 споживають понад **6 кВт** за хвилину в середньому, серед відібраних визначити ті, у яких основне споживання електроенергії у вказаний проміжок часу припадає на пральну машину, сушарку, холодильник та освітлення (група 2 є найбільшою), а потім обрати кожен третій результат із першої половини та кожен четвертий результат із другої половин."
   ],
   "metadata": {
    "collapsed": false
   },
   "id": "d6e15a63b7bad34d"
  },
  {
   "cell_type": "code",
   "outputs": [],
   "source": [
    "# pandas - task5 (4.1)\n",
    "\n",
    "task_start = time.time()\n",
    "\n",
    "time_threshold = pd.to_datetime('18:00:00').time()\n",
    "\n",
    "# 6 кВт past time_threshold\n",
    "pd_evening_consumption = pd_random_households[\n",
    "    (pd_random_households['Time'] >= time_threshold) & \n",
    "    (pd_random_households['Global_active_power'] > 6)\n",
    "]\n",
    "\n",
    "# where consumption in the group 2 is greater than 3 and 1 combined\n",
    "pd_main_consumption = pd_evening_consumption[\n",
    "    pd_evening_consumption['Sub_metering_2'] > \n",
    "    pd_evening_consumption[\n",
    "        ['Sub_metering_1', 'Sub_metering_3']\n",
    "    ].max(axis=1)\n",
    "]\n",
    "\n",
    "# from the first half, every third part\n",
    "pd_first_half = pd_main_consumption.iloc[:len(pd_main_consumption) // 2].iloc[::3]\n",
    "\n",
    "# from the second half, every fourth part\n",
    "pd_second_half = pd_main_consumption.iloc[len(pd_main_consumption) // 2:].iloc[::4]\n",
    "\n",
    "# merging the first and second halves\n",
    "pd_final_selection = pd.concat([pd_first_half, pd_second_half])\n",
    "\n",
    "task_end = time.time()\n",
    "elapsed_time = round(task_end - task_start, 6)\n",
    "record('pandas', 'task5', elapsed_time)\n",
    "\n",
    "print(f'{elapsed_time=}')\n",
    "pd_final_selection"
   ],
   "metadata": {
    "collapsed": false
   },
   "id": "dca4a0adff79fd7e",
   "execution_count": null
  },
  {
   "cell_type": "code",
   "outputs": [],
   "source": [],
   "metadata": {
    "collapsed": false
   },
   "id": "d2c396d5113596b1",
   "execution_count": null
  }
 ],
 "metadata": {
  "kernelspec": {
   "display_name": "Python 3",
   "language": "python",
   "name": "python3"
  },
  "language_info": {
   "codemirror_mode": {
    "name": "ipython",
    "version": 2
   },
   "file_extension": ".py",
   "mimetype": "text/x-python",
   "name": "python",
   "nbconvert_exporter": "python",
   "pygments_lexer": "ipython2",
   "version": "2.7.6"
  }
 },
 "nbformat": 4,
 "nbformat_minor": 5
}
